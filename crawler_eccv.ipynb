{
 "metadata": {
  "language_info": {
   "codemirror_mode": {
    "name": "ipython",
    "version": 3
   },
   "file_extension": ".py",
   "mimetype": "text/x-python",
   "name": "python",
   "nbconvert_exporter": "python",
   "pygments_lexer": "ipython3",
   "version": "3.8.5-final"
  },
  "orig_nbformat": 2,
  "kernelspec": {
   "name": "python3",
   "display_name": "Python 3",
   "language": "python"
  }
 },
 "nbformat": 4,
 "nbformat_minor": 2,
 "cells": [
  {
   "cell_type": "code",
   "execution_count": 1,
   "metadata": {},
   "outputs": [],
   "source": [
    "from selenium import webdriver  \n",
    "import time  \n",
    "import urllib  \n",
    "from selenium.webdriver.common.keys import Keys\n",
    "from selenium.webdriver.common.action_chains import ActionChains\n",
    "from slugify import slugify\n",
    "\n",
    "import random"
   ]
  },
  {
   "cell_type": "code",
   "execution_count": 2,
   "metadata": {},
   "outputs": [],
   "source": [
    "driver = webdriver.Chrome('C:\\\\Users\\\\xiaoyang\\\\Downloads\\\\chromedriver.exe')  \n",
    "base_url = \"https://www.ecva.net/papers.php\"\n",
    "\n",
    "\n",
    "driver.get(base_url)"
   ]
  },
  {
   "cell_type": "code",
   "execution_count": 3,
   "metadata": {},
   "outputs": [
    {
     "output_type": "stream",
     "name": "stdout",
     "text": [
      "./ECCV-2020-ALL\n"
     ]
    }
   ],
   "source": [
    "\n",
    "root = r'.\\ECCV-2020-ALL'.replace('\\\\','/')\n",
    "print(root)"
   ]
  },
  {
   "cell_type": "code",
   "execution_count": 16,
   "metadata": {},
   "outputs": [],
   "source": [
    "elementllist =  driver.find_elements_by_class_name('ptitle')\n"
   ]
  },
  {
   "cell_type": "code",
   "execution_count": 59,
   "metadata": {},
   "outputs": [
    {
     "output_type": "execute_result",
     "data": {
      "text/plain": [
       "'Quaternion Equivariant Capsule Networks for 3D Point Clouds'"
      ]
     },
     "metadata": {},
     "execution_count": 59
    }
   ],
   "source": [
    "elementllist[0].text"
   ]
  },
  {
   "cell_type": "code",
   "execution_count": 42,
   "metadata": {},
   "outputs": [
    {
     "output_type": "execute_result",
     "data": {
      "text/plain": [
       "'Dual Grid Net: Hand Mesh Vertex Regression from Single Depth Maps'"
      ]
     },
     "metadata": {},
     "execution_count": 42
    }
   ],
   "source": [
    "elementllist[-777].text"
   ]
  },
  {
   "cell_type": "code",
   "execution_count": 56,
   "metadata": {},
   "outputs": [
    {
     "output_type": "execute_result",
     "data": {
      "text/plain": [
       "1358"
      ]
     },
     "metadata": {},
     "execution_count": 56
    }
   ],
   "source": [
    "len(elementllist)-776"
   ]
  },
  {
   "cell_type": "code",
   "execution_count": 48,
   "metadata": {},
   "outputs": [],
   "source": [
    "url_elementllist =  driver.find_elements_by_link_text('pdf')\n"
   ]
  },
  {
   "cell_type": "code",
   "execution_count": 54,
   "metadata": {},
   "outputs": [
    {
     "output_type": "stream",
     "name": "stdout",
     "text": [
      "1358\n"
     ]
    }
   ],
   "source": [
    "print(len(url_elementllist))"
   ]
  },
  {
   "cell_type": "code",
   "execution_count": 58,
   "metadata": {},
   "outputs": [
    {
     "output_type": "execute_result",
     "data": {
      "text/plain": [
       "'https://www.ecva.net/papers/eccv_2020/papers_ECCV/papers/123750443.pdf'"
      ]
     },
     "metadata": {},
     "execution_count": 58
    }
   ],
   "source": [
    "url_elementllist[-1].get_attribute('href')"
   ]
  },
  {
   "cell_type": "code",
   "execution_count": 61,
   "metadata": {},
   "outputs": [
    {
     "output_type": "stream",
     "name": "stdout",
     "text": [
      "Quaternion Equivariant Capsule Networks for 3D Point Clouds\n",
      "NSGANetV2: Evolutionary Multi-Objective Surrogate-Assisted Neural Architecture Search\n",
      "\n",
      "num of papers:  1356\n"
     ]
    }
   ],
   "source": [
    "print(elementllist[0].text)\n",
    "print(elementllist[2].text)\n",
    "print(elementllist[-1].text)\n",
    "print('num of papers: ',len(url_elementllist)-2)"
   ]
  },
  {
   "cell_type": "code",
   "execution_count": 60,
   "metadata": {},
   "outputs": [],
   "source": [
    "pdfurllist =  []\n",
    "pdfnamelist = []\n",
    "for i, element in enumerate(url_elementllist): \n",
    "\n",
    "    pdfnamelist.append(elementllist[i].text)\n",
    "    pdfurllist.append(url_elementllist[i].get_attribute('href'))\n"
   ]
  },
  {
   "cell_type": "code",
   "execution_count": 29,
   "metadata": {},
   "outputs": [
    {
     "output_type": "execute_result",
     "data": {
      "text/plain": [
       "'https://papers.nips.cc/paper/2020/file/0004d0b59e19461ff126e3a08a814c33-Paper.pdf'"
      ]
     },
     "metadata": {},
     "execution_count": 29
    }
   ],
   "source": [
    "pdfurllist[0]"
   ]
  },
  {
   "cell_type": "code",
   "execution_count": 62,
   "metadata": {},
   "outputs": [
    {
     "output_type": "stream",
     "name": "stdout",
     "text": [
      "['https://www.ecva.net/papers/eccv_2020/papers_ECCV/papers/123460001.pdf', 'https://www.ecva.net/papers/eccv_2020/papers_ECCV/papers/123460018.pdf', 'https://www.ecva.net/papers/eccv_2020/papers_ECCV/papers/123460035.pdf', 'https://www.ecva.net/papers/eccv_2020/papers_ECCV/papers/123460052.pdf', 'https://www.ecva.net/papers/eccv_2020/papers_ECCV/papers/123460069.pdf', 'https://www.ecva.net/papers/eccv_2020/papers_ECCV/papers/123460086.pdf', 'https://www.ecva.net/papers/eccv_2020/papers_ECCV/papers/123460103.pdf', 'https://www.ecva.net/papers/eccv_2020/papers_ECCV/papers/123460120.pdf', 'https://www.ecva.net/papers/eccv_2020/papers_ECCV/papers/123460137.pdf', 'https://www.ecva.net/papers/eccv_2020/papers_ECCV/papers/123460154.pdf']\n['https://www.ecva.net/papers/eccv_2020/papers_ECCV/papers/123750290.pdf', 'https://www.ecva.net/papers/eccv_2020/papers_ECCV/papers/123750307.pdf', 'https://www.ecva.net/papers/eccv_2020/papers_ECCV/papers/123750324.pdf', 'https://www.ecva.net/papers/eccv_2020/papers_ECCV/papers/123750341.pdf', 'https://www.ecva.net/papers/eccv_2020/papers_ECCV/papers/123750358.pdf', 'https://www.ecva.net/papers/eccv_2020/papers_ECCV/papers/123750375.pdf', 'https://www.ecva.net/papers/eccv_2020/papers_ECCV/papers/123750392.pdf', 'https://www.ecva.net/papers/eccv_2020/papers_ECCV/papers/123750409.pdf', 'https://www.ecva.net/papers/eccv_2020/papers_ECCV/papers/123750426.pdf', 'https://www.ecva.net/papers/eccv_2020/papers_ECCV/papers/123750443.pdf']\n"
     ]
    }
   ],
   "source": [
    "print(pdfurllist[:10])\n",
    "print(pdfurllist[-10:])"
   ]
  },
  {
   "cell_type": "code",
   "execution_count": 63,
   "metadata": {},
   "outputs": [
    {
     "output_type": "execute_result",
     "data": {
      "text/plain": [
       "['Quaternion Equivariant Capsule Networks for 3D Point Clouds',\n",
       " 'DeepFit: 3D Surface Fitting via Neural Network Weighted Least Squares',\n",
       " 'NSGANetV2: Evolutionary Multi-Objective Surrogate-Assisted Neural Architecture Search',\n",
       " 'Describing Textures using Natural Language',\n",
       " 'Empowering Relational Network by Self-Attention Augmented Conditional Random Fields for Group Activity Recognition',\n",
       " 'AiR: Attention with Reasoning Capability',\n",
       " 'Self6D: Self-Supervised Monocular 6D Object Pose Estimation',\n",
       " 'Invertible Image Rescaling',\n",
       " 'Synthesize then Compare: Detecting Failures and Anomalies for Semantic Segmentation',\n",
       " 'House-GAN: Relational Generative Adversarial Networks for Graph-constrained House Layout Generation']"
      ]
     },
     "metadata": {},
     "execution_count": 63
    }
   ],
   "source": [
    "pdfnamelist[:10]"
   ]
  },
  {
   "cell_type": "code",
   "execution_count": 10,
   "metadata": {},
   "outputs": [],
   "source": []
  },
  {
   "cell_type": "code",
   "execution_count": 25,
   "metadata": {},
   "outputs": [
    {
     "output_type": "stream",
     "name": "stdout",
     "text": [
      "0 \t A graph similarity for deep learning Seongmin Ok \t https://papers.nips.cc/paper/2020/file/0004d0b59e19461ff126e3a08a814c33-Paper.pdf\n",
      "1 \t An Unsupervised Information-Theoretic Perceptual Quality Metric Sangnie Bhardwaj, Ian Fischer, Johannes Ballé, Troy Chinen \t https://papers.nips.cc/paper/2020/file/00482b9bed15a272730fcb590ffebddd-Paper.pdf\n",
      "2 \t Self-Supervised MultiModal Versatile Networks Jean-Baptiste Alayrac, Adria Recasens, Rosalia Schneider, Relja Arandjelović, Jason Ramapuram, Jeffrey De Fauw, Lucas Smaira, Sander Dieleman, Andrew Zisserman \t https://papers.nips.cc/paper/2020/file/0060ef47b12160b9198302ebdb144dcf-Paper.pdf\n"
     ]
    },
    {
     "output_type": "error",
     "ename": "FileNotFoundError",
     "evalue": "[Errno 2] No such file or directory: './NeurIPS-2020-ALL/self-supervised-multimodal-versatile-networks-jean-baptiste-alayrac-adria-recasens-rosalia-schneider-relja-arandjelovic-jason-ramapuram-jeffrey-de-fauw-lucas-smaira-sander-dieleman-andrew-zisserman.pdf'",
     "traceback": [
      "\u001b[1;31m---------------------------------------------------------------------------\u001b[0m",
      "\u001b[1;31mFileNotFoundError\u001b[0m                         Traceback (most recent call last)",
      "\u001b[1;32m<ipython-input-25-b4bbe265265d>\u001b[0m in \u001b[0;36m<module>\u001b[1;34m\u001b[0m\n\u001b[0;32m      6\u001b[0m         \u001b[1;31m#                                             replace('>', '').replace('<', '').replace('|', '').replace(':', '.')\u001b[0m\u001b[1;33m\u001b[0m\u001b[1;33m\u001b[0m\u001b[1;33m\u001b[0m\u001b[0m\n\u001b[0;32m      7\u001b[0m         \u001b[0mpdfname\u001b[0m \u001b[1;33m=\u001b[0m \u001b[0mslugify\u001b[0m\u001b[1;33m(\u001b[0m\u001b[0mpdfnamelist\u001b[0m\u001b[1;33m[\u001b[0m\u001b[0mi\u001b[0m\u001b[1;33m]\u001b[0m\u001b[1;33m)\u001b[0m\u001b[1;33m\u001b[0m\u001b[1;33m\u001b[0m\u001b[0m\n\u001b[1;32m----> 8\u001b[1;33m         \u001b[1;32mwith\u001b[0m \u001b[0mopen\u001b[0m\u001b[1;33m(\u001b[0m\u001b[0mroot\u001b[0m\u001b[1;33m+\u001b[0m\u001b[1;34m'/'\u001b[0m\u001b[1;33m+\u001b[0m\u001b[0mpdfname\u001b[0m\u001b[1;33m+\u001b[0m\u001b[1;34m\".pdf\"\u001b[0m\u001b[1;33m,\u001b[0m \u001b[1;34m'wb'\u001b[0m\u001b[1;33m)\u001b[0m  \u001b[1;32mas\u001b[0m \u001b[0mf\u001b[0m\u001b[1;33m:\u001b[0m\u001b[1;33m\u001b[0m\u001b[1;33m\u001b[0m\u001b[0m\n\u001b[0m\u001b[0;32m      9\u001b[0m             \u001b[0mf\u001b[0m\u001b[1;33m.\u001b[0m\u001b[0mwrite\u001b[0m\u001b[1;33m(\u001b[0m\u001b[0mdata\u001b[0m\u001b[1;33m)\u001b[0m\u001b[1;33m\u001b[0m\u001b[1;33m\u001b[0m\u001b[0m\n\u001b[0;32m     10\u001b[0m         \u001b[0m_\u001b[0m \u001b[1;33m=\u001b[0m \u001b[0mtime\u001b[0m\u001b[1;33m.\u001b[0m\u001b[0msleep\u001b[0m\u001b[1;33m(\u001b[0m\u001b[0mrandom\u001b[0m\u001b[1;33m.\u001b[0m\u001b[0muniform\u001b[0m\u001b[1;33m(\u001b[0m\u001b[1;36m4\u001b[0m\u001b[1;33m,\u001b[0m\u001b[1;36m5\u001b[0m\u001b[1;33m)\u001b[0m\u001b[1;33m)\u001b[0m\u001b[1;33m\u001b[0m\u001b[1;33m\u001b[0m\u001b[0m\n",
      "\u001b[1;31mFileNotFoundError\u001b[0m: [Errno 2] No such file or directory: './NeurIPS-2020-ALL/self-supervised-multimodal-versatile-networks-jean-baptiste-alayrac-adria-recasens-rosalia-schneider-relja-arandjelovic-jason-ramapuram-jeffrey-de-fauw-lucas-smaira-sander-dieleman-andrew-zisserman.pdf'"
     ]
    }
   ],
   "source": [
    "for i, url in enumerate(pdfurllist):\n",
    "    if url != None :      \n",
    "        print(i, '\\t', pdfnamelist[i], '\\t', pdfurllist[i])\n",
    "        data = urllib.request.urlopen(pdfurllist[i]).read()\n",
    "        # pdfname = pdfnamelist[i].replace('?', '').replace('\"', '').replace('\\\\', '').replace('/', '').replace('*', ''). \\\n",
    "        #                                             replace('>', '').replace('<', '').replace('|', '').replace(':', '.')\n",
    "        pdfname = slugify(pdfnamelist[i])\n",
    "        with open(root+'/'+pdfname+\".pdf\", 'wb')  as f:\n",
    "            f.write(data)  \n",
    "        _ = time.sleep(random.uniform(4,5))"
   ]
  },
  {
   "cell_type": "code",
   "execution_count": null,
   "metadata": {},
   "outputs": [],
   "source": []
  },
  {
   "cell_type": "code",
   "execution_count": null,
   "metadata": {},
   "outputs": [],
   "source": []
  },
  {
   "cell_type": "code",
   "execution_count": null,
   "metadata": {},
   "outputs": [],
   "source": []
  },
  {
   "cell_type": "code",
   "execution_count": null,
   "metadata": {},
   "outputs": [],
   "source": []
  },
  {
   "cell_type": "code",
   "execution_count": null,
   "metadata": {},
   "outputs": [],
   "source": []
  },
  {
   "cell_type": "code",
   "execution_count": null,
   "metadata": {},
   "outputs": [],
   "source": []
  },
  {
   "cell_type": "code",
   "execution_count": null,
   "metadata": {},
   "outputs": [],
   "source": []
  },
  {
   "cell_type": "code",
   "execution_count": null,
   "metadata": {},
   "outputs": [],
   "source": []
  },
  {
   "cell_type": "code",
   "execution_count": 53,
   "metadata": {},
   "outputs": [
    {
     "output_type": "execute_result",
     "data": {
      "text/plain": [
       "2272358"
      ]
     },
     "metadata": {},
     "execution_count": 53
    }
   ],
   "source": [
    "# pdfname = shorturl[shorturl.rindex(\"/\")+1:]\n",
    "data = urllib.request.urlopen(pdfurllist[1]).read()\n",
    "with open(pdfnamelist[1]+\".pdf\", 'wb')  as f:\n",
    "    f.write(data)  \n",
    "time.sleep(random.uniform(4,5))"
   ]
  },
  {
   "cell_type": "code",
   "execution_count": 25,
   "metadata": {},
   "outputs": [
    {
     "output_type": "execute_result",
     "data": {
      "text/plain": [
       "'Beyond Fully-Connected Layers with Quaternions. Parameterization of Hypercomplex Multiplications with\\n1n\\nParameters'"
      ]
     },
     "metadata": {},
     "execution_count": 25
    }
   ],
   "source": [
    "'Beyond Fully-Connected Layers with Quaternions. Parameterization of Hypercomplex Multiplications with\\n1n\\nParameters'[:255]#.replace('\\\\', '')"
   ]
  },
  {
   "cell_type": "code",
   "execution_count": 28,
   "metadata": {},
   "outputs": [
    {
     "output_type": "execute_result",
     "data": {
      "text/plain": [
       "'beyond-fully-connected-layers-with-quaternions-parameterization-of-hypercomplex-multiplications-with-1n-parameters'"
      ]
     },
     "metadata": {},
     "execution_count": 28
    }
   ],
   "source": [
    "slugify('Beyond Fully-Connected Layers with Quaternions. Parameterization of Hypercomplex Multiplications with\\n1n\\nParameters')"
   ]
  },
  {
   "cell_type": "code",
   "execution_count": 27,
   "metadata": {},
   "outputs": [
    {
     "output_type": "execute_result",
     "data": {
      "text/plain": [
       "'Beyond Fully-Connected Layers with Quaternions. Parameterization of Hypercomplex Multiplications with1nParameters'"
      ]
     },
     "metadata": {},
     "execution_count": 27
    }
   ],
   "source": [
    "\"\".join( x for x in 'Beyond Fully-Connected Layers with Quaternions. Parameterization of Hypercomplex Multiplications with\\n1n\\nParameters' if (x.isalnum() or x in \"._- \"))"
   ]
  },
  {
   "cell_type": "code",
   "execution_count": null,
   "metadata": {},
   "outputs": [],
   "source": [
    "\n",
    "# driver = webdriver.Chrome('C:\\Program Files (x86)\\Google\\Chrome\\Application\\chromedriver.exe')  \n",
    "\n",
    "# driver.get(\"https://openreview.net/group?id=ICLR.cc/2021/Conference\")\n",
    "# # elem = driver.find_element_by_id(\"ext-gen67\")\n",
    "# # #elem.send_keys(Keys.RETURN)\n",
    "# # print(elem)\n",
    "# # elem.click()\n",
    "\n",
    "# i= 0\n",
    "# elementllist =  driver.find_elements_by_name(\"FullTextPDF\")\n",
    "# pdfurllist =  []\n",
    "\n",
    "# for element in elementllist: \n",
    "#     pdfurllist.append(element.get_attribute('href'))\n",
    "#     i = i+1\n",
    "\n",
    "# import os\n",
    "# os.mkdir(\"chi2012\")\n",
    "\n",
    "# i = 0\n",
    "# for url in pdfurllist:\n",
    "#     if url != None :      \n",
    "#         i = i+1\n",
    "#         print i\n",
    "#         driver.get(url)\n",
    "#         pdf = driver.current_url\n",
    "#         shorturl = pdf[0:pdf.index(\".pdf\")]\n",
    "#         pdfname = shorturl[shorturl.rindex(\"/\")+1:]\n",
    "#         print pdfname\n",
    "#         data = urllib.urlopen(pdf).read()\n",
    "#         f = open(\"pdf\\\\\"+pdfname+\".pdf\", 'wb')  \n",
    "#         f.write(data)  \n",
    "#         f.close()  \n",
    "\n",
    "# driver.close()"
   ]
  }
 ]
}