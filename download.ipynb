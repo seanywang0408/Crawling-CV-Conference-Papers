{
 "cells": [
  {
   "cell_type": "code",
   "execution_count": null,
   "metadata": {},
   "outputs": [],
   "source": [
    "from selenium import webdriver  \n",
    "import time  \n",
    "import urllib  \n",
    "from slugify import slugify\n",
    "import requests\n",
    "import random\n",
    "import os"
   ]
  },
  {
   "cell_type": "code",
   "execution_count": null,
   "metadata": {},
   "outputs": [],
   "source": [
    "\n",
    "\"\"\"\n",
    "some variables needed to be set up by users\n",
    "\"\"\"\n",
    "conference = 'cvpr'\n",
    "conference_url = \"https://openaccess.thecvf.com/CVPR2022?day=all\" # the conference url to download papers from\n",
    "edgedriver_path = 'C:\\\\Users\\\\xiaoyang\\\\Downloads\\\\edgedriver_win64\\msedgedriver.exe' # the chromedriver.exe path\n",
    "root = r'E:\\OneDrive\\academics\\papers\\conferences\\CVPR-2022-ALL'.replace('\\\\','/') # file path to save the downloaded papers\n",
    "\n",
    "os.makedirs(root, exist_ok=True)\n",
    "print(root)"
   ]
  },
  {
   "cell_type": "code",
   "execution_count": null,
   "metadata": {},
   "outputs": [],
   "source": [
    "\"\"\"\n",
    "conference urls examples\n",
    "\n",
    "cvpr: https://openaccess.thecvf.com/CVPR2020 (CVPR 2020)\n",
    "eccv: https://openaccess.thecvf.com/ECCV2018 (ECCV 2018)\n",
    "eccv: https://www.ecva.net/papers.php (ECCV 2020) (changed in 2020)\n",
    "iccv: https://openaccess.thecvf.com/ICCV2019 (ICCV 2019)\n",
    "icml: http://proceedings.mlr.press/v119/ (ICML 2020)\n",
    "icml: http://proceedings.mlr.press/v139/ (ICML 2021)\n",
    "neurips: https://papers.nips.cc/paper/2020 (NeurIPS 2020)\n",
    "iclr: https://openreview.net/group?id=ICLR.cc/2021/Conference (ICLR 2021)\n",
    "siggraph: https://dl.acm.org/toc/tog/2020/39/4 (SIGGRAPH 2021)\n",
    "\n",
    "\"\"\"\n",
    "\n",
    "\n"
   ]
  },
  {
   "cell_type": "code",
   "execution_count": null,
   "metadata": {},
   "outputs": [],
   "source": [
    "driver = webdriver.Edge(edgedriver_path)  \n",
    "driver.get(conference_url)\n",
    "\n",
    "def retrieve_from_cvpr2022(driver):\n",
    "    pdfurllist =  []\n",
    "    pdfnamelist = []\n",
    "\n",
    "    title_element_list = driver.find_elements_by_class_name('ptitle')\n",
    "    url_element_list = driver.find_elements_by_partial_link_text('pdf')\n",
    "    for i, element in enumerate(url_element_list): \n",
    "        pdfnamelist.append(title_element_list[i].text)\n",
    "        pdfurllist.append(url_element_list[i].get_attribute('href'))        \n",
    "    return pdfurllist, pdfnamelist\n",
    "\n",
    "print('Retrieving pdf urls. This could take some time...')\n",
    "pdfurllist, pdfnamelist = retrieve_from_cvpr2022(driver)\n",
    "\n"
   ]
  },
  {
   "cell_type": "code",
   "execution_count": null,
   "metadata": {},
   "outputs": [],
   "source": [
    "# check the retrieved urls\n",
    "print('The first 5 pdf urls:\\n')\n",
    "for i in range(5):\n",
    "    print(pdfurllist[i])\n",
    "print('\\nThe last 5 pdf urls:\\n')\n",
    "for i in range(5):\n",
    "    print(pdfurllist[-(i+1)])\n"
   ]
  },
  {
   "cell_type": "code",
   "execution_count": null,
   "metadata": {},
   "outputs": [],
   "source": [
    "# check the retrieved paper titles\n",
    "print('The first 5 pdf titles:\\n')\n",
    "for i in range(5):\n",
    "    \n",
    "    print(pdfnamelist[i])\n",
    "print('\\nThe last 5 pdf titles:\\n')\n",
    "for i in range(5):\n",
    "    print(pdfnamelist[-(i+1)])\n"
   ]
  },
  {
   "cell_type": "code",
   "execution_count": null,
   "metadata": {},
   "outputs": [],
   "source": [
    "print('The number of papers is ', len(pdfnamelist))\n",
    "assert len(pdfnamelist)==len(pdfurllist), 'The number of titles and the number of urls are not matched. \\\n",
    "                                            You might solve the problem by checking the HTML code in the \\\n",
    "                                            website yourself or you could ask the author by raising an issue.'"
   ]
  },
  {
   "cell_type": "code",
   "execution_count": null,
   "metadata": {
    "tags": []
   },
   "outputs": [],
   "source": [
    "# download the papers one by one. The files are named after the titles (guaranteed to be valid file name after processed by slugify.)\n",
    "print('Start downloading')\n",
    "headers = {'user-agent': 'Mozilla/5.0 (Windows NT 10.0; WOW64; rv:57.0) Gecko/20100101 Firefox/57.0'}\n",
    "for i, url in enumerate(pdfurllist):\n",
    "    if url != None :      \n",
    "        pdfname = slugify(pdfnamelist[i])\n",
    "        if os.path.isfile(root+'/'+pdfname+\".pdf\"):\n",
    "            print('existed', i, '\\t', pdfnamelist[i], '\\t', pdfurllist[i])\n",
    "        else:\n",
    "            print(i, '\\t', pdfnamelist[i], '\\t', pdfurllist[i])\n",
    "            \n",
    "            try_download = True\n",
    "            while try_download:\n",
    "                try:\n",
    "                    data = requests.get(pdfurllist[i], timeout=80, headers=headers).content\n",
    "                    try_download = False\n",
    "                except TimeoutError as e:\n",
    "                    _ = time.sleep(random.uniform(1,2)) # for anti-anti-crawler purpose\n",
    "                except ConnectionError as e: \n",
    "                    _ = time.sleep(random.uniform(1,2)) # for anti-anti-crawler purpose\n",
    "                \n",
    "                    \n",
    "            with open(root+'/'+pdfname+\".pdf\", 'wb')  as f:\n",
    "                f.write(data)  "
   ]
  }
 ],
 "metadata": {
  "kernelspec": {
   "display_name": "Python 3.8.5 ('base')",
   "language": "python",
   "name": "python3"
  },
  "language_info": {
   "codemirror_mode": {
    "name": "ipython",
    "version": 3
   },
   "file_extension": ".py",
   "mimetype": "text/x-python",
   "name": "python",
   "nbconvert_exporter": "python",
   "pygments_lexer": "ipython3",
   "version": "3.8.5"
  },
  "orig_nbformat": 2,
  "vscode": {
   "interpreter": {
    "hash": "7ecc562b0f8af5e03a68e96c6838c657882867a4a8d794a8d0b0e8d85e36467f"
   }
  }
 },
 "nbformat": 4,
 "nbformat_minor": 2
}
