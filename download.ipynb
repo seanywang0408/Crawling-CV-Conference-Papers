{
 "metadata": {
  "language_info": {
   "codemirror_mode": {
    "name": "ipython",
    "version": 3
   },
   "file_extension": ".py",
   "mimetype": "text/x-python",
   "name": "python",
   "nbconvert_exporter": "python",
   "pygments_lexer": "ipython3",
   "version": "3.8.5"
  },
  "orig_nbformat": 2,
  "kernelspec": {
   "name": "python3",
   "display_name": "Python 3.8.5 64-bit ('base': conda)"
  },
  "interpreter": {
   "hash": "7c16dd9570c275ceb1b29686f39d4c11b50b517b5c1e89dcad271181d964a2f7"
  }
 },
 "nbformat": 4,
 "nbformat_minor": 2,
 "cells": [
  {
   "cell_type": "code",
   "execution_count": 1,
   "metadata": {},
   "outputs": [],
   "source": [
    "from selenium import webdriver  \n",
    "import time  \n",
    "import urllib  \n",
    "from slugify import slugify\n",
    "import requests\n",
    "import random\n",
    "import os"
   ]
  },
  {
   "cell_type": "code",
   "execution_count": 2,
   "metadata": {},
   "outputs": [
    {
     "output_type": "stream",
     "name": "stdout",
     "text": [
      "E:/OneDrive/academics/papers/conferences/SIGGRAPH-2018-ALL\n"
     ]
    }
   ],
   "source": [
    "\n",
    "\"\"\"\n",
    "some variables needed to be set up by users\n",
    "\"\"\"\n",
    "conference = 'siggraph'\n",
    "conference_url = \"https://dl.acm.org/toc/tog/2018/37/4\" # the conference url to download papers from\n",
    "chromedriver_path = 'C:\\\\Users\\\\xiaoyang\\\\Downloads\\\\chromedriver.exe' # the chromedriver.exe path\n",
    "root = r'E:\\OneDrive\\academics\\papers\\conferences\\SIGGRAPH-2018-ALL'.replace('\\\\','/') # file path to save the downloaded papers\n",
    "\n",
    "os.makedirs(root, exist_ok=True)\n",
    "print(root)"
   ]
  },
  {
   "cell_type": "code",
   "execution_count": 3,
   "metadata": {},
   "outputs": [
    {
     "output_type": "execute_result",
     "data": {
      "text/plain": [
       "'\\nconference urls examples\\n\\ncvpr: https://openaccess.thecvf.com/CVPR2020 (CVPR 2020)\\neccv: https://openaccess.thecvf.com/ECCV2018 (ECCV 2018)\\neccv: https://www.ecva.net/papers.php (ECCV 2020) (changed in 2020)\\niccv: https://openaccess.thecvf.com/ICCV2019 (ICCV 2019)\\nicml: http://proceedings.mlr.press/v119/ (ICML 2020)\\nneurips: https://papers.nips.cc/paper/2020 (NeurIPS 2020)\\niclr: https://openreview.net/group?id=ICLR.cc/2021/Conference (ICLR 2021)\\nsiggraph: https://dl.acm.org/toc/tog/2020/39/4 (SIGGRAPH 2021)\\n\\n'"
      ]
     },
     "metadata": {},
     "execution_count": 3
    }
   ],
   "source": [
    "\"\"\"\n",
    "conference urls examples\n",
    "\n",
    "cvpr: https://openaccess.thecvf.com/CVPR2020 (CVPR 2020)\n",
    "eccv: https://openaccess.thecvf.com/ECCV2018 (ECCV 2018)\n",
    "eccv: https://www.ecva.net/papers.php (ECCV 2020) (changed in 2020)\n",
    "iccv: https://openaccess.thecvf.com/ICCV2019 (ICCV 2019)\n",
    "icml: http://proceedings.mlr.press/v119/ (ICML 2020)\n",
    "neurips: https://papers.nips.cc/paper/2020 (NeurIPS 2020)\n",
    "iclr: https://openreview.net/group?id=ICLR.cc/2021/Conference (ICLR 2021)\n",
    "siggraph: https://dl.acm.org/toc/tog/2020/39/4 (SIGGRAPH 2021)\n",
    "\n",
    "\"\"\"\n",
    "\n",
    "\n"
   ]
  },
  {
   "cell_type": "code",
   "execution_count": 55,
   "metadata": {},
   "outputs": [
    {
     "output_type": "stream",
     "name": "stdout",
     "text": [
      "Retrieving pdf urls. This could take some time...\n"
     ]
    }
   ],
   "source": [
    "driver = webdriver.Chrome(chromedriver_path)  \n",
    "driver.get(conference_url)\n",
    "\n",
    "from retrieve_titles_urls_from_websites import *\n",
    "retrieve = globals()['retrieve_from_'+conference]\n",
    "print('Retrieving pdf urls. This could take some time...')\n",
    "pdfurllist, pdfnamelist = retrieve(driver)\n",
    "\n"
   ]
  },
  {
   "cell_type": "code",
   "execution_count": 56,
   "metadata": {},
   "outputs": [
    {
     "output_type": "stream",
     "name": "stdout",
     "text": [
      "The first 5 pdf urls:\n\nhttps://dl.acm.org/doi/pdf/10.1145/3197517.3201359\nhttps://dl.acm.org/doi/pdf/10.1145/3197517.3201331\nhttps://dl.acm.org/doi/pdf/10.1145/3197517.3201290\nhttps://dl.acm.org/doi/pdf/10.1145/3197517.3201337\nhttps://dl.acm.org/doi/pdf/10.1145/3197517.3201396\n\nThe last 5 pdf urls:\n\nhttps://dl.acm.org/doi/pdf/10.1145/3197517.3201326\nhttps://dl.acm.org/doi/pdf/10.1145/3197517.3201399\nhttps://dl.acm.org/doi/pdf/10.1145/3197517.3201302\nhttps://dl.acm.org/doi/pdf/10.1145/3197517.3201350\nhttps://dl.acm.org/doi/pdf/10.1145/3197517.3201283\n"
     ]
    }
   ],
   "source": [
    "# check the retrieved urls\n",
    "print('The first 5 pdf urls:\\n')\n",
    "for i in range(5):\n",
    "    print(pdfurllist[i])\n",
    "print('\\nThe last 5 pdf urls:\\n')\n",
    "for i in range(5):\n",
    "    print(pdfurllist[-(i+1)])\n"
   ]
  },
  {
   "cell_type": "code",
   "execution_count": 57,
   "metadata": {},
   "outputs": [
    {
     "output_type": "stream",
     "name": "stdout",
     "text": [
      "The first 5 pdf titles:\n\nBlended cured quasi-newton for distortion optimization\nProgressive parameterizations\nAnderson acceleration for geometry optimization and physics simulation\nFast winding numbers for soups and clouds\nVoxel cores: efficient, robust, and provably good approximation of 3D medial axes\n\nThe last 5 pdf titles:\n\nToonsynth: example-based synthesis of hand-colored cartoon animations\nOnline optical marker-based hand tracking with deep labels\nRobust solving of optical motion capture data by denoising\nHeadon: real-time reenactment of human portrait videos\nDeep video portraits\n"
     ]
    }
   ],
   "source": [
    "# check the retrieved paper titles\n",
    "print('The first 5 pdf titles:\\n')\n",
    "for i in range(5):\n",
    "    print(pdfnamelist[i])\n",
    "print('\\nThe last 5 pdf titles:\\n')\n",
    "for i in range(5):\n",
    "    print(pdfnamelist[-(i+1)])\n"
   ]
  },
  {
   "cell_type": "code",
   "execution_count": 58,
   "metadata": {},
   "outputs": [
    {
     "output_type": "stream",
     "name": "stdout",
     "text": [
      "The number of papers is  128\n"
     ]
    }
   ],
   "source": [
    "print('The number of papers is ', len(pdfnamelist))\n",
    "assert len(pdfnamelist)==len(pdfurllist), 'The number of titles and the number of urls are not matched. \\\n",
    "                                            You might solve the problem by checking the HTML code in the \\\n",
    "                                            website yourself or you could ask the author by raising an issue.'"
   ]
  },
  {
   "cell_type": "code",
   "execution_count": 8,
   "metadata": {
    "tags": []
   },
   "outputs": [
    {
     "output_type": "stream",
     "name": "stdout",
     "text": [
      "Start downloading\n",
      "0 \t Efficient rendering of layered materials using an atomic decomposition with statistical operators \t https://dl.acm.org/doi/pdf/10.1145/3197517.3201289\n",
      "1 \t The layer laboratory: a calculus for additive and subtractive composition of anisotropic surface reflectance \t https://dl.acm.org/doi/pdf/10.1145/3197517.3201321\n",
      "2 \t Rendering specular microgeometry with wave optics \t https://dl.acm.org/doi/pdf/10.1145/3197517.3201351\n",
      "3 \t Gaussian material synthesis \t https://dl.acm.org/doi/pdf/10.1145/3197517.3201307\n",
      "4 \t Developability of triangle meshes \t https://dl.acm.org/doi/pdf/10.1145/3197517.3201303\n",
      "5 \t Shape representation by zippables \t https://dl.acm.org/doi/pdf/10.1145/3197517.3201347\n",
      "6 \t Gradient-domain volumetric photon density estimation \t https://dl.acm.org/doi/pdf/10.1145/3197517.3201363\n",
      "7 \t A radiative transfer framework for spatially-correlated materials \t https://dl.acm.org/doi/pdf/10.1145/3197517.3201282\n",
      "8 \t Example-based turbulence style transfer \t https://dl.acm.org/doi/pdf/10.1145/3197517.3201398\n",
      "9 \t An advection-reflection solver for detail-preserving fluid simulation \t https://dl.acm.org/doi/pdf/10.1145/3197517.3201324\n",
      "10 \t An extended partitioned method for conservative solid-fluid coupling \t https://dl.acm.org/doi/pdf/10.1145/3197517.3201345\n",
      "11 \t Scalable laplacian eigenfluids \t https://dl.acm.org/doi/pdf/10.1145/3197517.3201352\n",
      "12 \t Creating and chaining camera moves for qadrotor videography \t https://dl.acm.org/doi/pdf/10.1145/3197517.3201284\n",
      "13 \t Learning three-dimensional flow for interactive aerodynamic design \t https://dl.acm.org/doi/pdf/10.1145/3197517.3201325\n",
      "14 \t Optimizing for aesthetically pleasing quadrotor camera motion \t https://dl.acm.org/doi/pdf/10.1145/3197517.3201390\n",
      "15 \t Integer-only cross field computation \t https://dl.acm.org/doi/pdf/10.1145/3197517.3201375\n",
      "16 \t Quadrangulation through morse-parameterization hybridization \t https://dl.acm.org/doi/pdf/10.1145/3197517.3201354\n",
      "17 \t Singularity-constrained octahedral fields for hexahedral meshing \t https://dl.acm.org/doi/pdf/10.1145/3197517.3201344\n",
      "18 \t Water surface wavelets \t https://dl.acm.org/doi/pdf/10.1145/3197517.3201336\n",
      "19 \t tempoGAN: a temporally coherent, volumetric GAN for super-resolution fluid flow \t https://dl.acm.org/doi/pdf/10.1145/3197517.3201304\n",
      "20 \t Fluid directed rigid body control using deep reinforcement learning \t https://dl.acm.org/doi/pdf/10.1145/3197517.3201334\n",
      "21 \t StrokeAggregator: consolidating raw sketches into artist-intended curve drawings \t https://dl.acm.org/doi/pdf/10.1145/3197517.3201314\n",
      "22 \t Real-time data-driven interactive rough sketch inking \t https://dl.acm.org/doi/pdf/10.1145/3197517.3201370\n",
      "23 \t Faceshop: deep sketch-based face image editing \t https://dl.acm.org/doi/pdf/10.1145/3197517.3201393\n",
      "24 \t Space-time tomography for continuously deforming objects \t https://dl.acm.org/doi/pdf/10.1145/3197517.3201298\n",
      "25 \t Instant 3D photography \t https://dl.acm.org/doi/pdf/10.1145/3197517.3201384\n",
      "26 \t Reconstructing scenes with mirror and glass surfaces \t https://dl.acm.org/doi/pdf/10.1145/3197517.3201319\n",
      "27 \t Full 3D reconstruction of transparent objects \t https://dl.acm.org/doi/pdf/10.1145/3197517.3201286\n",
      "28 \t Object-aware guidance for autonomous scene reconstruction \t https://dl.acm.org/doi/pdf/10.1145/3197517.3201295\n",
      "29 \t Optimal cone singularities for conformal flattening \t https://dl.acm.org/doi/pdf/10.1145/3197517.3201367\n",
      "30 \t Rapid deployment of curved surfaces via programmable auxetics \t https://dl.acm.org/doi/pdf/10.1145/3197517.3201373\n",
      "31 \t Designing patterns using triangle-quad hybrid meshes \t https://dl.acm.org/doi/pdf/10.1145/3197517.3201306\n",
      "32 \t Parametric directional coding for precomputed sound propagation \t https://dl.acm.org/doi/pdf/10.1145/3197517.3201339\n",
      "33 \t Toward wave-based sound synthesis for computer animation \t https://dl.acm.org/doi/pdf/10.1145/3197517.3201318\n",
      "34 \t Multi-scale simulation of nonlinear thin-shell sound with wave turbulence \t https://dl.acm.org/doi/pdf/10.1145/3197517.3201361\n",
      "35 \t Scene-aware audio for 360° videos \t https://dl.acm.org/doi/pdf/10.1145/3197517.3201391\n",
      "36 \t Looking to listen at the cocktail party: a speaker-independent audio-visual model for speech separation \t https://dl.acm.org/doi/pdf/10.1145/3197517.3201357\n",
      "37 \t Single-photon 3D imaging with deep sensor fusion \t https://dl.acm.org/doi/pdf/10.1145/3197517.3201316\n",
      "38 \t End-to-end optimization of optics and image processing for achromatic extended depth of field and super-resolution imaging \t https://dl.acm.org/doi/pdf/10.1145/3197517.3201333\n",
      "39 \t Megapixel adaptive optics: towards correcting large-scale distortions in computational cameras \t https://dl.acm.org/doi/pdf/10.1145/3197517.3201299\n",
      "40 \t What characterizes personalities of graphic designs? \t https://dl.acm.org/doi/pdf/10.1145/3197517.3201355\n",
      "41 \t Scale-aware black-and-white abstraction of 3D shapes \t https://dl.acm.org/doi/pdf/10.1145/3197517.3201372\n",
      "42 \t Perception-driven semi-structured boundary vectorization \t https://dl.acm.org/doi/pdf/10.1145/3197517.3201312\n",
      "43 \t Fast and deep deformation approximations \t https://dl.acm.org/doi/pdf/10.1145/3197517.3201300\n",
      "44 \t Numerical coarsening using discontinuous shape functions \t https://dl.acm.org/doi/pdf/10.1145/3197517.3201386\n",
      "45 \t Magnetization dynamics for magnetic object interactions \t https://dl.acm.org/doi/pdf/10.1145/3197517.3201402\n",
      "46 \t Visual rhythm and beat \t https://dl.acm.org/doi/pdf/10.1145/3197517.3201371\n",
      "47 \t Perception-aware modeling and fabrication of digital drawing tools \t https://dl.acm.org/doi/pdf/10.1145/3197517.3201322\n",
      "48 \t Denoising with kernel prediction and asymmetric loss functions \t https://dl.acm.org/doi/pdf/10.1145/3197517.3201388\n",
      "49 \t Bayesian online regression for adaptive direct illumination sampling \t https://dl.acm.org/doi/pdf/10.1145/3197517.3201340\n",
      "50 \t Deep image-based relighting from optimal sparse samples \t https://dl.acm.org/doi/pdf/10.1145/3197517.3201313\n",
      "51 \t Efficient reflectance capture using an autoencoder \t https://dl.acm.org/doi/pdf/10.1145/3197517.3201279\n",
      "52 \t Single-image SVBRDF capture with a rendering-aware deep network \t https://dl.acm.org/doi/pdf/10.1145/3197517.3201378\n",
      "53 \t Polyhedral voronoi diagrams for additive manufacturing \t https://dl.acm.org/doi/pdf/10.1145/3197517.3201343\n",
      "54 \t Stitch meshing \t https://dl.acm.org/doi/pdf/10.1145/3197517.3201360\n",
      "55 \t Interactive exploration of design trade-offs \t https://dl.acm.org/doi/pdf/10.1145/3197517.3201385\n",
      "56 \t Autocomplete 3D sculpting \t https://dl.acm.org/doi/pdf/10.1145/3197517.3201297\n",
      "57 \t Foldsketch: enriching garments with physically reproducible folds \t https://dl.acm.org/doi/pdf/10.1145/3197517.3201310\n",
      "58 \t Support-free volume printing by multi-axis motion \t https://dl.acm.org/doi/pdf/10.1145/3197517.3201342\n",
      "59 \t CoreCavity: interactive shell decomposition for fabrication with two-piece rigid molds \t https://dl.acm.org/doi/pdf/10.1145/3197517.3201341\n",
      "60 \t Metamolds: computational design of silicone molds \t https://dl.acm.org/doi/pdf/10.1145/3197517.3201381\n",
      "61 \t DSCarver: decompose-and-spiral-carve for subtractive manufacturing \t https://dl.acm.org/doi/pdf/10.1145/3197517.3201338\n",
      "62 \t Scanner: efficient video analysis at scale \t https://dl.acm.org/doi/pdf/10.1145/3197517.3201394\n",
      "63 \t Differentiable programming for image processing and deep learning in halide \t https://dl.acm.org/doi/pdf/10.1145/3197517.3201383\n",
      "64 \t A high-performance software graphics pipeline architecture for the GPU \t https://dl.acm.org/doi/pdf/10.1145/3197517.3201374\n",
      "65 \t Slang: language mechanisms for extensible real-time shading systems \t https://dl.acm.org/doi/pdf/10.1145/3197517.3201380\n",
      "66 \t Learning basketball dribbling skills using trajectory optimization and deep reinforcement learning \t https://dl.acm.org/doi/pdf/10.1145/3197517.3201315\n",
      "67 \t DeepMimic: example-guided deep reinforcement learning of physics-based character skills \t https://dl.acm.org/doi/pdf/10.1145/3197517.3201311\n",
      "68 \t Learning symmetric and low-energy locomotion \t https://dl.acm.org/doi/pdf/10.1145/3197517.3201397\n",
      "69 \t Mode-adaptive neural networks for quadruped motion control \t https://dl.acm.org/doi/pdf/10.1145/3197517.3201366\n",
      "70 \t Physical simulation of environmentally induced thin shell deformation \t https://dl.acm.org/doi/pdf/10.1145/3197517.3201395\n",
      "71 \t A material point method for thin shells with frictional contact \t https://dl.acm.org/doi/pdf/10.1145/3197517.3201346\n",
      "72 \t Mechanical characterization of structured sheet materials \t https://dl.acm.org/doi/pdf/10.1145/3197517.3201278\n"
     ]
    },
    {
     "output_type": "error",
     "ename": "KeyboardInterrupt",
     "evalue": "",
     "traceback": [
      "\u001b[1;31m---------------------------------------------------------------------------\u001b[0m",
      "\u001b[1;31mKeyboardInterrupt\u001b[0m                         Traceback (most recent call last)",
      "\u001b[1;32m<ipython-input-8-ccadc22f9572>\u001b[0m in \u001b[0;36m<module>\u001b[1;34m\u001b[0m\n\u001b[0;32m     13\u001b[0m             \u001b[1;32mwith\u001b[0m \u001b[0mopen\u001b[0m\u001b[1;33m(\u001b[0m\u001b[0mroot\u001b[0m\u001b[1;33m+\u001b[0m\u001b[1;34m'/'\u001b[0m\u001b[1;33m+\u001b[0m\u001b[0mpdfname\u001b[0m\u001b[1;33m+\u001b[0m\u001b[1;34m\".pdf\"\u001b[0m\u001b[1;33m,\u001b[0m \u001b[1;34m'wb'\u001b[0m\u001b[1;33m)\u001b[0m  \u001b[1;32mas\u001b[0m \u001b[0mf\u001b[0m\u001b[1;33m:\u001b[0m\u001b[1;33m\u001b[0m\u001b[1;33m\u001b[0m\u001b[0m\n\u001b[0;32m     14\u001b[0m                 \u001b[0mf\u001b[0m\u001b[1;33m.\u001b[0m\u001b[0mwrite\u001b[0m\u001b[1;33m(\u001b[0m\u001b[0mdata\u001b[0m\u001b[1;33m)\u001b[0m\u001b[1;33m\u001b[0m\u001b[1;33m\u001b[0m\u001b[0m\n\u001b[1;32m---> 15\u001b[1;33m             \u001b[0m_\u001b[0m \u001b[1;33m=\u001b[0m \u001b[0mtime\u001b[0m\u001b[1;33m.\u001b[0m\u001b[0msleep\u001b[0m\u001b[1;33m(\u001b[0m\u001b[0mrandom\u001b[0m\u001b[1;33m.\u001b[0m\u001b[0muniform\u001b[0m\u001b[1;33m(\u001b[0m\u001b[1;36m4\u001b[0m\u001b[1;33m,\u001b[0m\u001b[1;36m5\u001b[0m\u001b[1;33m)\u001b[0m\u001b[1;33m)\u001b[0m \u001b[1;31m# for anti-anti-crawler purpose\u001b[0m\u001b[1;33m\u001b[0m\u001b[1;33m\u001b[0m\u001b[0m\n\u001b[0m",
      "\u001b[1;31mKeyboardInterrupt\u001b[0m: "
     ]
    }
   ],
   "source": [
    "# download the papers one by one. The files are named after the titles (guaranteed to be valid file name after processed by slugify.)\n",
    "print('Start downloading')\n",
    "headers = {'user-agent': 'Mozilla/5.0 (Windows NT 10.0; WOW64; rv:57.0) Gecko/20100101 Firefox/57.0'}\n",
    "for i, url in enumerate(pdfurllist):\n",
    "    if url != None :      \n",
    "        pdfname = slugify(pdfnamelist[i])\n",
    "        if os.path.isfile(root+'/'+pdfname+\".pdf\"):\n",
    "            print('existed', i, '\\t', pdfnamelist[i], '\\t', pdfurllist[i])\n",
    "        else:\n",
    "            print(i, '\\t', pdfnamelist[i], '\\t', pdfurllist[i])\n",
    "            data = requests.get(pdfurllist[i], timeout=80, headers=headers).content\n",
    "            \n",
    "            with open(root+'/'+pdfname+\".pdf\", 'wb')  as f:\n",
    "                f.write(data)  \n",
    "            _ = time.sleep(random.uniform(4,5)) # for anti-anti-crawler purpose"
   ]
  },
  {
   "cell_type": "code",
   "execution_count": null,
   "metadata": {},
   "outputs": [],
   "source": []
  }
 ]
}