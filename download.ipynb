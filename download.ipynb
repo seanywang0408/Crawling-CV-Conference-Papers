{
 "metadata": {
  "language_info": {
   "codemirror_mode": {
    "name": "ipython",
    "version": 3
   },
   "file_extension": ".py",
   "mimetype": "text/x-python",
   "name": "python",
   "nbconvert_exporter": "python",
   "pygments_lexer": "ipython3",
   "version": "3.8.5"
  },
  "orig_nbformat": 2,
  "kernelspec": {
   "name": "python3",
   "display_name": "Python 3.8.5 64-bit ('base': conda)"
  },
  "interpreter": {
   "hash": "7c16dd9570c275ceb1b29686f39d4c11b50b517b5c1e89dcad271181d964a2f7"
  }
 },
 "nbformat": 4,
 "nbformat_minor": 2,
 "cells": [
  {
   "cell_type": "code",
   "execution_count": 1,
   "metadata": {},
   "outputs": [],
   "source": [
    "from selenium import webdriver  \n",
    "import time  \n",
    "import urllib  \n",
    "from slugify import slugify\n",
    "import requests\n",
    "import random\n",
    "import os"
   ]
  },
  {
   "cell_type": "code",
   "execution_count": 2,
   "metadata": {},
   "outputs": [
    {
     "output_type": "stream",
     "name": "stdout",
     "text": [
      "E:/OneDrive/academics/papers/conferences/SIGGRAPH-2018-ALL\n"
     ]
    }
   ],
   "source": [
    "\n",
    "\"\"\"\n",
    "some variables needed to be set up by users\n",
    "\"\"\"\n",
    "conference = 'iccv'\n",
    "conference_url = \"https://dl.acm.org/toc/tog/2018/37/4\" # the conference url to download papers from\n",
    "chromedriver_path = 'C:\\\\Users\\\\xiaoyang\\\\Downloads\\\\chromedriver.exe' # the chromedriver.exe path\n",
    "root = r'E:\\OneDrive\\academics\\papers\\conferences\\ICCV-2021-ALL'.replace('\\\\','/') # file path to save the downloaded papers\n",
    "\n",
    "os.makedirs(root, exist_ok=True)\n",
    "print(root)"
   ]
  },
  {
   "cell_type": "code",
   "execution_count": 3,
   "metadata": {},
   "outputs": [
    {
     "output_type": "execute_result",
     "data": {
      "text/plain": [
       "'\\nconference urls examples\\n\\ncvpr: https://openaccess.thecvf.com/CVPR2020 (CVPR 2020)\\neccv: https://openaccess.thecvf.com/ECCV2018 (ECCV 2018)\\neccv: https://www.ecva.net/papers.php (ECCV 2020) (changed in 2020)\\niccv: https://openaccess.thecvf.com/ICCV2019 (ICCV 2019)\\nicml: http://proceedings.mlr.press/v119/ (ICML 2020)\\nneurips: https://papers.nips.cc/paper/2020 (NeurIPS 2020)\\niclr: https://openreview.net/group?id=ICLR.cc/2021/Conference (ICLR 2021)\\nsiggraph: https://dl.acm.org/toc/tog/2020/39/4 (SIGGRAPH 2021)\\n\\n'"
      ]
     },
     "metadata": {},
     "execution_count": 3
    }
   ],
   "source": [
    "\"\"\"\n",
    "conference urls examples\n",
    "\n",
    "cvpr: https://openaccess.thecvf.com/CVPR2020 (CVPR 2020)\n",
    "eccv: https://openaccess.thecvf.com/ECCV2018 (ECCV 2018)\n",
    "eccv: https://www.ecva.net/papers.php (ECCV 2020) (changed in 2020)\n",
    "iccv: https://openaccess.thecvf.com/ICCV2019 (ICCV 2019)\n",
    "icml: http://proceedings.mlr.press/v119/ (ICML 2020)\n",
    "neurips: https://papers.nips.cc/paper/2020 (NeurIPS 2020)\n",
    "iclr: https://openreview.net/group?id=ICLR.cc/2021/Conference (ICLR 2021)\n",
    "siggraph: https://dl.acm.org/toc/tog/2020/39/4 (SIGGRAPH 2021)\n",
    "\n",
    "\"\"\"\n",
    "\n",
    "\n"
   ]
  },
  {
   "cell_type": "code",
   "execution_count": 64,
   "metadata": {},
   "outputs": [
    {
     "output_type": "error",
     "ename": "WebDriverException",
     "evalue": "Message: chrome not reachable\n  (Session info: chrome=91.0.4472.106)\n",
     "traceback": [
      "\u001b[1;31m---------------------------------------------------------------------------\u001b[0m",
      "\u001b[1;31mWebDriverException\u001b[0m                        Traceback (most recent call last)",
      "\u001b[1;32m<ipython-input-64-b235d13a673a>\u001b[0m in \u001b[0;36m<module>\u001b[1;34m\u001b[0m\n\u001b[1;32m----> 1\u001b[1;33m \u001b[0msession_1\u001b[0m\u001b[1;33m.\u001b[0m\u001b[0mtext\u001b[0m\u001b[1;33m\u001b[0m\u001b[1;33m\u001b[0m\u001b[0m\n\u001b[0m",
      "\u001b[1;32m~\\anaconda3\\lib\\site-packages\\selenium\\webdriver\\remote\\webelement.py\u001b[0m in \u001b[0;36mtext\u001b[1;34m(self)\u001b[0m\n\u001b[0;32m     74\u001b[0m     \u001b[1;32mdef\u001b[0m \u001b[0mtext\u001b[0m\u001b[1;33m(\u001b[0m\u001b[0mself\u001b[0m\u001b[1;33m)\u001b[0m\u001b[1;33m:\u001b[0m\u001b[1;33m\u001b[0m\u001b[1;33m\u001b[0m\u001b[0m\n\u001b[0;32m     75\u001b[0m         \u001b[1;34m\"\"\"The text of the element.\"\"\"\u001b[0m\u001b[1;33m\u001b[0m\u001b[1;33m\u001b[0m\u001b[0m\n\u001b[1;32m---> 76\u001b[1;33m         \u001b[1;32mreturn\u001b[0m \u001b[0mself\u001b[0m\u001b[1;33m.\u001b[0m\u001b[0m_execute\u001b[0m\u001b[1;33m(\u001b[0m\u001b[0mCommand\u001b[0m\u001b[1;33m.\u001b[0m\u001b[0mGET_ELEMENT_TEXT\u001b[0m\u001b[1;33m)\u001b[0m\u001b[1;33m[\u001b[0m\u001b[1;34m'value'\u001b[0m\u001b[1;33m]\u001b[0m\u001b[1;33m\u001b[0m\u001b[1;33m\u001b[0m\u001b[0m\n\u001b[0m\u001b[0;32m     77\u001b[0m \u001b[1;33m\u001b[0m\u001b[0m\n\u001b[0;32m     78\u001b[0m     \u001b[1;32mdef\u001b[0m \u001b[0mclick\u001b[0m\u001b[1;33m(\u001b[0m\u001b[0mself\u001b[0m\u001b[1;33m)\u001b[0m\u001b[1;33m:\u001b[0m\u001b[1;33m\u001b[0m\u001b[1;33m\u001b[0m\u001b[0m\n",
      "\u001b[1;32m~\\anaconda3\\lib\\site-packages\\selenium\\webdriver\\remote\\webelement.py\u001b[0m in \u001b[0;36m_execute\u001b[1;34m(self, command, params)\u001b[0m\n\u001b[0;32m    631\u001b[0m             \u001b[0mparams\u001b[0m \u001b[1;33m=\u001b[0m \u001b[1;33m{\u001b[0m\u001b[1;33m}\u001b[0m\u001b[1;33m\u001b[0m\u001b[1;33m\u001b[0m\u001b[0m\n\u001b[0;32m    632\u001b[0m         \u001b[0mparams\u001b[0m\u001b[1;33m[\u001b[0m\u001b[1;34m'id'\u001b[0m\u001b[1;33m]\u001b[0m \u001b[1;33m=\u001b[0m \u001b[0mself\u001b[0m\u001b[1;33m.\u001b[0m\u001b[0m_id\u001b[0m\u001b[1;33m\u001b[0m\u001b[1;33m\u001b[0m\u001b[0m\n\u001b[1;32m--> 633\u001b[1;33m         \u001b[1;32mreturn\u001b[0m \u001b[0mself\u001b[0m\u001b[1;33m.\u001b[0m\u001b[0m_parent\u001b[0m\u001b[1;33m.\u001b[0m\u001b[0mexecute\u001b[0m\u001b[1;33m(\u001b[0m\u001b[0mcommand\u001b[0m\u001b[1;33m,\u001b[0m \u001b[0mparams\u001b[0m\u001b[1;33m)\u001b[0m\u001b[1;33m\u001b[0m\u001b[1;33m\u001b[0m\u001b[0m\n\u001b[0m\u001b[0;32m    634\u001b[0m \u001b[1;33m\u001b[0m\u001b[0m\n\u001b[0;32m    635\u001b[0m     \u001b[1;32mdef\u001b[0m \u001b[0mfind_element\u001b[0m\u001b[1;33m(\u001b[0m\u001b[0mself\u001b[0m\u001b[1;33m,\u001b[0m \u001b[0mby\u001b[0m\u001b[1;33m=\u001b[0m\u001b[0mBy\u001b[0m\u001b[1;33m.\u001b[0m\u001b[0mID\u001b[0m\u001b[1;33m,\u001b[0m \u001b[0mvalue\u001b[0m\u001b[1;33m=\u001b[0m\u001b[1;32mNone\u001b[0m\u001b[1;33m)\u001b[0m\u001b[1;33m:\u001b[0m\u001b[1;33m\u001b[0m\u001b[1;33m\u001b[0m\u001b[0m\n",
      "\u001b[1;32m~\\anaconda3\\lib\\site-packages\\selenium\\webdriver\\remote\\webdriver.py\u001b[0m in \u001b[0;36mexecute\u001b[1;34m(self, driver_command, params)\u001b[0m\n\u001b[0;32m    319\u001b[0m         \u001b[0mresponse\u001b[0m \u001b[1;33m=\u001b[0m \u001b[0mself\u001b[0m\u001b[1;33m.\u001b[0m\u001b[0mcommand_executor\u001b[0m\u001b[1;33m.\u001b[0m\u001b[0mexecute\u001b[0m\u001b[1;33m(\u001b[0m\u001b[0mdriver_command\u001b[0m\u001b[1;33m,\u001b[0m \u001b[0mparams\u001b[0m\u001b[1;33m)\u001b[0m\u001b[1;33m\u001b[0m\u001b[1;33m\u001b[0m\u001b[0m\n\u001b[0;32m    320\u001b[0m         \u001b[1;32mif\u001b[0m \u001b[0mresponse\u001b[0m\u001b[1;33m:\u001b[0m\u001b[1;33m\u001b[0m\u001b[1;33m\u001b[0m\u001b[0m\n\u001b[1;32m--> 321\u001b[1;33m             \u001b[0mself\u001b[0m\u001b[1;33m.\u001b[0m\u001b[0merror_handler\u001b[0m\u001b[1;33m.\u001b[0m\u001b[0mcheck_response\u001b[0m\u001b[1;33m(\u001b[0m\u001b[0mresponse\u001b[0m\u001b[1;33m)\u001b[0m\u001b[1;33m\u001b[0m\u001b[1;33m\u001b[0m\u001b[0m\n\u001b[0m\u001b[0;32m    322\u001b[0m             response['value'] = self._unwrap_value(\n\u001b[0;32m    323\u001b[0m                 response.get('value', None))\n",
      "\u001b[1;32m~\\anaconda3\\lib\\site-packages\\selenium\\webdriver\\remote\\errorhandler.py\u001b[0m in \u001b[0;36mcheck_response\u001b[1;34m(self, response)\u001b[0m\n\u001b[0;32m    240\u001b[0m                 \u001b[0malert_text\u001b[0m \u001b[1;33m=\u001b[0m \u001b[0mvalue\u001b[0m\u001b[1;33m[\u001b[0m\u001b[1;34m'alert'\u001b[0m\u001b[1;33m]\u001b[0m\u001b[1;33m.\u001b[0m\u001b[0mget\u001b[0m\u001b[1;33m(\u001b[0m\u001b[1;34m'text'\u001b[0m\u001b[1;33m)\u001b[0m\u001b[1;33m\u001b[0m\u001b[1;33m\u001b[0m\u001b[0m\n\u001b[0;32m    241\u001b[0m             \u001b[1;32mraise\u001b[0m \u001b[0mexception_class\u001b[0m\u001b[1;33m(\u001b[0m\u001b[0mmessage\u001b[0m\u001b[1;33m,\u001b[0m \u001b[0mscreen\u001b[0m\u001b[1;33m,\u001b[0m \u001b[0mstacktrace\u001b[0m\u001b[1;33m,\u001b[0m \u001b[0malert_text\u001b[0m\u001b[1;33m)\u001b[0m\u001b[1;33m\u001b[0m\u001b[1;33m\u001b[0m\u001b[0m\n\u001b[1;32m--> 242\u001b[1;33m         \u001b[1;32mraise\u001b[0m \u001b[0mexception_class\u001b[0m\u001b[1;33m(\u001b[0m\u001b[0mmessage\u001b[0m\u001b[1;33m,\u001b[0m \u001b[0mscreen\u001b[0m\u001b[1;33m,\u001b[0m \u001b[0mstacktrace\u001b[0m\u001b[1;33m)\u001b[0m\u001b[1;33m\u001b[0m\u001b[1;33m\u001b[0m\u001b[0m\n\u001b[0m\u001b[0;32m    243\u001b[0m \u001b[1;33m\u001b[0m\u001b[0m\n\u001b[0;32m    244\u001b[0m     \u001b[1;32mdef\u001b[0m \u001b[0m_value_or_default\u001b[0m\u001b[1;33m(\u001b[0m\u001b[0mself\u001b[0m\u001b[1;33m,\u001b[0m \u001b[0mobj\u001b[0m\u001b[1;33m,\u001b[0m \u001b[0mkey\u001b[0m\u001b[1;33m,\u001b[0m \u001b[0mdefault\u001b[0m\u001b[1;33m)\u001b[0m\u001b[1;33m:\u001b[0m\u001b[1;33m\u001b[0m\u001b[1;33m\u001b[0m\u001b[0m\n",
      "\u001b[1;31mWebDriverException\u001b[0m: Message: chrome not reachable\n  (Session info: chrome=91.0.4472.106)\n"
     ]
    }
   ],
   "source": [
    "session_1.text"
   ]
  },
  {
   "cell_type": "code",
   "execution_count": 60,
   "metadata": {},
   "outputs": [
    {
     "output_type": "stream",
     "name": "stdout",
     "text": [
      "Retrieving pdf urls. This could take some time...\n"
     ]
    }
   ],
   "source": [
    "driver = webdriver.Chrome(chromedriver_path)  \n",
    "driver.get(conference_url)\n",
    "\n",
    "from retrieve_titles_urls_from_websites import *\n",
    "retrieve = globals()['retrieve_from_'+conference]\n",
    "print('Retrieving pdf urls. This could take some time...')\n",
    "pdfurllist, pdfnamelist = retrieve(driver)\n",
    "\n"
   ]
  },
  {
   "cell_type": "code",
   "execution_count": 56,
   "metadata": {},
   "outputs": [
    {
     "output_type": "stream",
     "name": "stdout",
     "text": [
      "The first 5 pdf urls:\n\nhttps://dl.acm.org/doi/pdf/10.1145/3197517.3201359\nhttps://dl.acm.org/doi/pdf/10.1145/3197517.3201331\nhttps://dl.acm.org/doi/pdf/10.1145/3197517.3201290\nhttps://dl.acm.org/doi/pdf/10.1145/3197517.3201337\nhttps://dl.acm.org/doi/pdf/10.1145/3197517.3201396\n\nThe last 5 pdf urls:\n\nhttps://dl.acm.org/doi/pdf/10.1145/3197517.3201326\nhttps://dl.acm.org/doi/pdf/10.1145/3197517.3201399\nhttps://dl.acm.org/doi/pdf/10.1145/3197517.3201302\nhttps://dl.acm.org/doi/pdf/10.1145/3197517.3201350\nhttps://dl.acm.org/doi/pdf/10.1145/3197517.3201283\n"
     ]
    }
   ],
   "source": [
    "# check the retrieved urls\n",
    "print('The first 5 pdf urls:\\n')\n",
    "for i in range(5):\n",
    "    print(pdfurllist[i])\n",
    "print('\\nThe last 5 pdf urls:\\n')\n",
    "for i in range(5):\n",
    "    print(pdfurllist[-(i+1)])\n"
   ]
  },
  {
   "cell_type": "code",
   "execution_count": 57,
   "metadata": {},
   "outputs": [
    {
     "output_type": "stream",
     "name": "stdout",
     "text": [
      "The first 5 pdf titles:\n\nBlended cured quasi-newton for distortion optimization\nProgressive parameterizations\nAnderson acceleration for geometry optimization and physics simulation\nFast winding numbers for soups and clouds\nVoxel cores: efficient, robust, and provably good approximation of 3D medial axes\n\nThe last 5 pdf titles:\n\nToonsynth: example-based synthesis of hand-colored cartoon animations\nOnline optical marker-based hand tracking with deep labels\nRobust solving of optical motion capture data by denoising\nHeadon: real-time reenactment of human portrait videos\nDeep video portraits\n"
     ]
    }
   ],
   "source": [
    "# check the retrieved paper titles\n",
    "print('The first 5 pdf titles:\\n')\n",
    "for i in range(5):\n",
    "    print(pdfnamelist[i])\n",
    "print('\\nThe last 5 pdf titles:\\n')\n",
    "for i in range(5):\n",
    "    print(pdfnamelist[-(i+1)])\n"
   ]
  },
  {
   "cell_type": "code",
   "execution_count": 58,
   "metadata": {},
   "outputs": [
    {
     "output_type": "stream",
     "name": "stdout",
     "text": [
      "The number of papers is  128\n"
     ]
    }
   ],
   "source": [
    "print('The number of papers is ', len(pdfnamelist))\n",
    "assert len(pdfnamelist)==len(pdfurllist), 'The number of titles and the number of urls are not matched. \\\n",
    "                                            You might solve the problem by checking the HTML code in the \\\n",
    "                                            website yourself or you could ask the author by raising an issue.'"
   ]
  },
  {
   "cell_type": "code",
   "execution_count": 59,
   "metadata": {
    "tags": []
   },
   "outputs": [
    {
     "output_type": "stream",
     "name": "stdout",
     "text": [
      "Start downloading\n",
      "0 \t Blended cured quasi-newton for distortion optimization \t https://dl.acm.org/doi/pdf/10.1145/3197517.3201359\n",
      "1 \t Progressive parameterizations \t https://dl.acm.org/doi/pdf/10.1145/3197517.3201331\n",
      "2 \t Anderson acceleration for geometry optimization and physics simulation \t https://dl.acm.org/doi/pdf/10.1145/3197517.3201290\n",
      "3 \t Fast winding numbers for soups and clouds \t https://dl.acm.org/doi/pdf/10.1145/3197517.3201337\n",
      "4 \t Voxel cores: efficient, robust, and provably good approximation of 3D medial axes \t https://dl.acm.org/doi/pdf/10.1145/3197517.3201396\n",
      "5 \t Immersion of self-intersecting solids and surfaces \t https://dl.acm.org/doi/pdf/10.1145/3197517.3201327\n",
      "6 \t Robust optimization for topological surface reconstruction \t https://dl.acm.org/doi/pdf/10.1145/3197517.3201348\n",
      "7 \t Deep exemplar-based colorization \t https://dl.acm.org/doi/pdf/10.1145/3197517.3201365\n",
      "8 \t Deep context-aware descreening and rescreening of halftone images \t https://dl.acm.org/doi/pdf/10.1145/3197517.3201377\n",
      "9 \t Non-stationary texture synthesis by adversarial expansion \t https://dl.acm.org/doi/pdf/10.1145/3197517.3201285\n",
      "10 \t Eulerian-on-lagrangian cloth simulation \t https://dl.acm.org/doi/pdf/10.1145/3197517.3201281\n",
      "11 \t A multi-scale model for simulating liquid-fabric interactions \t https://dl.acm.org/doi/pdf/10.1145/3197517.3201392\n",
      "12 \t An implicit frictional contact solver for adaptive cloth simulation \t https://dl.acm.org/doi/pdf/10.1145/3197517.3201308\n",
      "13 \t Rule-free sewing pattern adjustment with precision and efficiency \t https://dl.acm.org/doi/pdf/10.1145/3197517.3201320\n",
      "14 \t Analytic spherical harmonic coefficients for polygonal area lights \t https://dl.acm.org/doi/pdf/10.1145/3197517.3201291\n",
      "15 \t Laplacian kernel splatting for efficient depth-of-field and motion blur synthesis or reconstruction \t https://dl.acm.org/doi/pdf/10.1145/3197517.3201379\n",
      "16 \t Deep learning of biomimetic sensorimotor control for biomechanical human animation \t https://dl.acm.org/doi/pdf/10.1145/3197517.3201305\n",
      "17 \t Dexterous manipulation and control with volumetric muscles \t https://dl.acm.org/doi/pdf/10.1145/3197517.3201330\n",
      "18 \t The human touch: measuring contact with real human soft tissues \t https://dl.acm.org/doi/pdf/10.1145/3197517.3201296\n",
      "19 \t An empirical rig for jaw animation \t https://dl.acm.org/doi/pdf/10.1145/3197517.3201382\n",
      "20 \t Tetrahedral meshing in the wild \t https://dl.acm.org/doi/pdf/10.1145/3197517.3201353\n",
      "21 \t Curved optimal delaunay triangulation \t https://dl.acm.org/doi/pdf/10.1145/3197517.3201358\n",
      "22 \t Computing a high-dimensional euclidean embedding from an arbitrary smooth riemannian metric \t https://dl.acm.org/doi/pdf/10.1145/3197517.3201369\n",
      "23 \t Shape from metric \t https://dl.acm.org/doi/pdf/10.1145/3197517.3201276\n",
      "24 \t Synthetic depth-of-field with a single-camera mobile phone \t https://dl.acm.org/doi/pdf/10.1145/3197517.3201329\n",
      "25 \t Stereo magnification: learning view synthesis using multiplane images \t https://dl.acm.org/doi/pdf/10.1145/3197517.3201323\n",
      "26 \t In the blink of an eye: leveraging blink-induced suppression for imperceptible position and orientation redirection in virtual reality \t https://dl.acm.org/doi/pdf/10.1145/3197517.3201335\n",
      "27 \t Towards virtual reality infinite walking: dynamic saccadic redirection \t https://dl.acm.org/doi/pdf/10.1145/3197517.3201294\n",
      "28 \t Deep appearance models for face rendering \t https://dl.acm.org/doi/pdf/10.1145/3197517.3201401\n",
      "29 \t Neural best-buddies: sparse cross-domain correspondence \t https://dl.acm.org/doi/pdf/10.1145/3197517.3201332\n",
      "30 \t Deep convolutional priors for indoor scene synthesis \t https://dl.acm.org/doi/pdf/10.1145/3197517.3201362\n",
      "31 \t Point convolutional neural networks by extension operators \t https://dl.acm.org/doi/pdf/10.1145/3197517.3201301\n",
      "32 \t Semantic soft segmentation \t https://dl.acm.org/doi/pdf/10.1145/3197517.3201275\n",
      "existed 33 \t Efficient rendering of layered materials using an atomic decomposition with statistical operators \t https://dl.acm.org/doi/pdf/10.1145/3197517.3201289\n",
      "existed 34 \t The layer laboratory: a calculus for additive and subtractive composition of anisotropic surface reflectance \t https://dl.acm.org/doi/pdf/10.1145/3197517.3201321\n",
      "existed 35 \t Rendering specular microgeometry with wave optics \t https://dl.acm.org/doi/pdf/10.1145/3197517.3201351\n",
      "existed 36 \t Gaussian material synthesis \t https://dl.acm.org/doi/pdf/10.1145/3197517.3201307\n",
      "existed 37 \t Developability of triangle meshes \t https://dl.acm.org/doi/pdf/10.1145/3197517.3201303\n",
      "existed 38 \t Shape representation by zippables \t https://dl.acm.org/doi/pdf/10.1145/3197517.3201347\n",
      "39 \t FEPR: fast energy projection for real-time simulation of deformable objects \t https://dl.acm.org/doi/pdf/10.1145/3197517.3201277\n",
      "40 \t Hyper-reduced projective dynamics \t https://dl.acm.org/doi/pdf/10.1145/3197517.3201387\n",
      "41 \t Dynamic kelvinlets: secondary motions based on fundamental solutions of elastodynamics \t https://dl.acm.org/doi/pdf/10.1145/3197517.3201280\n",
      "existed 42 \t Gradient-domain volumetric photon density estimation \t https://dl.acm.org/doi/pdf/10.1145/3197517.3201363\n",
      "existed 43 \t A radiative transfer framework for spatially-correlated materials \t https://dl.acm.org/doi/pdf/10.1145/3197517.3201282\n",
      "existed 44 \t Example-based turbulence style transfer \t https://dl.acm.org/doi/pdf/10.1145/3197517.3201398\n",
      "existed 45 \t An advection-reflection solver for detail-preserving fluid simulation \t https://dl.acm.org/doi/pdf/10.1145/3197517.3201324\n",
      "existed 46 \t An extended partitioned method for conservative solid-fluid coupling \t https://dl.acm.org/doi/pdf/10.1145/3197517.3201345\n",
      "existed 47 \t Scalable laplacian eigenfluids \t https://dl.acm.org/doi/pdf/10.1145/3197517.3201352\n",
      "existed 48 \t Creating and chaining camera moves for qadrotor videography \t https://dl.acm.org/doi/pdf/10.1145/3197517.3201284\n",
      "existed 49 \t Learning three-dimensional flow for interactive aerodynamic design \t https://dl.acm.org/doi/pdf/10.1145/3197517.3201325\n",
      "existed 50 \t Optimizing for aesthetically pleasing quadrotor camera motion \t https://dl.acm.org/doi/pdf/10.1145/3197517.3201390\n",
      "existed 51 \t Integer-only cross field computation \t https://dl.acm.org/doi/pdf/10.1145/3197517.3201375\n",
      "existed 52 \t Quadrangulation through morse-parameterization hybridization \t https://dl.acm.org/doi/pdf/10.1145/3197517.3201354\n",
      "existed 53 \t Singularity-constrained octahedral fields for hexahedral meshing \t https://dl.acm.org/doi/pdf/10.1145/3197517.3201344\n",
      "existed 54 \t Water surface wavelets \t https://dl.acm.org/doi/pdf/10.1145/3197517.3201336\n",
      "existed 55 \t tempoGAN: a temporally coherent, volumetric GAN for super-resolution fluid flow \t https://dl.acm.org/doi/pdf/10.1145/3197517.3201304\n",
      "existed 56 \t Fluid directed rigid body control using deep reinforcement learning \t https://dl.acm.org/doi/pdf/10.1145/3197517.3201334\n",
      "existed 57 \t StrokeAggregator: consolidating raw sketches into artist-intended curve drawings \t https://dl.acm.org/doi/pdf/10.1145/3197517.3201314\n",
      "existed 58 \t Real-time data-driven interactive rough sketch inking \t https://dl.acm.org/doi/pdf/10.1145/3197517.3201370\n",
      "existed 59 \t Faceshop: deep sketch-based face image editing \t https://dl.acm.org/doi/pdf/10.1145/3197517.3201393\n",
      "existed 60 \t Space-time tomography for continuously deforming objects \t https://dl.acm.org/doi/pdf/10.1145/3197517.3201298\n",
      "existed 61 \t Instant 3D photography \t https://dl.acm.org/doi/pdf/10.1145/3197517.3201384\n",
      "existed 62 \t Reconstructing scenes with mirror and glass surfaces \t https://dl.acm.org/doi/pdf/10.1145/3197517.3201319\n",
      "existed 63 \t Full 3D reconstruction of transparent objects \t https://dl.acm.org/doi/pdf/10.1145/3197517.3201286\n",
      "existed 64 \t Object-aware guidance for autonomous scene reconstruction \t https://dl.acm.org/doi/pdf/10.1145/3197517.3201295\n",
      "existed 65 \t Optimal cone singularities for conformal flattening \t https://dl.acm.org/doi/pdf/10.1145/3197517.3201367\n",
      "existed 66 \t Rapid deployment of curved surfaces via programmable auxetics \t https://dl.acm.org/doi/pdf/10.1145/3197517.3201373\n",
      "existed 67 \t Designing patterns using triangle-quad hybrid meshes \t https://dl.acm.org/doi/pdf/10.1145/3197517.3201306\n",
      "existed 68 \t Parametric directional coding for precomputed sound propagation \t https://dl.acm.org/doi/pdf/10.1145/3197517.3201339\n",
      "existed 69 \t Toward wave-based sound synthesis for computer animation \t https://dl.acm.org/doi/pdf/10.1145/3197517.3201318\n",
      "existed 70 \t Multi-scale simulation of nonlinear thin-shell sound with wave turbulence \t https://dl.acm.org/doi/pdf/10.1145/3197517.3201361\n",
      "existed 71 \t Scene-aware audio for 360° videos \t https://dl.acm.org/doi/pdf/10.1145/3197517.3201391\n",
      "existed 72 \t Looking to listen at the cocktail party: a speaker-independent audio-visual model for speech separation \t https://dl.acm.org/doi/pdf/10.1145/3197517.3201357\n",
      "existed 73 \t Single-photon 3D imaging with deep sensor fusion \t https://dl.acm.org/doi/pdf/10.1145/3197517.3201316\n",
      "existed 74 \t End-to-end optimization of optics and image processing for achromatic extended depth of field and super-resolution imaging \t https://dl.acm.org/doi/pdf/10.1145/3197517.3201333\n",
      "existed 75 \t Megapixel adaptive optics: towards correcting large-scale distortions in computational cameras \t https://dl.acm.org/doi/pdf/10.1145/3197517.3201299\n",
      "existed 76 \t What characterizes personalities of graphic designs? \t https://dl.acm.org/doi/pdf/10.1145/3197517.3201355\n",
      "existed 77 \t Scale-aware black-and-white abstraction of 3D shapes \t https://dl.acm.org/doi/pdf/10.1145/3197517.3201372\n",
      "existed 78 \t Perception-driven semi-structured boundary vectorization \t https://dl.acm.org/doi/pdf/10.1145/3197517.3201312\n",
      "existed 79 \t Fast and deep deformation approximations \t https://dl.acm.org/doi/pdf/10.1145/3197517.3201300\n",
      "existed 80 \t Numerical coarsening using discontinuous shape functions \t https://dl.acm.org/doi/pdf/10.1145/3197517.3201386\n",
      "existed 81 \t Magnetization dynamics for magnetic object interactions \t https://dl.acm.org/doi/pdf/10.1145/3197517.3201402\n",
      "existed 82 \t Visual rhythm and beat \t https://dl.acm.org/doi/pdf/10.1145/3197517.3201371\n",
      "existed 83 \t Perception-aware modeling and fabrication of digital drawing tools \t https://dl.acm.org/doi/pdf/10.1145/3197517.3201322\n",
      "existed 84 \t Denoising with kernel prediction and asymmetric loss functions \t https://dl.acm.org/doi/pdf/10.1145/3197517.3201388\n",
      "existed 85 \t Bayesian online regression for adaptive direct illumination sampling \t https://dl.acm.org/doi/pdf/10.1145/3197517.3201340\n",
      "existed 86 \t Deep image-based relighting from optimal sparse samples \t https://dl.acm.org/doi/pdf/10.1145/3197517.3201313\n",
      "existed 87 \t Efficient reflectance capture using an autoencoder \t https://dl.acm.org/doi/pdf/10.1145/3197517.3201279\n",
      "existed 88 \t Single-image SVBRDF capture with a rendering-aware deep network \t https://dl.acm.org/doi/pdf/10.1145/3197517.3201378\n",
      "existed 89 \t Polyhedral voronoi diagrams for additive manufacturing \t https://dl.acm.org/doi/pdf/10.1145/3197517.3201343\n",
      "existed 90 \t Stitch meshing \t https://dl.acm.org/doi/pdf/10.1145/3197517.3201360\n",
      "existed 91 \t Interactive exploration of design trade-offs \t https://dl.acm.org/doi/pdf/10.1145/3197517.3201385\n",
      "existed 92 \t Autocomplete 3D sculpting \t https://dl.acm.org/doi/pdf/10.1145/3197517.3201297\n",
      "existed 93 \t Foldsketch: enriching garments with physically reproducible folds \t https://dl.acm.org/doi/pdf/10.1145/3197517.3201310\n",
      "existed 94 \t Support-free volume printing by multi-axis motion \t https://dl.acm.org/doi/pdf/10.1145/3197517.3201342\n",
      "existed 95 \t CoreCavity: interactive shell decomposition for fabrication with two-piece rigid molds \t https://dl.acm.org/doi/pdf/10.1145/3197517.3201341\n",
      "existed 96 \t Metamolds: computational design of silicone molds \t https://dl.acm.org/doi/pdf/10.1145/3197517.3201381\n",
      "existed 97 \t DSCarver: decompose-and-spiral-carve for subtractive manufacturing \t https://dl.acm.org/doi/pdf/10.1145/3197517.3201338\n",
      "existed 98 \t Scanner: efficient video analysis at scale \t https://dl.acm.org/doi/pdf/10.1145/3197517.3201394\n",
      "existed 99 \t Differentiable programming for image processing and deep learning in halide \t https://dl.acm.org/doi/pdf/10.1145/3197517.3201383\n",
      "existed 100 \t A high-performance software graphics pipeline architecture for the GPU \t https://dl.acm.org/doi/pdf/10.1145/3197517.3201374\n",
      "existed 101 \t Slang: language mechanisms for extensible real-time shading systems \t https://dl.acm.org/doi/pdf/10.1145/3197517.3201380\n",
      "existed 102 \t Learning basketball dribbling skills using trajectory optimization and deep reinforcement learning \t https://dl.acm.org/doi/pdf/10.1145/3197517.3201315\n",
      "existed 103 \t DeepMimic: example-guided deep reinforcement learning of physics-based character skills \t https://dl.acm.org/doi/pdf/10.1145/3197517.3201311\n",
      "existed 104 \t Learning symmetric and low-energy locomotion \t https://dl.acm.org/doi/pdf/10.1145/3197517.3201397\n",
      "existed 105 \t Mode-adaptive neural networks for quadruped motion control \t https://dl.acm.org/doi/pdf/10.1145/3197517.3201366\n",
      "existed 106 \t Physical simulation of environmentally induced thin shell deformation \t https://dl.acm.org/doi/pdf/10.1145/3197517.3201395\n",
      "existed 107 \t A material point method for thin shells with frictional contact \t https://dl.acm.org/doi/pdf/10.1145/3197517.3201346\n",
      "existed 108 \t Mechanical characterization of structured sheet materials \t https://dl.acm.org/doi/pdf/10.1145/3197517.3201278\n",
      "109 \t Animating fluid sediment mixture in particle-laden flows \t https://dl.acm.org/doi/pdf/10.1145/3197517.3201309\n",
      "110 \t A moving least squares material point method with displacement discontinuity and two-way rigid body coupling \t https://dl.acm.org/doi/pdf/10.1145/3197517.3201293\n",
      "111 \t Predictive and generative neural networks for object functionality \t https://dl.acm.org/doi/pdf/10.1145/3197517.3201287\n",
      "112 \t P2P-NET: bidirectional point displacement net for shape transform \t https://dl.acm.org/doi/pdf/10.1145/3197517.3201288\n",
      "113 \t Box cutter: atlas refinement for efficient packing via void elimination \t https://dl.acm.org/doi/pdf/10.1145/3197517.3201328\n",
      "114 \t Gradient-domain processing within a texture atlas \t https://dl.acm.org/doi/pdf/10.1145/3197517.3201317\n",
      "115 \t Generalized motorcycle graphs for imperfect quad-dominant meshes \t https://dl.acm.org/doi/pdf/10.1145/3197517.3201389\n",
      "116 \t Variational surface cutting \t https://dl.acm.org/doi/pdf/10.1145/3197517.3201356\n",
      "117 \t 3D printing spatially varying color and translucency \t https://dl.acm.org/doi/pdf/10.1145/3197517.3201349\n",
      "118 \t Fabricating reflectors for displaying multiple images \t https://dl.acm.org/doi/pdf/10.1145/3197517.3201400\n",
      "119 \t Computational design of nanostructural color for additive manufacturing \t https://dl.acm.org/doi/pdf/10.1145/3197517.3201376\n",
      "120 \t Skaterbots: optimization-based design and motion synthesis for robotic creatures with legs and wheels \t https://dl.acm.org/doi/pdf/10.1145/3197517.3201368\n",
      "121 \t Visemenet: audio-driven animator-centric speech animation \t https://dl.acm.org/doi/pdf/10.1145/3197517.3201292\n",
      "122 \t High-fidelity facial reflectance and geometry inference from an unconstrained image \t https://dl.acm.org/doi/pdf/10.1145/3197517.3201364\n",
      "123 \t Deep video portraits \t https://dl.acm.org/doi/pdf/10.1145/3197517.3201283\n",
      "124 \t Headon: real-time reenactment of human portrait videos \t https://dl.acm.org/doi/pdf/10.1145/3197517.3201350\n",
      "125 \t Robust solving of optical motion capture data by denoising \t https://dl.acm.org/doi/pdf/10.1145/3197517.3201302\n",
      "126 \t Online optical marker-based hand tracking with deep labels \t https://dl.acm.org/doi/pdf/10.1145/3197517.3201399\n",
      "127 \t Toonsynth: example-based synthesis of hand-colored cartoon animations \t https://dl.acm.org/doi/pdf/10.1145/3197517.3201326\n"
     ]
    }
   ],
   "source": [
    "# download the papers one by one. The files are named after the titles (guaranteed to be valid file name after processed by slugify.)\n",
    "print('Start downloading')\n",
    "headers = {'user-agent': 'Mozilla/5.0 (Windows NT 10.0; WOW64; rv:57.0) Gecko/20100101 Firefox/57.0'}\n",
    "for i, url in enumerate(pdfurllist):\n",
    "    if url != None :      \n",
    "        pdfname = slugify(pdfnamelist[i])\n",
    "        if os.path.isfile(root+'/'+pdfname+\".pdf\"):\n",
    "            print('existed', i, '\\t', pdfnamelist[i], '\\t', pdfurllist[i])\n",
    "        else:\n",
    "            print(i, '\\t', pdfnamelist[i], '\\t', pdfurllist[i])\n",
    "            data = requests.get(pdfurllist[i], timeout=80, headers=headers).content\n",
    "            \n",
    "            with open(root+'/'+pdfname+\".pdf\", 'wb')  as f:\n",
    "                f.write(data)  \n",
    "            _ = time.sleep(random.uniform(4,5)) # for anti-anti-crawler purpose"
   ]
  },
  {
   "cell_type": "code",
   "execution_count": null,
   "metadata": {},
   "outputs": [],
   "source": []
  }
 ]
}