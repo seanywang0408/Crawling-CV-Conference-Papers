{
 "metadata": {
  "language_info": {
   "codemirror_mode": {
    "name": "ipython",
    "version": 3
   },
   "file_extension": ".py",
   "mimetype": "text/x-python",
   "name": "python",
   "nbconvert_exporter": "python",
   "pygments_lexer": "ipython3",
   "version": "3.8.5"
  },
  "orig_nbformat": 2,
  "kernelspec": {
   "name": "python3",
   "display_name": "Python 3",
   "language": "python"
  }
 },
 "nbformat": 4,
 "nbformat_minor": 2,
 "cells": [
  {
   "cell_type": "code",
   "execution_count": 4,
   "metadata": {},
   "outputs": [],
   "source": [
    "from selenium import webdriver  \n",
    "import time  \n",
    "import urllib  \n",
    "from slugify import slugify\n",
    "import requests\n",
    "import random\n",
    "import os"
   ]
  },
  {
   "cell_type": "code",
   "execution_count": 5,
   "metadata": {},
   "outputs": [
    {
     "output_type": "stream",
     "name": "stdout",
     "text": [
      "E:/OneDrive/academics/papers/conferences/NeurIPS-2019-ALL\n"
     ]
    }
   ],
   "source": [
    "\n",
    "\"\"\"\n",
    "some variables needed to be set up by users\n",
    "\"\"\"\n",
    "conference = 'neurips'\n",
    "conference_url = \"https://papers.nips.cc/paper/2019\" # the conference url to download papers from\n",
    "chromedriver_path = 'C:\\\\Users\\\\xiaoyang\\\\Downloads\\\\chromedriver.exe' # the chromedriver.exe path\n",
    "root = r'E:\\OneDrive\\academics\\papers\\conferences\\NeurIPS-2019-ALL'.replace('\\\\','/') # file path to save the downloaded papers\n",
    "\n",
    "os.makedirs(root, exist_ok=True)\n",
    "print(root)"
   ]
  },
  {
   "cell_type": "code",
   "execution_count": 6,
   "metadata": {},
   "outputs": [
    {
     "output_type": "execute_result",
     "data": {
      "text/plain": [
       "'\\nconference urls examples\\n\\ncvpr: https://openaccess.thecvf.com/CVPR2020 (CVPR 2020)\\neccv: https://openaccess.thecvf.com/ECCV2018 (ECCV 2018)\\neccv: https://www.ecva.net/papers.php (ECCV 2020) (changed in 2020)\\niccv: https://openaccess.thecvf.com/ICCV2019 (ICCV 2019)\\nicml: http://proceedings.mlr.press/v119/ (ICML 2020)\\nneurips: https://papers.nips.cc/paper/2020 (NeurIPS 2020)\\niclr: https://openreview.net/group?id=ICLR.cc/2021/Conference (ICLR 2021)\\nsiggraph: https://dl.acm.org/toc/tog/2020/39/4 (SIGGRAPH 2021)\\n\\n'"
      ]
     },
     "metadata": {},
     "execution_count": 6
    }
   ],
   "source": [
    "\"\"\"\n",
    "conference urls examples\n",
    "\n",
    "cvpr: https://openaccess.thecvf.com/CVPR2020 (CVPR 2020)\n",
    "eccv: https://openaccess.thecvf.com/ECCV2018 (ECCV 2018)\n",
    "eccv: https://www.ecva.net/papers.php (ECCV 2020) (changed in 2020)\n",
    "iccv: https://openaccess.thecvf.com/ICCV2019 (ICCV 2019)\n",
    "icml: http://proceedings.mlr.press/v119/ (ICML 2020)\n",
    "neurips: https://papers.nips.cc/paper/2020 (NeurIPS 2020)\n",
    "iclr: https://openreview.net/group?id=ICLR.cc/2021/Conference (ICLR 2021)\n",
    "siggraph: https://dl.acm.org/toc/tog/2020/39/4 (SIGGRAPH 2021)\n",
    "\n",
    "\"\"\"\n",
    "\n",
    "\n"
   ]
  },
  {
   "cell_type": "code",
   "execution_count": 7,
   "metadata": {},
   "outputs": [
    {
     "output_type": "stream",
     "name": "stdout",
     "text": [
      "Retrieving pdf urls. This could take some time...\n"
     ]
    }
   ],
   "source": [
    "driver = webdriver.Chrome(chromedriver_path)  \n",
    "driver.get(conference_url)\n",
    "\n",
    "from retrieve_titles_urls_from_websites import *\n",
    "retrieve = globals()['retrieve_from_'+conference]\n",
    "print('Retrieving pdf urls. This could take some time...')\n",
    "pdfurllist, pdfnamelist = retrieve(driver)\n",
    "\n"
   ]
  },
  {
   "cell_type": "code",
   "execution_count": 8,
   "metadata": {},
   "outputs": [
    {
     "output_type": "stream",
     "name": "stdout",
     "text": [
      "The first 5 pdf urls:\n\nhttps://papers.nips.cc/paper/2019/file/00989c20ff1386dc386d8124ebcba1a5-Paper.pdf\nhttps://papers.nips.cc/paper/2019/file/00ac8ed3b4327bdd4ebbebcb2ba10a00-Paper.pdf\nhttps://papers.nips.cc/paper/2019/file/00e26af6ac3b1c1c49d7c3d79c60d000-Paper.pdf\nhttps://papers.nips.cc/paper/2019/file/0118a063b4aae95277f0bc1752c75abf-Paper.pdf\nhttps://papers.nips.cc/paper/2019/file/01386bd6d8e091c2ab4c7c7de644d37b-Paper.pdf\n\nThe last 5 pdf urls:\n\nhttps://papers.nips.cc/paper/2019/file/ffedf5be3a86e2ee281d54cdc97bc1cf-Paper.pdf\nhttps://papers.nips.cc/paper/2019/file/ffe10334251de1dc98339d99ae4743ba-Paper.pdf\nhttps://papers.nips.cc/paper/2019/file/fface8385abbf94b4593a0ed53a0c70f-Paper.pdf\nhttps://papers.nips.cc/paper/2019/file/fecc3a370a23d13b1cf91ac3c1e1ca92-Paper.pdf\nhttps://papers.nips.cc/paper/2019/file/febefe1cc5c87748ea02036dbe9e3d67-Paper.pdf\n"
     ]
    }
   ],
   "source": [
    "# check the retrieved urls\n",
    "print('The first 5 pdf urls:\\n')\n",
    "for i in range(5):\n",
    "    print(pdfurllist[i])\n",
    "print('\\nThe last 5 pdf urls:\\n')\n",
    "for i in range(5):\n",
    "    print(pdfurllist[-(i+1)])\n"
   ]
  },
  {
   "cell_type": "code",
   "execution_count": 9,
   "metadata": {},
   "outputs": [
    {
     "output_type": "stream",
     "name": "stdout",
     "text": [
      "The first 5 pdf titles:\n\nCompositional Plan Vectors\nLearning to Propagate for Graph Meta-Learning\nXNAS: Neural Architecture Search with Expert Advice\nMulti-resolution Multi-task Gaussian Processes\nDeep Equilibrium Models\n\nThe last 5 pdf titles:\n\nFlow-based Image-to-Image Translation with Feature Disentanglement\nEfficient Rematerialization for Deep Networks\nFully Dynamic Consistent Facility Location\nAdaptively Aligned Image Captioning via Adaptive Attention Time\nDiscrete Object Generation with Reversible Inductive Construction\n"
     ]
    }
   ],
   "source": [
    "# check the retrieved paper titles\n",
    "print('The first 5 pdf titles:\\n')\n",
    "for i in range(5):\n",
    "    print(pdfnamelist[i])\n",
    "print('\\nThe last 5 pdf titles:\\n')\n",
    "for i in range(5):\n",
    "    print(pdfnamelist[-(i+1)])\n"
   ]
  },
  {
   "cell_type": "code",
   "execution_count": 10,
   "metadata": {},
   "outputs": [
    {
     "output_type": "stream",
     "name": "stdout",
     "text": [
      "The number of papers is  1428\n"
     ]
    }
   ],
   "source": [
    "print('The number of papers is ', len(pdfnamelist))\n",
    "assert len(pdfnamelist)==len(pdfurllist), 'The number of titles and the number of urls are not matched. \\\n",
    "                                            You might solve the problem by checking the HTML code in the \\\n",
    "                                            website yourself or you could ask the author by raising an issue.'"
   ]
  },
  {
   "cell_type": "code",
   "execution_count": 11,
   "metadata": {},
   "outputs": [
    {
     "output_type": "stream",
     "name": "stdout",
     "text": [
      "Start downloading\n0 \t Compositional Plan Vectors \t https://papers.nips.cc/paper/2019/file/00989c20ff1386dc386d8124ebcba1a5-Paper.pdf\n"
     ]
    },
    {
     "output_type": "error",
     "ename": "TypeError",
     "evalue": "'module' object is not callable",
     "traceback": [
      "\u001b[1;31m---------------------------------------------------------------------------\u001b[0m",
      "\u001b[1;31mTypeError\u001b[0m                                 Traceback (most recent call last)",
      "\u001b[1;32m<ipython-input-11-cb9a298ddddf>\u001b[0m in \u001b[0;36m<module>\u001b[1;34m\u001b[0m\n\u001b[0;32m      7\u001b[0m         \u001b[0mdata\u001b[0m \u001b[1;33m=\u001b[0m \u001b[0mrequests\u001b[0m\u001b[1;33m.\u001b[0m\u001b[0mget\u001b[0m\u001b[1;33m(\u001b[0m\u001b[0mpdfurllist\u001b[0m\u001b[1;33m[\u001b[0m\u001b[0mi\u001b[0m\u001b[1;33m]\u001b[0m\u001b[1;33m,\u001b[0m \u001b[0mtimeout\u001b[0m\u001b[1;33m=\u001b[0m\u001b[1;36m80\u001b[0m\u001b[1;33m,\u001b[0m \u001b[0mheaders\u001b[0m\u001b[1;33m=\u001b[0m\u001b[0mheaders\u001b[0m\u001b[1;33m)\u001b[0m\u001b[1;33m.\u001b[0m\u001b[0mcontent\u001b[0m\u001b[1;33m\u001b[0m\u001b[1;33m\u001b[0m\u001b[0m\n\u001b[0;32m      8\u001b[0m \u001b[1;33m\u001b[0m\u001b[0m\n\u001b[1;32m----> 9\u001b[1;33m         \u001b[0mpdfname\u001b[0m \u001b[1;33m=\u001b[0m \u001b[0mslugify\u001b[0m\u001b[1;33m(\u001b[0m\u001b[0mpdfnamelist\u001b[0m\u001b[1;33m[\u001b[0m\u001b[0mi\u001b[0m\u001b[1;33m]\u001b[0m\u001b[1;33m)\u001b[0m\u001b[1;33m\u001b[0m\u001b[1;33m\u001b[0m\u001b[0m\n\u001b[0m\u001b[0;32m     10\u001b[0m         \u001b[1;32mwith\u001b[0m \u001b[0mopen\u001b[0m\u001b[1;33m(\u001b[0m\u001b[0mroot\u001b[0m\u001b[1;33m+\u001b[0m\u001b[1;34m'/'\u001b[0m\u001b[1;33m+\u001b[0m\u001b[0mpdfname\u001b[0m\u001b[1;33m+\u001b[0m\u001b[1;34m\".pdf\"\u001b[0m\u001b[1;33m,\u001b[0m \u001b[1;34m'wb'\u001b[0m\u001b[1;33m)\u001b[0m  \u001b[1;32mas\u001b[0m \u001b[0mf\u001b[0m\u001b[1;33m:\u001b[0m\u001b[1;33m\u001b[0m\u001b[1;33m\u001b[0m\u001b[0m\n\u001b[0;32m     11\u001b[0m             \u001b[0mf\u001b[0m\u001b[1;33m.\u001b[0m\u001b[0mwrite\u001b[0m\u001b[1;33m(\u001b[0m\u001b[0mdata\u001b[0m\u001b[1;33m)\u001b[0m\u001b[1;33m\u001b[0m\u001b[1;33m\u001b[0m\u001b[0m\n",
      "\u001b[1;31mTypeError\u001b[0m: 'module' object is not callable"
     ]
    }
   ],
   "source": [
    "# download the papers one by one. The files are named after the titles (guaranteed to be valid file name after processed by slugify.)\n",
    "print('Start downloading')\n",
    "headers = {'user-agent': 'Mozilla/5.0 (Windows NT 10.0; WOW64; rv:57.0) Gecko/20100101 Firefox/57.0'}\n",
    "for i, url in enumerate(pdfurllist):\n",
    "    if url != None :      \n",
    "        pdfname = slugify(pdfnamelist[i])\n",
    "        if os.path.isfile(root+'/'+pdfname+\".pdf\"):\n",
    "            print('existed', i, '\\t', pdfnamelist[i], '\\t', pdfurllist[i])\n",
    "        else:\n",
    "            print(i, '\\t', pdfnamelist[i], '\\t', pdfurllist[i])\n",
    "            data = requests.get(pdfurllist[i], timeout=80, headers=headers).content\n",
    "            \n",
    "            with open(root+'/'+pdfname+\".pdf\", 'wb')  as f:\n",
    "                f.write(data)  \n",
    "            _ = time.sleep(random.uniform(4,5)) # for anti-anti-crawler purpose"
   ]
  },
  {
   "cell_type": "code",
   "execution_count": null,
   "metadata": {},
   "outputs": [],
   "source": []
  }
 ]
}