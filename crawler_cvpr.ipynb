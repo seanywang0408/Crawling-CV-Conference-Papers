{
 "metadata": {
  "language_info": {
   "codemirror_mode": {
    "name": "ipython",
    "version": 3
   },
   "file_extension": ".py",
   "mimetype": "text/x-python",
   "name": "python",
   "nbconvert_exporter": "python",
   "pygments_lexer": "ipython3",
   "version": "3.8.5-final"
  },
  "orig_nbformat": 2,
  "kernelspec": {
   "name": "python3",
   "display_name": "Python 3",
   "language": "python"
  }
 },
 "nbformat": 4,
 "nbformat_minor": 2,
 "cells": [
  {
   "cell_type": "code",
   "execution_count": 51,
   "metadata": {},
   "outputs": [],
   "source": [
    "from selenium import webdriver  \n",
    "import time  \n",
    "import urllib  \n",
    "from selenium.webdriver.common.keys import Keys\n",
    "from selenium.webdriver.common.action_chains import ActionChains\n",
    "from slugify import slugify\n",
    "import requests\n",
    "import random"
   ]
  },
  {
   "cell_type": "code",
   "execution_count": 40,
   "metadata": {},
   "outputs": [],
   "source": [
    "driver = webdriver.Chrome('C:\\\\Users\\\\xiaoyang\\\\Downloads\\\\chromedriver.exe')  \n",
    "base_url = \"https://openaccess.thecvf.com/CVPR2018\"\n",
    "\n",
    "\n",
    "driver.get(base_url)"
   ]
  },
  {
   "cell_type": "code",
   "execution_count": 49,
   "metadata": {},
   "outputs": [
    {
     "output_type": "stream",
     "name": "stdout",
     "text": [
      "./CVPR-2018-ALL\n"
     ]
    }
   ],
   "source": [
    "\n",
    "root = r'.\\CVPR-2018-ALL'.replace('\\\\','/')\n",
    "os.makedirs(root)\n",
    "print(root)"
   ]
  },
  {
   "cell_type": "code",
   "execution_count": 27,
   "metadata": {},
   "outputs": [],
   "source": [
    "driver.find_elements_by_xpath('//body/div[3]/dl/dd/a')[2].click()"
   ]
  },
  {
   "cell_type": "code",
   "execution_count": 34,
   "metadata": {},
   "outputs": [],
   "source": [
    "title_element_list = driver.find_elements_by_class_name('ptitle')"
   ]
  },
  {
   "cell_type": "code",
   "execution_count": 39,
   "metadata": {},
   "outputs": [],
   "source": [
    "url_element_list = driver.find_elements_by_partial_link_text('pdf')"
   ]
  },
  {
   "cell_type": "code",
   "execution_count": null,
   "metadata": {},
   "outputs": [],
   "source": []
  },
  {
   "cell_type": "code",
   "execution_count": 26,
   "metadata": {},
   "outputs": [],
   "source": [
    "driver.back()"
   ]
  },
  {
   "cell_type": "code",
   "execution_count": 23,
   "metadata": {},
   "outputs": [
    {
     "output_type": "execute_result",
     "data": {
      "text/plain": [
       "'https://openaccess.thecvf.com/CVPR2018.py?day=2018-06-21'"
      ]
     },
     "metadata": {},
     "execution_count": 23
    }
   ],
   "source": [
    "driver.find_elements_by_xpath('//body/div[3]/dl/dd/a')[2].get_attribute('href')"
   ]
  },
  {
   "cell_type": "code",
   "execution_count": 43,
   "metadata": {},
   "outputs": [],
   "source": [
    "pdfurllist =  []\n",
    "pdfnamelist = []\n",
    "\n",
    "\n",
    "for day in range(3):\n",
    "    driver.find_elements_by_xpath('//body/div[3]/dl/dd/a')[day].click()\n",
    "    title_element_list = driver.find_elements_by_class_name('ptitle')\n",
    "    url_element_list = driver.find_elements_by_partial_link_text('pdf')\n",
    "    for i, element in enumerate(url_element_list): \n",
    "\n",
    "        pdfnamelist.append(title_element_list[i].text)\n",
    "        pdfurllist.append(url_element_list[i].get_attribute('href'))\n",
    "    driver.back()\n"
   ]
  },
  {
   "cell_type": "code",
   "execution_count": 44,
   "metadata": {},
   "outputs": [
    {
     "output_type": "execute_result",
     "data": {
      "text/plain": [
       "'https://openaccess.thecvf.com/content_cvpr_2018/papers/Das_Embodied_Question_Answering_CVPR_2018_paper.pdf'"
      ]
     },
     "metadata": {},
     "execution_count": 44
    }
   ],
   "source": [
    "pdfurllist[0]"
   ]
  },
  {
   "cell_type": "code",
   "execution_count": null,
   "metadata": {},
   "outputs": [],
   "source": []
  },
  {
   "cell_type": "code",
   "execution_count": 45,
   "metadata": {},
   "outputs": [
    {
     "output_type": "stream",
     "name": "stdout",
     "text": [
      "['https://openaccess.thecvf.com/content_cvpr_2018/papers/Das_Embodied_Question_Answering_CVPR_2018_paper.pdf', 'https://openaccess.thecvf.com/content_cvpr_2018/papers/Misra_Learning_by_Asking_CVPR_2018_paper.pdf', 'https://openaccess.thecvf.com/content_cvpr_2018/papers/Bai_Finding_Tiny_Faces_CVPR_2018_paper.pdf', 'https://openaccess.thecvf.com/content_cvpr_2018/papers/Yang_Learning_Face_Age_CVPR_2018_paper.pdf', 'https://openaccess.thecvf.com/content_cvpr_2018/papers/Chang_PairedCycleGAN_Asymmetric_Style_CVPR_2018_paper.pdf', 'https://openaccess.thecvf.com/content_cvpr_2018/papers/Mueller_GANerated_Hands_for_CVPR_2018_paper.pdf', 'https://openaccess.thecvf.com/content_cvpr_2018/papers/Poier_Learning_Pose_Specific_CVPR_2018_paper.pdf', 'https://openaccess.thecvf.com/content_cvpr_2018/papers/Fang_Weakly_and_Semi_CVPR_2018_paper.pdf', 'https://openaccess.thecvf.com/content_cvpr_2018/papers/Wei_Person_Transfer_GAN_CVPR_2018_paper.pdf', 'https://openaccess.thecvf.com/content_cvpr_2018/papers/Spurr_Cross-Modal_Deep_Variational_CVPR_2018_paper.pdf']\n['https://openaccess.thecvf.com/content_cvpr_2018/papers/Ye_Learning_Compact_Recurrent_CVPR_2018_paper.pdf', 'https://openaccess.thecvf.com/content_cvpr_2018/papers/Tabernik_Spatially-Adaptive_Filter_Units_CVPR_2018_paper.pdf', 'https://openaccess.thecvf.com/content_cvpr_2018/papers/Li_SO-Net_Self-Organizing_Network_CVPR_2018_paper.pdf', 'https://openaccess.thecvf.com/content_cvpr_2018/papers/Chavdarova_SGAN_An_Alternative_CVPR_2018_paper.pdf', 'https://openaccess.thecvf.com/content_cvpr_2018/papers/Chen_SketchyGAN_Towards_Diverse_CVPR_2018_paper.pdf', 'https://openaccess.thecvf.com/content_cvpr_2018/papers/Zhou_Explicit_Loss-Error-Aware_Quantization_CVPR_2018_paper.pdf', 'https://openaccess.thecvf.com/content_cvpr_2018/papers/Zhu_Towards_Universal_Representation_CVPR_2018_paper.pdf', 'https://openaccess.thecvf.com/content_cvpr_2018/papers/Ulyanov_Deep_Image_Prior_CVPR_2018_paper.pdf', 'https://openaccess.thecvf.com/content_cvpr_2018/papers/Lin_ST-GAN_Spatial_Transformer_CVPR_2018_paper.pdf', 'https://openaccess.thecvf.com/content_cvpr_2018/papers/Chen_CartoonGAN_Generative_Adversarial_CVPR_2018_paper.pdf']\n"
     ]
    }
   ],
   "source": [
    "print(pdfurllist[:10])\n",
    "print(pdfurllist[-10:])"
   ]
  },
  {
   "cell_type": "code",
   "execution_count": 46,
   "metadata": {},
   "outputs": [
    {
     "output_type": "execute_result",
     "data": {
      "text/plain": [
       "['Embodied Question Answering',\n",
       " 'Learning by Asking Questions',\n",
       " 'Finding Tiny Faces in the Wild With Generative Adversarial Network',\n",
       " 'Learning Face Age Progression: A Pyramid Architecture of GANs',\n",
       " 'PairedCycleGAN: Asymmetric Style Transfer for Applying and Removing Makeup',\n",
       " 'GANerated Hands for Real-Time 3D Hand Tracking From Monocular RGB',\n",
       " 'Learning Pose Specific Representations by Predicting Different Views',\n",
       " 'Weakly and Semi Supervised Human Body Part Parsing via Pose-Guided Knowledge Transfer',\n",
       " 'Person Transfer GAN to Bridge Domain Gap for Person Re-Identification',\n",
       " 'Cross-Modal Deep Variational Hand Pose Estimation']"
      ]
     },
     "metadata": {},
     "execution_count": 46
    }
   ],
   "source": [
    "pdfnamelist[:10]"
   ]
  },
  {
   "cell_type": "code",
   "execution_count": 48,
   "metadata": {},
   "outputs": [
    {
     "output_type": "execute_result",
     "data": {
      "text/plain": [
       "979"
      ]
     },
     "metadata": {},
     "execution_count": 48
    }
   ],
   "source": [
    "len(pdfurllist)"
   ]
  },
  {
   "cell_type": "code",
   "execution_count": 47,
   "metadata": {},
   "outputs": [
    {
     "output_type": "execute_result",
     "data": {
      "text/plain": [
       "979"
      ]
     },
     "metadata": {},
     "execution_count": 47
    }
   ],
   "source": [
    "len(pdfnamelist)"
   ]
  },
  {
   "cell_type": "code",
   "execution_count": 50,
   "metadata": {},
   "outputs": [
    {
     "output_type": "stream",
     "name": "stdout",
     "text": [
      "0 \t Embodied Question Answering \t https://openaccess.thecvf.com/content_cvpr_2018/papers/Das_Embodied_Question_Answering_CVPR_2018_paper.pdf\n"
     ]
    },
    {
     "output_type": "error",
     "ename": "NameError",
     "evalue": "name 'requests' is not defined",
     "traceback": [
      "\u001b[1;31m---------------------------------------------------------------------------\u001b[0m",
      "\u001b[1;31mNameError\u001b[0m                                 Traceback (most recent call last)",
      "\u001b[1;32m<ipython-input-50-84a7f6e6a522>\u001b[0m in \u001b[0;36m<module>\u001b[1;34m\u001b[0m\n\u001b[0;32m      3\u001b[0m     \u001b[1;32mif\u001b[0m \u001b[0murl\u001b[0m \u001b[1;33m!=\u001b[0m \u001b[1;32mNone\u001b[0m \u001b[1;33m:\u001b[0m\u001b[1;33m\u001b[0m\u001b[1;33m\u001b[0m\u001b[0m\n\u001b[0;32m      4\u001b[0m         \u001b[0mprint\u001b[0m\u001b[1;33m(\u001b[0m\u001b[0mi\u001b[0m\u001b[1;33m,\u001b[0m \u001b[1;34m'\\t'\u001b[0m\u001b[1;33m,\u001b[0m \u001b[0mpdfnamelist\u001b[0m\u001b[1;33m[\u001b[0m\u001b[0mi\u001b[0m\u001b[1;33m]\u001b[0m\u001b[1;33m,\u001b[0m \u001b[1;34m'\\t'\u001b[0m\u001b[1;33m,\u001b[0m \u001b[0mpdfurllist\u001b[0m\u001b[1;33m[\u001b[0m\u001b[0mi\u001b[0m\u001b[1;33m]\u001b[0m\u001b[1;33m)\u001b[0m\u001b[1;33m\u001b[0m\u001b[1;33m\u001b[0m\u001b[0m\n\u001b[1;32m----> 5\u001b[1;33m         \u001b[0mdata\u001b[0m \u001b[1;33m=\u001b[0m \u001b[0mrequests\u001b[0m\u001b[1;33m.\u001b[0m\u001b[0mget\u001b[0m\u001b[1;33m(\u001b[0m\u001b[0mpdfurllist\u001b[0m\u001b[1;33m[\u001b[0m\u001b[0mi\u001b[0m\u001b[1;33m]\u001b[0m\u001b[1;33m,\u001b[0m \u001b[0mtimeout\u001b[0m\u001b[1;33m=\u001b[0m\u001b[1;36m80\u001b[0m\u001b[1;33m,\u001b[0m \u001b[0mheaders\u001b[0m\u001b[1;33m=\u001b[0m\u001b[0mheaders\u001b[0m\u001b[1;33m)\u001b[0m\u001b[1;33m.\u001b[0m\u001b[0mcontent\u001b[0m\u001b[1;33m\u001b[0m\u001b[1;33m\u001b[0m\u001b[0m\n\u001b[0m\u001b[0;32m      6\u001b[0m         \u001b[1;31m# pdfname = pdfnamelist[i].replace('?', '').replace('\"', '').replace('\\\\', '').replace('/', '').replace('*', ''). \\\u001b[0m\u001b[1;33m\u001b[0m\u001b[1;33m\u001b[0m\u001b[1;33m\u001b[0m\u001b[0m\n\u001b[0;32m      7\u001b[0m         \u001b[1;31m#                                             replace('>', '').replace('<', '').replace('|', '').replace(':', '.')\u001b[0m\u001b[1;33m\u001b[0m\u001b[1;33m\u001b[0m\u001b[1;33m\u001b[0m\u001b[0m\n",
      "\u001b[1;31mNameError\u001b[0m: name 'requests' is not defined"
     ]
    }
   ],
   "source": [
    "headers = {'user-agent': 'Mozilla/5.0 (Windows NT 10.0; WOW64; rv:57.0) Gecko/20100101 Firefox/57.0'}\n",
    "for i, url in enumerate(pdfurllist):\n",
    "    if url != None :      \n",
    "        print(i, '\\t', pdfnamelist[i], '\\t', pdfurllist[i])\n",
    "        data = requests.get(pdfurllist[i], timeout=80, headers=headers).content\n",
    "        # pdfname = pdfnamelist[i].replace('?', '').replace('\"', '').replace('\\\\', '').replace('/', '').replace('*', ''). \\\n",
    "        #                                             replace('>', '').replace('<', '').replace('|', '').replace(':', '.')\n",
    "        pdfname = slugify(pdfnamelist[i])\n",
    "        with open(root+'/'+pdfname+\".pdf\", 'wb')  as f:\n",
    "            f.write(data)  \n",
    "        _ = time.sleep(random.uniform(4,5))"
   ]
  },
  {
   "cell_type": "code",
   "execution_count": null,
   "metadata": {},
   "outputs": [],
   "source": []
  },
  {
   "cell_type": "code",
   "execution_count": null,
   "metadata": {},
   "outputs": [],
   "source": []
  },
  {
   "cell_type": "code",
   "execution_count": null,
   "metadata": {},
   "outputs": [],
   "source": []
  },
  {
   "cell_type": "code",
   "execution_count": null,
   "metadata": {},
   "outputs": [],
   "source": []
  },
  {
   "cell_type": "code",
   "execution_count": null,
   "metadata": {},
   "outputs": [],
   "source": []
  },
  {
   "cell_type": "code",
   "execution_count": null,
   "metadata": {},
   "outputs": [],
   "source": []
  },
  {
   "cell_type": "code",
   "execution_count": null,
   "metadata": {},
   "outputs": [],
   "source": []
  },
  {
   "cell_type": "code",
   "execution_count": null,
   "metadata": {},
   "outputs": [],
   "source": []
  },
  {
   "cell_type": "code",
   "execution_count": 53,
   "metadata": {},
   "outputs": [
    {
     "output_type": "execute_result",
     "data": {
      "text/plain": [
       "2272358"
      ]
     },
     "metadata": {},
     "execution_count": 53
    }
   ],
   "source": [
    "# pdfname = shorturl[shorturl.rindex(\"/\")+1:]\n",
    "data = urllib.request.urlopen(pdfurllist[1]).read()\n",
    "with open(pdfnamelist[1]+\".pdf\", 'wb')  as f:\n",
    "    f.write(data)  \n",
    "time.sleep(random.uniform(4,5))"
   ]
  },
  {
   "cell_type": "code",
   "execution_count": 25,
   "metadata": {},
   "outputs": [
    {
     "output_type": "execute_result",
     "data": {
      "text/plain": [
       "'Beyond Fully-Connected Layers with Quaternions. Parameterization of Hypercomplex Multiplications with\\n1n\\nParameters'"
      ]
     },
     "metadata": {},
     "execution_count": 25
    }
   ],
   "source": [
    "'Beyond Fully-Connected Layers with Quaternions. Parameterization of Hypercomplex Multiplications with\\n1n\\nParameters'[:255]#.replace('\\\\', '')"
   ]
  },
  {
   "cell_type": "code",
   "execution_count": 28,
   "metadata": {},
   "outputs": [
    {
     "output_type": "execute_result",
     "data": {
      "text/plain": [
       "'beyond-fully-connected-layers-with-quaternions-parameterization-of-hypercomplex-multiplications-with-1n-parameters'"
      ]
     },
     "metadata": {},
     "execution_count": 28
    }
   ],
   "source": [
    "slugify('Beyond Fully-Connected Layers with Quaternions. Parameterization of Hypercomplex Multiplications with\\n1n\\nParameters')"
   ]
  },
  {
   "cell_type": "code",
   "execution_count": 27,
   "metadata": {},
   "outputs": [
    {
     "output_type": "execute_result",
     "data": {
      "text/plain": [
       "'Beyond Fully-Connected Layers with Quaternions. Parameterization of Hypercomplex Multiplications with1nParameters'"
      ]
     },
     "metadata": {},
     "execution_count": 27
    }
   ],
   "source": [
    "\"\".join( x for x in 'Beyond Fully-Connected Layers with Quaternions. Parameterization of Hypercomplex Multiplications with\\n1n\\nParameters' if (x.isalnum() or x in \"._- \"))"
   ]
  },
  {
   "cell_type": "code",
   "execution_count": null,
   "metadata": {},
   "outputs": [],
   "source": [
    "\n",
    "# driver = webdriver.Chrome('C:\\Program Files (x86)\\Google\\Chrome\\Application\\chromedriver.exe')  \n",
    "\n",
    "# driver.get(\"https://openreview.net/group?id=ICLR.cc/2021/Conference\")\n",
    "# # elem = driver.find_element_by_id(\"ext-gen67\")\n",
    "# # #elem.send_keys(Keys.RETURN)\n",
    "# # print(elem)\n",
    "# # elem.click()\n",
    "\n",
    "# i= 0\n",
    "# elementllist =  driver.find_elements_by_name(\"FullTextPDF\")\n",
    "# pdfurllist =  []\n",
    "\n",
    "# for element in elementllist: \n",
    "#     pdfurllist.append(element.get_attribute('href'))\n",
    "#     i = i+1\n",
    "\n",
    "# import os\n",
    "# os.mkdir(\"chi2012\")\n",
    "\n",
    "# i = 0\n",
    "# for url in pdfurllist:\n",
    "#     if url != None :      \n",
    "#         i = i+1\n",
    "#         print i\n",
    "#         driver.get(url)\n",
    "#         pdf = driver.current_url\n",
    "#         shorturl = pdf[0:pdf.index(\".pdf\")]\n",
    "#         pdfname = shorturl[shorturl.rindex(\"/\")+1:]\n",
    "#         print pdfname\n",
    "#         data = urllib.urlopen(pdf).read()\n",
    "#         f = open(\"pdf\\\\\"+pdfname+\".pdf\", 'wb')  \n",
    "#         f.write(data)  \n",
    "#         f.close()  \n",
    "\n",
    "# driver.close()"
   ]
  }
 ]
}