{
 "metadata": {
  "language_info": {
   "codemirror_mode": {
    "name": "ipython",
    "version": 3
   },
   "file_extension": ".py",
   "mimetype": "text/x-python",
   "name": "python",
   "nbconvert_exporter": "python",
   "pygments_lexer": "ipython3",
   "version": "3.8.5-final"
  },
  "orig_nbformat": 2,
  "kernelspec": {
   "name": "python3",
   "display_name": "Python 3",
   "language": "python"
  }
 },
 "nbformat": 4,
 "nbformat_minor": 2,
 "cells": [
  {
   "cell_type": "code",
   "execution_count": 1,
   "metadata": {},
   "outputs": [],
   "source": [
    "from selenium import webdriver  \n",
    "import time  \n",
    "import urllib  \n",
    "from selenium.webdriver.common.keys import Keys\n",
    "from selenium.webdriver.common.action_chains import ActionChains\n",
    "from slugify import slugify\n",
    "\n",
    "import random"
   ]
  },
  {
   "cell_type": "code",
   "execution_count": null,
   "metadata": {},
   "outputs": [],
   "source": [
    "driver = webdriver.Chrome('C:\\\\Users\\\\xiaoyang\\\\Downloads\\\\chromedriver.exe')  \n",
    "base_url = \"https://papers.nips.cc/paper/2020\"\n",
    "\n",
    "\n",
    "driver.get(base_url)"
   ]
  },
  {
   "cell_type": "code",
   "execution_count": 24,
   "metadata": {},
   "outputs": [
    {
     "output_type": "stream",
     "name": "stdout",
     "text": [
      "./NeurIPS-2020-ALL\n"
     ]
    }
   ],
   "source": [
    "\n",
    "\n",
    "\n",
    "\n",
    "\n",
    "root = r'.\\NeurIPS-2020-ALL'.replace('\\\\','/')\n",
    "print(root)"
   ]
  },
  {
   "cell_type": "code",
   "execution_count": 3,
   "metadata": {},
   "outputs": [],
   "source": [
    "elementllist =  driver.find_elements_by_tag_name('li')\n"
   ]
  },
  {
   "cell_type": "code",
   "execution_count": 26,
   "metadata": {},
   "outputs": [
    {
     "output_type": "execute_result",
     "data": {
      "text/plain": [
       "'A graph similarity for deep learning'"
      ]
     },
     "metadata": {},
     "execution_count": 26
    }
   ],
   "source": [
    "elementllist[2].find_elements_by_xpath('a')[0].text"
   ]
  },
  {
   "cell_type": "code",
   "execution_count": 13,
   "metadata": {},
   "outputs": [
    {
     "output_type": "execute_result",
     "data": {
      "text/plain": [
       "'https://papers.nips.cc/paper/2020/hash/0004d0b59e19461ff126e3a08a814c33-Abstract.html'"
      ]
     },
     "metadata": {},
     "execution_count": 13
    }
   ],
   "source": [
    "elementllist[2].find_elements_by_xpath('a')[0].get_attribute('href').replace('hash', 'file', 1).replace('Abstract.html', 'Paper.pdf', 1)\n",
    "# https://papers.nips.cc/paper/2020/file/0004d0b59e19461ff126e3a08a814c33-Paper.pdf"
   ]
  },
  {
   "cell_type": "code",
   "execution_count": 14,
   "metadata": {},
   "outputs": [
    {
     "output_type": "execute_result",
     "data": {
      "text/plain": [
       "'https://papers.nips.cc/paper/2020/file/0004d0b59e19461ff126e3a08a814c33-Paper.pdf'"
      ]
     },
     "metadata": {},
     "execution_count": 14
    }
   ],
   "source": [
    "elementllist[2].find_elements_by_xpath('a')[0].get_attribute('href').replace('hash', 'file', 1).replace('Abstract.html', 'Paper.pdf', 1)"
   ]
  },
  {
   "cell_type": "code",
   "execution_count": 27,
   "metadata": {},
   "outputs": [],
   "source": [
    "pdfurllist =  []\n",
    "pdfnamelist = []\n",
    "for i, element in enumerate(elementllist): \n",
    "    if i < 2:\n",
    "        continue\n",
    "    pdfnamelist.append(elementllist[i].find_elements_by_xpath('a')[0].text)\n",
    "    pdfurllist.append(elementllist[i].find_elements_by_xpath('a')[0].get_attribute('href').replace('hash', 'file', 1).replace('Abstract.html', 'Paper.pdf', 1))\n"
   ]
  },
  {
   "cell_type": "code",
   "execution_count": 28,
   "metadata": {},
   "outputs": [
    {
     "output_type": "stream",
     "name": "stdout",
     "text": [
      "\nA graph similarity for deep learning Seongmin Ok\nLimits to Depth Efficiencies of Self-Attention Yoav Levine, Noam Wies, Or Sharir, Hofit Bata, Amnon Shashua\nnum of papers:  1898\n"
     ]
    }
   ],
   "source": [
    "print(elementllist[0].text)\n",
    "print(elementllist[2].text)\n",
    "print(elementllist[-1].text)\n",
    "print('num of papers: ',len(elementllist)-2)"
   ]
  },
  {
   "cell_type": "code",
   "execution_count": 29,
   "metadata": {},
   "outputs": [
    {
     "output_type": "execute_result",
     "data": {
      "text/plain": [
       "'https://papers.nips.cc/paper/2020/file/0004d0b59e19461ff126e3a08a814c33-Paper.pdf'"
      ]
     },
     "metadata": {},
     "execution_count": 29
    }
   ],
   "source": [
    "pdfurllist[0]"
   ]
  },
  {
   "cell_type": "code",
   "execution_count": 30,
   "metadata": {},
   "outputs": [
    {
     "output_type": "stream",
     "name": "stdout",
     "text": [
      "['https://papers.nips.cc/paper/2020/file/0004d0b59e19461ff126e3a08a814c33-Paper.pdf', 'https://papers.nips.cc/paper/2020/file/00482b9bed15a272730fcb590ffebddd-Paper.pdf', 'https://papers.nips.cc/paper/2020/file/0060ef47b12160b9198302ebdb144dcf-Paper.pdf', 'https://papers.nips.cc/paper/2020/file/007ff380ee5ac49ffc34442f5c2a2b86-Paper.pdf', 'https://papers.nips.cc/paper/2020/file/0084ae4bc24c0795d1e6a4f58444d39b-Paper.pdf', 'https://papers.nips.cc/paper/2020/file/00a03ec6533ca7f5c644d198d815329c-Paper.pdf', 'https://papers.nips.cc/paper/2020/file/00ac8ed3b4327bdd4ebbebcb2ba10a00-Paper.pdf', 'https://papers.nips.cc/paper/2020/file/00e26af6ac3b1c1c49d7c3d79c60d000-Paper.pdf', 'https://papers.nips.cc/paper/2020/file/012a91467f210472fab4e11359bbfef6-Paper.pdf', 'https://papers.nips.cc/paper/2020/file/012d9fe15b2493f21902cd55603382ec-Paper.pdf']\n['https://papers.nips.cc/paper/2020/file/fe87435d12ef7642af67d9bc82a8b3cd-Paper.pdf', 'https://papers.nips.cc/paper/2020/file/fea16e782bc1b1240e4b3c797012e289-Paper.pdf', 'https://papers.nips.cc/paper/2020/file/fec3392b0dc073244d38eba1feb8e6b7-Paper.pdf', 'https://papers.nips.cc/paper/2020/file/fec87a37cdeec1c6ecf8181c0aa2d3bf-Paper.pdf', 'https://papers.nips.cc/paper/2020/file/fedc604da8b0f9af74b6cfc0fab2163c-Paper.pdf', 'https://papers.nips.cc/paper/2020/file/fef6f971605336724b5e6c0c12dc2534-Paper.pdf', 'https://papers.nips.cc/paper/2020/file/ff0abbcc0227c9124a804b084d161a2d-Paper.pdf', 'https://papers.nips.cc/paper/2020/file/ff1418e8cc993fe8abcfe3ce2003e5c5-Paper.pdf', 'https://papers.nips.cc/paper/2020/file/ff42b03a06a1bed4e936f0e04958e168-Paper.pdf', 'https://papers.nips.cc/paper/2020/file/ff4dfdf5904e920ce52b48c1cef97829-Paper.pdf']\n"
     ]
    }
   ],
   "source": [
    "print(pdfurllist[:10])\n",
    "print(pdfurllist[-10:])"
   ]
  },
  {
   "cell_type": "code",
   "execution_count": 31,
   "metadata": {},
   "outputs": [
    {
     "output_type": "execute_result",
     "data": {
      "text/plain": [
       "['A graph similarity for deep learning',\n",
       " 'An Unsupervised Information-Theoretic Perceptual Quality Metric',\n",
       " 'Self-Supervised MultiModal Versatile Networks',\n",
       " 'Benchmarking Deep Inverse Models over time, and the Neural-Adjoint method',\n",
       " 'Off-Policy Evaluation and Learning for External Validity under a Covariate Shift',\n",
       " 'Neural Methods for Point-wise Dependency Estimation',\n",
       " 'Fast and Flexible Temporal Point Processes with Triangular Maps',\n",
       " 'Backpropagating Linearly Improves Transferability of Adversarial Examples',\n",
       " 'PyGlove: Symbolic Programming for Automated Machine Learning',\n",
       " 'Fourier Sparse Leverage Scores and Approximate Kernel Learning']"
      ]
     },
     "metadata": {},
     "execution_count": 31
    }
   ],
   "source": [
    "pdfnamelist[:10]"
   ]
  },
  {
   "cell_type": "code",
   "execution_count": 10,
   "metadata": {},
   "outputs": [],
   "source": []
  },
  {
   "cell_type": "code",
   "execution_count": 32,
   "metadata": {
    "tags": [
     "outputPrepend"
    ]
   },
   "outputs": [
    {
     "output_type": "stream",
     "name": "stdout",
     "text": [
      "Alignment \t https://papers.nips.cc/paper/2020/file/f169b1a771215329737c91f70b5bf05c-Paper.pdf\n",
      "1773 \t Escaping the Gravitational Pull of Softmax \t https://papers.nips.cc/paper/2020/file/f1cf2a082126bf02de0b307778ce73a7-Paper.pdf\n",
      "1774 \t Regret in Online Recommendation Systems \t https://papers.nips.cc/paper/2020/file/f1daf122cde863010844459363cd31db-Paper.pdf\n",
      "1775 \t On Convergence and Generalization of Dropout Training \t https://papers.nips.cc/paper/2020/file/f1de5100906f31712aaa5166689bfdf4-Paper.pdf\n",
      "1776 \t Second Order Optimality in Decentralized Non-Convex Optimization via Perturbed Gradient Tracking \t https://papers.nips.cc/paper/2020/file/f1ea154c843f7cf3677db7ce922a2d17-Paper.pdf\n",
      "1777 \t Implicit Regularization in Deep Learning May Not Be Explainable by Norms \t https://papers.nips.cc/paper/2020/file/f21e255f89e0f258accbe4e984eef486-Paper.pdf\n",
      "1778 \t POMO: Policy Optimization with Multiple Optima for Reinforcement Learning \t https://papers.nips.cc/paper/2020/file/f231f2107df69eab0a3862d50018a9b2-Paper.pdf\n",
      "1779 \t Uncertainty-aware Self-training for Few-shot Text Classification \t https://papers.nips.cc/paper/2020/file/f23d125da1e29e34c552f448610ff25f-Paper.pdf\n",
      "1780 \t Learning to Learn with Feedback and Local Plasticity \t https://papers.nips.cc/paper/2020/file/f291e10ec3263bd7724556d62e70e25d-Paper.pdf\n",
      "1781 \t Every View Counts: Cross-View Consistency in 3D Object Detection with Hybrid-Cylindrical-Spherical Voxelization \t https://papers.nips.cc/paper/2020/file/f2fc990265c712c49d51a18a32b39f0c-Paper.pdf\n",
      "1782 \t Sharper Generalization Bounds for Pairwise Learning \t https://papers.nips.cc/paper/2020/file/f3173935ed8ac4bf073c1bcd63171f8a-Paper.pdf\n",
      "1783 \t A Measure-Theoretic Approach to Kernel Conditional Mean Embeddings \t https://papers.nips.cc/paper/2020/file/f340f1b1f65b6df5b5e3f94d95b11daf-Paper.pdf\n",
      "1784 \t Quantifying the Empirical Wasserstein Distance to a Set of Measures: Beating the Curse of Dimensionality \t https://papers.nips.cc/paper/2020/file/f3507289cfdc8c9ae93f4098111a13f9-Paper.pdf\n",
      "1785 \t Bootstrap Your Own Latent - A New Approach to Self-Supervised Learning \t https://papers.nips.cc/paper/2020/file/f3ada80d5c4ee70142b17b8192b2958e-Paper.pdf\n",
      "1786 \t Towards Theoretically Understanding Why Sgd Generalizes Better Than Adam in Deep Learning \t https://papers.nips.cc/paper/2020/file/f3f27a324736617f20abbf2ffd806f6d-Paper.pdf\n",
      "1787 \t RSKDD-Net: Random Sample-based Keypoint Detector and Descriptor \t https://papers.nips.cc/paper/2020/file/f40723ed94042ea9ea36bfb5ad4157b2-Paper.pdf\n",
      "1788 \t Efficient Clustering for Stretched Mixtures: Landscape and Optimality \t https://papers.nips.cc/paper/2020/file/f40ee694989b3e2161be989e7b9907fc-Paper.pdf\n",
      "1789 \t A Group-Theoretic Framework for Data Augmentation \t https://papers.nips.cc/paper/2020/file/f4573fc71c731d5c362f0d7860945b88-Paper.pdf\n",
      "1790 \t The Statistical Cost of Robust Kernel Hyperparameter Turning \t https://papers.nips.cc/paper/2020/file/f4661398cb1a3abd3ffe58600bf11322-Paper.pdf\n",
      "1791 \t How does Weight Correlation Affect Generalisation Ability of Deep Neural Networks? \t https://papers.nips.cc/paper/2020/file/f48c04ffab49ff0e5d1176244fdfb65c-Paper.pdf\n",
      "1792 \t ContraGAN: Contrastive Learning for Conditional Image Generation \t https://papers.nips.cc/paper/2020/file/f490c742cd8318b8ee6dca10af2a163f-Paper.pdf\n",
      "1793 \t On the distance between two neural networks and the stability of learning \t https://papers.nips.cc/paper/2020/file/f4b31bee138ff5f7b84ce1575a738f95-Paper.pdf\n",
      "1794 \t A Topological Filter for Learning with Label Noise \t https://papers.nips.cc/paper/2020/file/f4e3ce3e7b581ff32e40968298ba013d-Paper.pdf\n",
      "1795 \t Personalized Federated Learning with Moreau Envelopes \t https://papers.nips.cc/paper/2020/file/f4f1f13c8289ac1b1ee0ff176b56fc60-Paper.pdf\n",
      "1796 \t Avoiding Side Effects in Complex Environments \t https://papers.nips.cc/paper/2020/file/f50a6c02a3fc5a3a5d4d9391f05f3efc-Paper.pdf\n",
      "1797 \t No-regret Learning in Price Competitions under Consumer Reference Effects \t https://papers.nips.cc/paper/2020/file/f51238cd02c93b89d8fbee5667d077fc-Paper.pdf\n",
      "1798 \t Geometric Dataset Distances via Optimal Transport \t https://papers.nips.cc/paper/2020/file/f52a7b2610fb4d3f74b4106fb80b233d-Paper.pdf\n",
      "1799 \t Task-Agnostic Amortized Inference of Gaussian Process Hyperparameters \t https://papers.nips.cc/paper/2020/file/f52db9f7c0ae7017ee41f63c2a7353bc-Paper.pdf\n",
      "1800 \t A novel variational form of the Schatten-\n",
      "p\n",
      "p\n",
      "quasi-norm \t https://papers.nips.cc/paper/2020/file/f53eb4122d5e2ce81a12093f8f9ce922-Paper.pdf\n",
      "1801 \t Energy-based Out-of-distribution Detection \t https://papers.nips.cc/paper/2020/file/f5496252609c43eb8a3d147ab9b9c006-Paper.pdf\n",
      "1802 \t On the Loss Landscape of Adversarial Training: Identifying Challenges and How to Overcome Them \t https://papers.nips.cc/paper/2020/file/f56d8183992b6c54c92c16a8519a6e2b-Paper.pdf\n",
      "1803 \t User-Dependent Neural Sequence Models for Continuous-Time Event Data \t https://papers.nips.cc/paper/2020/file/f56de5ef149cf0aedcc8f4797031e229-Paper.pdf\n",
      "1804 \t Active Structure Learning of Causal DAGs via Directed Clique Trees \t https://papers.nips.cc/paper/2020/file/f57bd0a58e953e5c43cd4a4e5af46138-Paper.pdf\n",
      "1805 \t Convergence and Stability of Graph Convolutional Networks on Large Random Graphs \t https://papers.nips.cc/paper/2020/file/f5a14d4963acf488e3a24780a84ac96c-Paper.pdf\n",
      "1806 \t BoTorch: A Framework for Efficient Monte-Carlo Bayesian Optimization \t https://papers.nips.cc/paper/2020/file/f5b1b89d98b7286673128a5fb112cb9a-Paper.pdf\n",
      "1807 \t Reconsidering Generative Objectives For Counterfactual Reasoning \t https://papers.nips.cc/paper/2020/file/f5cfbc876972bd0d031c8abc37344c28-Paper.pdf\n",
      "1808 \t Robust Federated Learning: The Case of Affine Distribution Shifts \t https://papers.nips.cc/paper/2020/file/f5e536083a438cec5b64a4954abc17f1-Paper.pdf\n",
      "1809 \t Quantile Propagation for Wasserstein-Approximate Gaussian Processes \t https://papers.nips.cc/paper/2020/file/f5e62af885293cf4d511ceef31e61c80-Paper.pdf\n",
      "1810 \t Generating Adjacency-Constrained Subgoals in Hierarchical Reinforcement Learning \t https://papers.nips.cc/paper/2020/file/f5f3b8d720f34ebebceb7765e447268b-Paper.pdf\n",
      "1811 \t High-contrast “gaudy” images improve the training of deep neural network models of visual cortex \t https://papers.nips.cc/paper/2020/file/f610a13de080fb8df6cf972fc01ad93f-Paper.pdf\n",
      "1812 \t Duality-Induced Regularizer for Tensor Factorization Based Knowledge Graph Completion \t https://papers.nips.cc/paper/2020/file/f6185f0ef02dcaec414a3171cd01c697-Paper.pdf\n",
      "1813 \t Distributed Training with Heterogeneous Data: Bridging Median- and Mean-Based Algorithms \t https://papers.nips.cc/paper/2020/file/f629ed9325990b10543ab5946c1362fb-Paper.pdf\n",
      "1814 \t H-Mem: Harnessing synaptic plasticity with Hebbian Memory Networks \t https://papers.nips.cc/paper/2020/file/f6876a9f998f6472cc26708e27444456-Paper.pdf\n",
      "1815 \t Neural Unsigned Distance Fields for Implicit Function Learning \t https://papers.nips.cc/paper/2020/file/f69e505b08403ad2298b9f262659929a-Paper.pdf\n",
      "1816 \t Curriculum By Smoothing \t https://papers.nips.cc/paper/2020/file/f6a673f09493afcd8b129a0bcf1cd5bc-Paper.pdf\n",
      "1817 \t Fast Transformers with Clustered Attention \t https://papers.nips.cc/paper/2020/file/f6a8dd1c954c8506aadc764cc32b895e-Paper.pdf\n",
      "1818 \t The Convex Relaxation Barrier, Revisited: Tightened Single-Neuron Relaxations for Neural Network Verification \t https://papers.nips.cc/paper/2020/file/f6c2a0c4b566bc99d596e58638e342b0-Paper.pdf\n",
      "1819 \t Strongly Incremental Constituency Parsing with Graph Neural Networks \t https://papers.nips.cc/paper/2020/file/f7177163c833dff4b38fc8d2872f1ec6-Paper.pdf\n",
      "1820 \t AOT: Appearance Optimal Transport Based Identity Swapping for Forgery Detection \t https://papers.nips.cc/paper/2020/file/f718499c1c8cef6730f9fd03c8125cab-Paper.pdf\n",
      "1821 \t Uncertainty-Aware Learning for Zero-Shot Semantic Segmentation \t https://papers.nips.cc/paper/2020/file/f73b76ce8949fe29bf2a537cfa420e8f-Paper.pdf\n",
      "1822 \t Delta-STN: Efficient Bilevel Optimization for Neural Networks using Structured Response Jacobians \t https://papers.nips.cc/paper/2020/file/f754186469a933256d7d64095e963594-Paper.pdf\n",
      "1823 \t First-Order Methods for Large-Scale Market Equilibrium Computation \t https://papers.nips.cc/paper/2020/file/f75526659f31040afeb61cb7133e4e6d-Paper.pdf\n",
      "1824 \t Minimax Optimal Nonparametric Estimation of Heterogeneous Treatment Effects \t https://papers.nips.cc/paper/2020/file/f75b757d3459c3e93e98ddab7b903938-Paper.pdf\n",
      "1825 \t Residual Force Control for Agile Human Behavior Imitation and Extended Motion Synthesis \t https://papers.nips.cc/paper/2020/file/f76a89f0cb91bc419542ce9fa43902dc-Paper.pdf\n",
      "1826 \t A General Method for Robust Learning from Batches \t https://papers.nips.cc/paper/2020/file/f7a82ce7e16d9687e7cd9a9feb85d187-Paper.pdf\n",
      "1827 \t Not All Unlabeled Data are Equal: Learning to Weight Data in Semi-supervised Learning \t https://papers.nips.cc/paper/2020/file/f7ac67a9aa8d255282de7d11391e1b69-Paper.pdf\n",
      "1828 \t Hard Negative Mixing for Contrastive Learning \t https://papers.nips.cc/paper/2020/file/f7cade80b7cc92b991cf4d2806d6bd78-Paper.pdf\n",
      "1829 \t MOReL: Model-Based Offline Reinforcement Learning \t https://papers.nips.cc/paper/2020/file/f7efa4f864ae9b88d43527f4b14f750f-Paper.pdf\n",
      "1830 \t Weisfeiler and Leman go sparse: Towards scalable higher-order graph embeddings \t https://papers.nips.cc/paper/2020/file/f81dee42585b3814de199b2e88757f5c-Paper.pdf\n",
      "1831 \t Adversarial Crowdsourcing Through Robust Rank-One Matrix Completion \t https://papers.nips.cc/paper/2020/file/f86890095c957e9b949d11d15f0d0cd5-Paper.pdf\n",
      "1832 \t Learning Semantic-aware Normalization for Generative Adversarial Networks \t https://papers.nips.cc/paper/2020/file/f885a14eaf260d7d9f93c750e1174228-Paper.pdf\n",
      "1833 \t Differentiable Causal Discovery from Interventional Data \t https://papers.nips.cc/paper/2020/file/f8b7aa3a0d349d9562b424160ad18612-Paper.pdf\n",
      "1834 \t One-sample Guided Object Representation Disassembling \t https://papers.nips.cc/paper/2020/file/f8e59f4b2fe7c5705bf878bbd494ccdf-Paper.pdf\n",
      "1835 \t Extrapolation Towards Imaginary 0-Nearest Neighbour and Its Improved Convergence Rate \t https://papers.nips.cc/paper/2020/file/f9028faec74be6ec9b852b0a542e2f39-Paper.pdf\n",
      "1836 \t Robust Persistence Diagrams using Reproducing Kernels \t https://papers.nips.cc/paper/2020/file/f99499791ad90c9c0ba9852622d0d15f-Paper.pdf\n",
      "1837 \t Contextual Games: Multi-Agent Learning with Side Information \t https://papers.nips.cc/paper/2020/file/f9afa97535cf7c8789a1c50a2cd83787-Paper.pdf\n",
      "1838 \t Goal-directed Generation of Discrete Structures with Conditional Generative Models \t https://papers.nips.cc/paper/2020/file/f9b9f0fef2274a6b7009b5d52f44a3b6-Paper.pdf\n",
      "1839 \t Beyond Lazy Training for Over-parameterized Tensor Decomposition \t https://papers.nips.cc/paper/2020/file/f9d3a954de63277730a1c66d8b38dee3-Paper.pdf\n",
      "1840 \t Denoised Smoothing: A Provable Defense for Pretrained Classifiers \t https://papers.nips.cc/paper/2020/file/f9fd2624beefbc7808e4e405d73f57ab-Paper.pdf\n",
      "1841 \t Minibatch Stochastic Approximate Proximal Point Methods \t https://papers.nips.cc/paper/2020/file/fa2246fa0fdf0d3e270c86767b77ba1b-Paper.pdf\n",
      "1842 \t Attribute Prototype Network for Zero-Shot Learning \t https://papers.nips.cc/paper/2020/file/fa2431bf9d65058fe34e9713e32d60e6-Paper.pdf\n",
      "1843 \t CrossTransformers: spatially-aware few-shot transfer \t https://papers.nips.cc/paper/2020/file/fa28c6cdf8dd6f41a657c3d7caa5c709-Paper.pdf\n",
      "1844 \t Learning Latent Space Energy-Based Prior Model \t https://papers.nips.cc/paper/2020/file/fa3060edb66e6ff4507886f9912e1ab9-Paper.pdf\n",
      "1845 \t SEVIR : A Storm Event Imagery Dataset for Deep Learning Applications in Radar and Satellite Meteorology \t https://papers.nips.cc/paper/2020/file/fa78a16157fed00d7a80515818432169-Paper.pdf\n",
      "1846 \t Lightweight Generative Adversarial Networks for Text-Guided Image Manipulation \t https://papers.nips.cc/paper/2020/file/fae0b27c451c728867a567e8c1bb4e53-Paper.pdf\n",
      "1847 \t High-Dimensional Contextual Policy Search with Unknown Context Rewards using Bayesian Optimization \t https://papers.nips.cc/paper/2020/file/faff959d885ec0ecf70741a846c34d1d-Paper.pdf\n",
      "1848 \t Model Fusion via Optimal Transport \t https://papers.nips.cc/paper/2020/file/fb2697869f56484404c8ceee2985b01d-Paper.pdf\n",
      "1849 \t On the Stability and Convergence of Robust Adversarial Reinforcement Learning: A Case Study on Linear Quadratic Systems \t https://papers.nips.cc/paper/2020/file/fb2e203234df6dee15934e448ee88971-Paper.pdf\n",
      "1850 \t Learning Individually Inferred Communication for Multi-Agent Cooperation \t https://papers.nips.cc/paper/2020/file/fb2fcd534b0ff3bbed73cc51df620323-Paper.pdf\n",
      "1851 \t Set2Graph: Learning Graphs From Sets \t https://papers.nips.cc/paper/2020/file/fb4ab556bc42d6f0ee0f9e24ec4d1af0-Paper.pdf\n",
      "1852 \t Graph Random Neural Networks for Semi-Supervised Learning on Graphs \t https://papers.nips.cc/paper/2020/file/fb4c835feb0a65cc39739320d7a51c02-Paper.pdf\n",
      "1853 \t Gradient Boosted Normalizing Flows \t https://papers.nips.cc/paper/2020/file/fb5d9e209ebda9ab6556a31639190622-Paper.pdf\n",
      "1854 \t Open Graph Benchmark: Datasets for Machine Learning on Graphs \t https://papers.nips.cc/paper/2020/file/fb60d411a5c5b72b2e7d3527cfc84fd0-Paper.pdf\n",
      "1855 \t Towards Understanding Hierarchical Learning: Benefits of Neural Representations \t https://papers.nips.cc/paper/2020/file/fb647ca6672b0930e9d00dc384d8b16f-Paper.pdf\n",
      "1856 \t Texture Interpolation for Probing Visual Perception \t https://papers.nips.cc/paper/2020/file/fba9d88164f3e2d9109ee770223212a0-Paper.pdf\n",
      "1857 \t Hierarchical Neural Architecture Search for Deep Stereo Matching \t https://papers.nips.cc/paper/2020/file/fc146be0b230d7e0a92e66a6114b840d-Paper.pdf\n",
      "1858 \t MuSCLE: Multi Sweep Compression of LiDAR using Deep Entropy Models \t https://papers.nips.cc/paper/2020/file/fc152e73692bc3c934d248f639d9e963-Paper.pdf\n",
      "1859 \t Implicit Bias in Deep Linear Classification: Initialization Scale vs Training Accuracy \t https://papers.nips.cc/paper/2020/file/fc2022c89b61c76bbef978f1370660bf-Paper.pdf\n",
      "1860 \t Focus of Attention Improves Information Transfer in Visual Features \t https://papers.nips.cc/paper/2020/file/fc2dc7d20994a777cfd5e6de734fe254-Paper.pdf\n",
      "1861 \t Auditing Differentially Private Machine Learning: How Private is Private SGD? \t https://papers.nips.cc/paper/2020/file/fc4ddc15f9f4b4b06ef7844d6bb53abf-Paper.pdf\n",
      "1862 \t A Dynamical Central Limit Theorem for Shallow Neural Networks \t https://papers.nips.cc/paper/2020/file/fc5b3186f1cf0daece964f78259b7ba0-Paper.pdf\n",
      "1863 \t Measuring Systematic Generalization in Neural Proof Generation with Transformers \t https://papers.nips.cc/paper/2020/file/fc84ad56f9f547eb89c72b9bac209312-Paper.pdf\n",
      "1864 \t Big Self-Supervised Models are Strong Semi-Supervised Learners \t https://papers.nips.cc/paper/2020/file/fcbc95ccdd551da181207c0c1400c655-Paper.pdf\n",
      "1865 \t Learning from Label Proportions: A Mutual Contamination Framework \t https://papers.nips.cc/paper/2020/file/fcde14913c766cf307c75059e0e89af5-Paper.pdf\n",
      "1866 \t Fast Matrix Square Roots with Applications to Gaussian Processes and Bayesian Optimization \t https://papers.nips.cc/paper/2020/file/fcf55a303b71b84d326fb1d06e332a26-Paper.pdf\n",
      "1867 \t Self-Adaptively Learning to Demoiré from Focused and Defocused Image Pairs \t https://papers.nips.cc/paper/2020/file/fd348179ec677c5560d4cd9c3ffb6cd9-Paper.pdf\n",
      "1868 \t Confounding-Robust Policy Evaluation in Infinite-Horizon Reinforcement Learning \t https://papers.nips.cc/paper/2020/file/fd4f21f2556dad0ea8b7a5c04eabebda-Paper.pdf\n",
      "1869 \t Model Class Reliance for Random Forests \t https://papers.nips.cc/paper/2020/file/fd512441a1a791770a6fa573d688bff5-Paper.pdf\n",
      "1870 \t Follow the Perturbed Leader: Optimism and Fast Parallel Algorithms for Smooth Minimax Games \t https://papers.nips.cc/paper/2020/file/fd5ac6ce504b74460b93610f39e481f7-Paper.pdf\n",
      "1871 \t Agnostic\n",
      "Q\n",
      "Q\n",
      "-learning with Function Approximation in Deterministic Systems: Near-Optimal Bounds on Approximation Error and Sample Complexity \t https://papers.nips.cc/paper/2020/file/fd5c905bcd8c3348ad1b35d7231ee2b1-Paper.pdf\n",
      "1872 \t Learning to Adapt to Evolving Domains \t https://papers.nips.cc/paper/2020/file/fd69dbe29f156a7ef876a40a94f65599-Paper.pdf\n",
      "1873 \t Synthesizing Tasks for Block-based Programming \t https://papers.nips.cc/paper/2020/file/fd9dd764a6f1d73f4340d570804eacc4-Paper.pdf\n",
      "1874 \t Scalable Belief Propagation via Relaxed Scheduling \t https://papers.nips.cc/paper/2020/file/fdb2c3bab9d0701c4a050a4d8d782c7f-Paper.pdf\n",
      "1875 \t Firefly Neural Architecture Descent: a General Approach for Growing Neural Networks \t https://papers.nips.cc/paper/2020/file/fdbe012e2e11314b96402b32c0df26b7-Paper.pdf\n",
      "1876 \t Risk-Sensitive Reinforcement Learning: Near-Optimal Risk-Sample Tradeoff in Regret \t https://papers.nips.cc/paper/2020/file/fdc42b6b0ee16a2f866281508ef56730-Paper.pdf\n",
      "1877 \t Learning to Decode: Reinforcement Learning for Decoding of Sparse Graph-Based Channel Codes \t https://papers.nips.cc/paper/2020/file/fdd5b16fc8134339089ef25b3cf0e588-Paper.pdf\n",
      "1878 \t Faster DBSCAN via subsampled similarity queries \t https://papers.nips.cc/paper/2020/file/fdf1bc5669e8ff5ba45d02fded729feb-Paper.pdf\n",
      "1879 \t De-Anonymizing Text by Fingerprinting Language Generation \t https://papers.nips.cc/paper/2020/file/fdf2aade29d18910051a6c76ae661860-Paper.pdf\n",
      "1880 \t Multiparameter Persistence Image for Topological Machine Learning \t https://papers.nips.cc/paper/2020/file/fdff71fcab656abfbefaabecab1a7f6d-Paper.pdf\n",
      "1881 \t PLANS: Neuro-Symbolic Program Learning from Videos \t https://papers.nips.cc/paper/2020/file/fe131d7f5a6b38b23cc967316c13dae2-Paper.pdf\n",
      "1882 \t Matrix Inference and Estimation in Multi-Layer Models \t https://papers.nips.cc/paper/2020/file/fe2b421b8b5f0e7c355ace66a9fe0206-Paper.pdf\n",
      "1883 \t MeshSDF: Differentiable Iso-Surface Extraction \t https://papers.nips.cc/paper/2020/file/fe40fb944ee700392ed51bfe84dd4e3d-Paper.pdf\n",
      "1884 \t Variational Interaction Information Maximization for Cross-domain Disentanglement \t https://papers.nips.cc/paper/2020/file/fe663a72b27bdc613873fbbb512f6f67-Paper.pdf\n",
      "1885 \t Provably Efficient Exploration for Reinforcement Learning Using Unsupervised Learning \t https://papers.nips.cc/paper/2020/file/fe73f687e5bc5280214e0486b273a5f9-Paper.pdf\n",
      "1886 \t Faithful Embeddings for Knowledge Base Queries \t https://papers.nips.cc/paper/2020/file/fe74074593f21197b7b7be3c08678616-Paper.pdf\n",
      "1887 \t Wasserstein Distances for Stereo Disparity Estimation \t https://papers.nips.cc/paper/2020/file/fe7ecc4de28b2c83c016b5c6c2acd826-Paper.pdf\n",
      "1888 \t Multi-agent Trajectory Prediction with Fuzzy Query Attention \t https://papers.nips.cc/paper/2020/file/fe87435d12ef7642af67d9bc82a8b3cd-Paper.pdf\n",
      "1889 \t Multilabel Classification by Hierarchical Partitioning and Data-dependent Grouping \t https://papers.nips.cc/paper/2020/file/fea16e782bc1b1240e4b3c797012e289-Paper.pdf\n",
      "1890 \t An Analysis of SVD for Deep Rotation Estimation \t https://papers.nips.cc/paper/2020/file/fec3392b0dc073244d38eba1feb8e6b7-Paper.pdf\n",
      "1891 \t Can the Brain Do Backpropagation? --- Exact Implementation of Backpropagation in Predictive Coding Networks \t https://papers.nips.cc/paper/2020/file/fec87a37cdeec1c6ecf8181c0aa2d3bf-Paper.pdf\n",
      "1892 \t Manifold GPLVMs for discovering non-Euclidean latent structure in neural data \t https://papers.nips.cc/paper/2020/file/fedc604da8b0f9af74b6cfc0fab2163c-Paper.pdf\n",
      "1893 \t Distributed Distillation for On-Device Learning \t https://papers.nips.cc/paper/2020/file/fef6f971605336724b5e6c0c12dc2534-Paper.pdf\n",
      "1894 \t COOT: Cooperative Hierarchical Transformer for Video-Text Representation Learning \t https://papers.nips.cc/paper/2020/file/ff0abbcc0227c9124a804b084d161a2d-Paper.pdf\n",
      "1895 \t Passport-aware Normalization for Deep Model Protection \t https://papers.nips.cc/paper/2020/file/ff1418e8cc993fe8abcfe3ce2003e5c5-Paper.pdf\n",
      "1896 \t Sampling-Decomposable Generative Adversarial Recommender \t https://papers.nips.cc/paper/2020/file/ff42b03a06a1bed4e936f0e04958e168-Paper.pdf\n",
      "1897 \t Limits to Depth Efficiencies of Self-Attention \t https://papers.nips.cc/paper/2020/file/ff4dfdf5904e920ce52b48c1cef97829-Paper.pdf\n"
     ]
    }
   ],
   "source": [
    "for i, url in enumerate(pdfurllist):\n",
    "    if url != None :      \n",
    "        print(i, '\\t', pdfnamelist[i], '\\t', pdfurllist[i])\n",
    "        data = urllib.request.urlopen(pdfurllist[i]).read()\n",
    "        # pdfname = pdfnamelist[i].replace('?', '').replace('\"', '').replace('\\\\', '').replace('/', '').replace('*', ''). \\\n",
    "        #                                             replace('>', '').replace('<', '').replace('|', '').replace(':', '.')\n",
    "        pdfname = slugify(pdfnamelist[i])\n",
    "        with open(root+'/'+pdfname+\".pdf\", 'wb')  as f:\n",
    "            f.write(data)  \n",
    "        _ = time.sleep(random.uniform(4,5))"
   ]
  },
  {
   "cell_type": "code",
   "execution_count": null,
   "metadata": {},
   "outputs": [],
   "source": []
  },
  {
   "cell_type": "code",
   "execution_count": null,
   "metadata": {},
   "outputs": [],
   "source": []
  },
  {
   "cell_type": "code",
   "execution_count": null,
   "metadata": {},
   "outputs": [],
   "source": []
  },
  {
   "cell_type": "code",
   "execution_count": null,
   "metadata": {},
   "outputs": [],
   "source": []
  },
  {
   "cell_type": "code",
   "execution_count": null,
   "metadata": {},
   "outputs": [],
   "source": []
  },
  {
   "cell_type": "code",
   "execution_count": null,
   "metadata": {},
   "outputs": [],
   "source": []
  },
  {
   "cell_type": "code",
   "execution_count": null,
   "metadata": {},
   "outputs": [],
   "source": []
  },
  {
   "cell_type": "code",
   "execution_count": null,
   "metadata": {},
   "outputs": [],
   "source": []
  },
  {
   "cell_type": "code",
   "execution_count": 53,
   "metadata": {},
   "outputs": [
    {
     "output_type": "execute_result",
     "data": {
      "text/plain": [
       "2272358"
      ]
     },
     "metadata": {},
     "execution_count": 53
    }
   ],
   "source": [
    "# pdfname = shorturl[shorturl.rindex(\"/\")+1:]\n",
    "data = urllib.request.urlopen(pdfurllist[1]).read()\n",
    "with open(pdfnamelist[1]+\".pdf\", 'wb')  as f:\n",
    "    f.write(data)  \n",
    "time.sleep(random.uniform(4,5))"
   ]
  },
  {
   "cell_type": "code",
   "execution_count": 25,
   "metadata": {},
   "outputs": [
    {
     "output_type": "execute_result",
     "data": {
      "text/plain": [
       "'Beyond Fully-Connected Layers with Quaternions. Parameterization of Hypercomplex Multiplications with\\n1n\\nParameters'"
      ]
     },
     "metadata": {},
     "execution_count": 25
    }
   ],
   "source": [
    "'Beyond Fully-Connected Layers with Quaternions. Parameterization of Hypercomplex Multiplications with\\n1n\\nParameters'[:255]#.replace('\\\\', '')"
   ]
  },
  {
   "cell_type": "code",
   "execution_count": 28,
   "metadata": {},
   "outputs": [
    {
     "output_type": "execute_result",
     "data": {
      "text/plain": [
       "'beyond-fully-connected-layers-with-quaternions-parameterization-of-hypercomplex-multiplications-with-1n-parameters'"
      ]
     },
     "metadata": {},
     "execution_count": 28
    }
   ],
   "source": [
    "slugify('Beyond Fully-Connected Layers with Quaternions. Parameterization of Hypercomplex Multiplications with\\n1n\\nParameters')"
   ]
  },
  {
   "cell_type": "code",
   "execution_count": 27,
   "metadata": {},
   "outputs": [
    {
     "output_type": "execute_result",
     "data": {
      "text/plain": [
       "'Beyond Fully-Connected Layers with Quaternions. Parameterization of Hypercomplex Multiplications with1nParameters'"
      ]
     },
     "metadata": {},
     "execution_count": 27
    }
   ],
   "source": [
    "\"\".join( x for x in 'Beyond Fully-Connected Layers with Quaternions. Parameterization of Hypercomplex Multiplications with\\n1n\\nParameters' if (x.isalnum() or x in \"._- \"))"
   ]
  },
  {
   "cell_type": "code",
   "execution_count": null,
   "metadata": {},
   "outputs": [],
   "source": [
    "\n",
    "# driver = webdriver.Chrome('C:\\Program Files (x86)\\Google\\Chrome\\Application\\chromedriver.exe')  \n",
    "\n",
    "# driver.get(\"https://openreview.net/group?id=ICLR.cc/2021/Conference\")\n",
    "# # elem = driver.find_element_by_id(\"ext-gen67\")\n",
    "# # #elem.send_keys(Keys.RETURN)\n",
    "# # print(elem)\n",
    "# # elem.click()\n",
    "\n",
    "# i= 0\n",
    "# elementllist =  driver.find_elements_by_name(\"FullTextPDF\")\n",
    "# pdfurllist =  []\n",
    "\n",
    "# for element in elementllist: \n",
    "#     pdfurllist.append(element.get_attribute('href'))\n",
    "#     i = i+1\n",
    "\n",
    "# import os\n",
    "# os.mkdir(\"chi2012\")\n",
    "\n",
    "# i = 0\n",
    "# for url in pdfurllist:\n",
    "#     if url != None :      \n",
    "#         i = i+1\n",
    "#         print i\n",
    "#         driver.get(url)\n",
    "#         pdf = driver.current_url\n",
    "#         shorturl = pdf[0:pdf.index(\".pdf\")]\n",
    "#         pdfname = shorturl[shorturl.rindex(\"/\")+1:]\n",
    "#         print pdfname\n",
    "#         data = urllib.urlopen(pdf).read()\n",
    "#         f = open(\"pdf\\\\\"+pdfname+\".pdf\", 'wb')  \n",
    "#         f.write(data)  \n",
    "#         f.close()  \n",
    "\n",
    "# driver.close()"
   ]
  }
 ]
}