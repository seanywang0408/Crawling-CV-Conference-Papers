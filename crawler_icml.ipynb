{
 "metadata": {
  "language_info": {
   "codemirror_mode": {
    "name": "ipython",
    "version": 3
   },
   "file_extension": ".py",
   "mimetype": "text/x-python",
   "name": "python",
   "nbconvert_exporter": "python",
   "pygments_lexer": "ipython3",
   "version": "3.8.5-final"
  },
  "orig_nbformat": 2,
  "kernelspec": {
   "name": "python3",
   "display_name": "Python 3",
   "language": "python"
  }
 },
 "nbformat": 4,
 "nbformat_minor": 2,
 "cells": [
  {
   "cell_type": "code",
   "execution_count": 2,
   "metadata": {},
   "outputs": [],
   "source": [
    "from selenium import webdriver  \n",
    "import time  \n",
    "import urllib  \n",
    "from selenium.webdriver.common.keys import Keys\n",
    "from selenium.webdriver.common.action_chains import ActionChains\n",
    "from slugify import slugify\n",
    "\n",
    "import random"
   ]
  },
  {
   "cell_type": "code",
   "execution_count": 3,
   "metadata": {},
   "outputs": [],
   "source": [
    "driver = webdriver.Chrome('C:\\\\Users\\\\xiaoyang\\\\Downloads\\\\chromedriver.exe')  \n",
    "base_url = \"http://proceedings.mlr.press/v119/\"\n",
    "\n",
    "\n",
    "driver.get(base_url)"
   ]
  },
  {
   "cell_type": "code",
   "execution_count": 4,
   "metadata": {},
   "outputs": [
    {
     "output_type": "stream",
     "name": "stdout",
     "text": [
      "./ICML-2020-ALL\n"
     ]
    }
   ],
   "source": [
    "\n",
    "root = r'.\\ICML-2020-ALL'.replace('\\\\','/')\n",
    "print(root)"
   ]
  },
  {
   "cell_type": "code",
   "execution_count": 7,
   "metadata": {},
   "outputs": [],
   "source": [
    "elementllist =  driver.find_elements_by_class_name('title')\n"
   ]
  },
  {
   "cell_type": "code",
   "execution_count": 8,
   "metadata": {},
   "outputs": [
    {
     "output_type": "execute_result",
     "data": {
      "text/plain": [
       "'Selective Dyna-Style Planning Under Limited Model Capacity'"
      ]
     },
     "metadata": {},
     "execution_count": 8
    }
   ],
   "source": [
    "elementllist[0].text"
   ]
  },
  {
   "cell_type": "code",
   "execution_count": 9,
   "metadata": {},
   "outputs": [
    {
     "output_type": "execute_result",
     "data": {
      "text/plain": [
       "1084"
      ]
     },
     "metadata": {},
     "execution_count": 9
    }
   ],
   "source": [
    "len(elementllist)"
   ]
  },
  {
   "cell_type": "code",
   "execution_count": 12,
   "metadata": {},
   "outputs": [],
   "source": [
    "url_elementllist =  driver.find_elements_by_link_text('Download PDF')\n"
   ]
  },
  {
   "cell_type": "code",
   "execution_count": 13,
   "metadata": {},
   "outputs": [
    {
     "output_type": "stream",
     "name": "stdout",
     "text": [
      "1084\n"
     ]
    }
   ],
   "source": [
    "print(len(url_elementllist))"
   ]
  },
  {
   "cell_type": "code",
   "execution_count": 15,
   "metadata": {},
   "outputs": [
    {
     "output_type": "execute_result",
     "data": {
      "text/plain": [
       "'http://proceedings.mlr.press/v119/abbas20a/abbas20a.pdf'"
      ]
     },
     "metadata": {},
     "execution_count": 15
    }
   ],
   "source": [
    "url_elementllist[0].get_attribute('href')"
   ]
  },
  {
   "cell_type": "code",
   "execution_count": 16,
   "metadata": {},
   "outputs": [
    {
     "output_type": "stream",
     "name": "stdout",
     "text": [
      "Selective Dyna-Style Planning Under Limited Model Capacity\nEfficient Optimistic Exploration in Linear-Quadratic Regulators via Lagrangian Relaxation\nTransformer Hawkes Process\nnum of papers:  1084\n"
     ]
    }
   ],
   "source": [
    "print(elementllist[0].text)\n",
    "print(elementllist[2].text)\n",
    "print(elementllist[-1].text)\n",
    "print('num of papers: ',len(url_elementllist))"
   ]
  },
  {
   "cell_type": "code",
   "execution_count": 17,
   "metadata": {},
   "outputs": [],
   "source": [
    "pdfurllist =  []\n",
    "pdfnamelist = []\n",
    "for i, element in enumerate(url_elementllist): \n",
    "\n",
    "    pdfnamelist.append(elementllist[i].text)\n",
    "    pdfurllist.append(url_elementllist[i].get_attribute('href'))\n"
   ]
  },
  {
   "cell_type": "code",
   "execution_count": 29,
   "metadata": {},
   "outputs": [
    {
     "output_type": "execute_result",
     "data": {
      "text/plain": [
       "'https://papers.nips.cc/paper/2020/file/0004d0b59e19461ff126e3a08a814c33-Paper.pdf'"
      ]
     },
     "metadata": {},
     "execution_count": 29
    }
   ],
   "source": [
    "pdfurllist[0]"
   ]
  },
  {
   "cell_type": "code",
   "execution_count": 18,
   "metadata": {},
   "outputs": [
    {
     "output_type": "stream",
     "name": "stdout",
     "text": [
      "['http://proceedings.mlr.press/v119/abbas20a/abbas20a.pdf', 'http://proceedings.mlr.press/v119/abdolmaleki20a/abdolmaleki20a.pdf', 'http://proceedings.mlr.press/v119/abeille20a/abeille20a.pdf', 'http://proceedings.mlr.press/v119/ablin20a/ablin20a.pdf', 'http://proceedings.mlr.press/v119/abrol20a/abrol20a.pdf', 'http://proceedings.mlr.press/v119/acharya20a/acharya20a.pdf', 'http://proceedings.mlr.press/v119/addanki20a/addanki20a.pdf', 'http://proceedings.mlr.press/v119/adlam20a/adlam20a.pdf', 'http://proceedings.mlr.press/v119/agarwal20a/agarwal20a.pdf', 'http://proceedings.mlr.press/v119/agarwal20b/agarwal20b.pdf']\n['http://proceedings.mlr.press/v119/zhu20d/zhu20d.pdf', 'http://proceedings.mlr.press/v119/zhu20e/zhu20e.pdf', 'http://proceedings.mlr.press/v119/zhu20f/zhu20f.pdf', 'http://proceedings.mlr.press/v119/zhu20g/zhu20g.pdf', 'http://proceedings.mlr.press/v119/zhuang20a/zhuang20a.pdf', 'http://proceedings.mlr.press/v119/zhuo20a/zhuo20a.pdf', 'http://proceedings.mlr.press/v119/ziko20a/ziko20a.pdf', 'http://proceedings.mlr.press/v119/zimmer20a/zimmer20a.pdf', 'http://proceedings.mlr.press/v119/zoltowski20a/zoltowski20a.pdf', 'http://proceedings.mlr.press/v119/zuo20a/zuo20a.pdf']\n"
     ]
    }
   ],
   "source": [
    "print(pdfurllist[:10])\n",
    "print(pdfurllist[-10:])"
   ]
  },
  {
   "cell_type": "code",
   "execution_count": 19,
   "metadata": {},
   "outputs": [
    {
     "output_type": "execute_result",
     "data": {
      "text/plain": [
       "['Selective Dyna-Style Planning Under Limited Model Capacity',\n",
       " 'A distributional view on multi-objective policy optimization',\n",
       " 'Efficient Optimistic Exploration in Linear-Quadratic Regulators via Lagrangian Relaxation',\n",
       " 'Super-efficiency of automatic differentiation for functions defined as a minimum',\n",
       " 'A Geometric Approach to Archetypal Analysis via Sparse Projections',\n",
       " 'Context Aware Local Differential Privacy',\n",
       " 'Efficient Intervention Design for Causal Discovery with Latents',\n",
       " 'The Neural Tangent Kernel in High Dimensions: Triple Descent and a Multi-Scale Theory of Generalization',\n",
       " 'Rank Aggregation from Pairwise Comparisons in the Presence of Adversarial Corruptions',\n",
       " 'Boosting for Control of Dynamical Systems']"
      ]
     },
     "metadata": {},
     "execution_count": 19
    }
   ],
   "source": [
    "pdfnamelist[:10]"
   ]
  },
  {
   "cell_type": "code",
   "execution_count": 10,
   "metadata": {},
   "outputs": [],
   "source": []
  },
  {
   "cell_type": "code",
   "execution_count": 20,
   "metadata": {
    "tags": [
     "outputPrepend"
    ]
   },
   "outputs": [
    {
     "output_type": "stream",
     "name": "stdout",
     "text": [
      "al Latent Variables \t http://proceedings.mlr.press/v119/wang20s/wang20s.pdf\n",
      "929 \t Loss Function Search for Face Recognition \t http://proceedings.mlr.press/v119/wang20t/wang20t.pdf\n",
      "930 \t Sequential Cooperative Bayesian Inference \t http://proceedings.mlr.press/v119/wang20u/wang20u.pdf\n",
      "931 \t Neural Network Control Policy Verification With Persistent Adversarial Perturbation \t http://proceedings.mlr.press/v119/wang20v/wang20v.pdf\n",
      "932 \t Cost-effectively Identifying Causal Effects When Only Response Variable is Observable \t http://proceedings.mlr.press/v119/wang20w/wang20w.pdf\n",
      "933 \t Striving for Simplicity and Performance in Off-Policy DRL: Output Normalization and Non-Uniform Sampling \t http://proceedings.mlr.press/v119/wang20x/wang20x.pdf\n",
      "934 \t On Differentially Private Stochastic Convex Optimization with Heavy-tailed Data \t http://proceedings.mlr.press/v119/wang20y/wang20y.pdf\n",
      "935 \t Breaking the Curse of Many Agents: Provable Mean Embedding Q-Iteration for Mean-Field Reinforcement Learning \t http://proceedings.mlr.press/v119/wang20z/wang20z.pdf\n",
      "936 \t On Lp-norm Robustness of Ensemble Decision Stumps and Trees \t http://proceedings.mlr.press/v119/wang20aa/wang20aa.pdf\n",
      "937 \t Thompson Sampling via Local Uncertainty \t http://proceedings.mlr.press/v119/wang20ab/wang20ab.pdf\n",
      "938 \t A Nearly-Linear Time Algorithm for Exact Community Recovery in Stochastic Block Model \t http://proceedings.mlr.press/v119/wang20ac/wang20ac.pdf\n",
      "939 \t Learning Representations that Support Extrapolation \t http://proceedings.mlr.press/v119/webb20a/webb20a.pdf\n",
      "940 \t Tuning-free Plug-and-Play Proximal Algorithm for Inverse Imaging Problems \t http://proceedings.mlr.press/v119/wei20b/wei20b.pdf\n",
      "941 \t Model-free Reinforcement Learning in Infinite-horizon Average-reward Markov Decision Processes \t http://proceedings.mlr.press/v119/wei20c/wei20c.pdf\n",
      "942 \t The Implicit and Explicit Regularization Effects of Dropout \t http://proceedings.mlr.press/v119/wei20d/wei20d.pdf\n",
      "943 \t Online Control of the False Coverage Rate and False Sign Rate \t http://proceedings.mlr.press/v119/weinstein20a/weinstein20a.pdf\n",
      "944 \t Batch Stationary Distribution Estimation \t http://proceedings.mlr.press/v119/wen20a/wen20a.pdf\n",
      "945 \t Domain Aggregation Networks for Multi-Source Domain Adaptation \t http://proceedings.mlr.press/v119/wen20b/wen20b.pdf\n",
      "946 \t Towards Understanding the Regularization of Adversarial Robustness on Neural Networks \t http://proceedings.mlr.press/v119/wen20c/wen20c.pdf\n",
      "947 \t Amortised Learning by Wake-Sleep \t http://proceedings.mlr.press/v119/wenliang20a/wenliang20a.pdf\n",
      "948 \t How Good is the Bayes Posterior in Deep Neural Networks Really? \t http://proceedings.mlr.press/v119/wenzel20a/wenzel20a.pdf\n",
      "949 \t Predictive Sampling with Forecasting Autoregressive Models \t http://proceedings.mlr.press/v119/wiggers20a/wiggers20a.pdf\n",
      "950 \t State Space Expectation Propagation: Efficient Inference Schemes for Temporal Gaussian Processes \t http://proceedings.mlr.press/v119/wilkinson20a/wilkinson20a.pdf\n",
      "951 \t Efficient nonparametric statistical inference on population feature importance using Shapley values \t http://proceedings.mlr.press/v119/williamson20a/williamson20a.pdf\n",
      "952 \t Efficiently sampling functions from Gaussian process posteriors \t http://proceedings.mlr.press/v119/wilson20a/wilson20a.pdf\n",
      "953 \t Learning to Rank Learning Curves \t http://proceedings.mlr.press/v119/wistuba20a/wistuba20a.pdf\n",
      "954 \t Causal Inference using Gaussian Processes with Structured Latent Confounders \t http://proceedings.mlr.press/v119/witty20a/witty20a.pdf\n",
      "955 \t Near Input Sparsity Time Kernel Embeddings via Adaptive Sampling \t http://proceedings.mlr.press/v119/woodruff20a/woodruff20a.pdf\n",
      "956 \t Is Local SGD Better than Minibatch SGD? \t http://proceedings.mlr.press/v119/woodworth20a/woodworth20a.pdf\n",
      "957 \t Obtaining Adjustable Regularization for Free via Iterate Averaging \t http://proceedings.mlr.press/v119/wu20a/wu20a.pdf\n",
      "958 \t DeltaGrad: Rapid retraining of machine learning models \t http://proceedings.mlr.press/v119/wu20b/wu20b.pdf\n",
      "959 \t On the Noisy Gradient Descent that Generalizes as SGD \t http://proceedings.mlr.press/v119/wu20c/wu20c.pdf\n",
      "960 \t Stronger and Faster Wasserstein Adversarial Attacks \t http://proceedings.mlr.press/v119/wu20d/wu20d.pdf\n",
      "961 \t Sequence Generation with Mixed Representations \t http://proceedings.mlr.press/v119/wu20e/wu20e.pdf\n",
      "962 \t Adversarial Robustness via Runtime Masking and Cleansing \t http://proceedings.mlr.press/v119/wu20f/wu20f.pdf\n",
      "963 \t On the Generalization Effects of Linear Transformations in Data Augmentation \t http://proceedings.mlr.press/v119/wu20g/wu20g.pdf\n",
      "964 \t Amortized Population Gibbs Samplers with Neural Sufficient Statistics \t http://proceedings.mlr.press/v119/wu20h/wu20h.pdf\n",
      "965 \t Continuous Graph Neural Networks \t http://proceedings.mlr.press/v119/xhonneux20a/xhonneux20a.pdf\n",
      "966 \t A Flexible Framework for Nonparametric Graphical Modeling that Accommodates Machine Learning \t http://proceedings.mlr.press/v119/xiang20a/xiang20a.pdf\n",
      "967 \t Generative Flows with Matrix Exponential \t http://proceedings.mlr.press/v119/xiao20a/xiao20a.pdf\n",
      "968 \t Disentangling Trainability and Generalization in Deep Neural Networks \t http://proceedings.mlr.press/v119/xiao20b/xiao20b.pdf\n",
      "969 \t Optimally Solving Two-Agent Decentralized POMDPs Under One-Sided Information Sharing \t http://proceedings.mlr.press/v119/xie20a/xie20a.pdf\n",
      "970 \t Maximum-and-Concatenation Networks \t http://proceedings.mlr.press/v119/xie20b/xie20b.pdf\n",
      "971 \t Zeno++: Robust Fully Asynchronous SGD \t http://proceedings.mlr.press/v119/xie20c/xie20c.pdf\n",
      "972 \t Lower Complexity Bounds for Finite-Sum Convex-Concave Minimax Optimization Problems \t http://proceedings.mlr.press/v119/xie20d/xie20d.pdf\n",
      "973 \t On the Number of Linear Regions of Convolutional Neural Networks \t http://proceedings.mlr.press/v119/xiong20a/xiong20a.pdf\n",
      "974 \t On Layer Normalization in the Transformer Architecture \t http://proceedings.mlr.press/v119/xiong20b/xiong20b.pdf\n",
      "975 \t On Variational Learning of Controllable Representations for Text without Supervision \t http://proceedings.mlr.press/v119/xu20a/xu20a.pdf\n",
      "976 \t Class-Weighted Classification: Trade-offs and Robust Approaches \t http://proceedings.mlr.press/v119/xu20b/xu20b.pdf\n",
      "977 \t A Finite-Time Analysis of Q-Learning with Neural Network Function Approximation \t http://proceedings.mlr.press/v119/xu20c/xu20c.pdf\n",
      "978 \t Understanding and Stabilizing GANs’ Training Dynamics Using Control Theory \t http://proceedings.mlr.press/v119/xu20d/xu20d.pdf\n",
      "979 \t Learning Autoencoders with Relational Regularization \t http://proceedings.mlr.press/v119/xu20e/xu20e.pdf\n",
      "980 \t Learning Factorized Weight Matrix for Joint Filtering \t http://proceedings.mlr.press/v119/xu20f/xu20f.pdf\n",
      "981 \t Variational Label Enhancement \t http://proceedings.mlr.press/v119/xu20g/xu20g.pdf\n",
      "982 \t Prediction-Guided Multi-Objective Reinforcement Learning for Continuous Robot Control \t http://proceedings.mlr.press/v119/xu20h/xu20h.pdf\n",
      "983 \t MetaFun: Meta-Learning with Iterative Functional Updates \t http://proceedings.mlr.press/v119/xu20i/xu20i.pdf\n",
      "984 \t Video Prediction via Example Guidance \t http://proceedings.mlr.press/v119/xu20j/xu20j.pdf\n",
      "985 \t Amortized Finite Element Analysis for Fast PDE-Constrained Optimization \t http://proceedings.mlr.press/v119/xue20a/xue20a.pdf\n",
      "986 \t Feature Selection using Stochastic Gates \t http://proceedings.mlr.press/v119/yamada20a/yamada20a.pdf\n",
      "987 \t Stochastic Optimization for Non-convex Inf-Projection Problems \t http://proceedings.mlr.press/v119/yan20a/yan20a.pdf\n",
      "988 \t Variational Bayesian Quantization \t http://proceedings.mlr.press/v119/yang20a/yang20a.pdf\n",
      "989 \t Energy-Based Processes for Exchangeable Data \t http://proceedings.mlr.press/v119/yang20b/yang20b.pdf\n",
      "990 \t Randomized Smoothing of All Shapes and Sizes \t http://proceedings.mlr.press/v119/yang20c/yang20c.pdf\n",
      "991 \t Q-value Path Decomposition for Deep Multiagent Reinforcement Learning \t http://proceedings.mlr.press/v119/yang20d/yang20d.pdf\n",
      "992 \t Improving Molecular Design by Stochastic Iterative Target Augmentation \t http://proceedings.mlr.press/v119/yang20e/yang20e.pdf\n",
      "993 \t On the consistency of top-k surrogate losses \t http://proceedings.mlr.press/v119/yang20f/yang20f.pdf\n",
      "994 \t Interpolation between Residual and Non-Residual Networks \t http://proceedings.mlr.press/v119/yang20g/yang20g.pdf\n",
      "995 \t Reinforcement Learning in Feature Space: Matrix Bandit, Kernels, and Regret Bound \t http://proceedings.mlr.press/v119/yang20h/yang20h.pdf\n",
      "996 \t Multi-Agent Determinantal Q-Learning \t http://proceedings.mlr.press/v119/yang20i/yang20i.pdf\n",
      "997 \t Rethinking Bias-Variance Trade-off for Generalization of Neural Networks \t http://proceedings.mlr.press/v119/yang20j/yang20j.pdf\n",
      "998 \t Unsupervised Transfer Learning for Spatiotemporal Predictive Networks \t http://proceedings.mlr.press/v119/yao20a/yao20a.pdf\n",
      "999 \t Searching to Exploit Memorization Effect in Learning with Noisy Labels \t http://proceedings.mlr.press/v119/yao20b/yao20b.pdf\n",
      "1000 \t Graph-based, Self-Supervised Program Repair from Diagnostic Feedback \t http://proceedings.mlr.press/v119/yasunaga20a/yasunaga20a.pdf\n",
      "1001 \t Pretrained Generalized Autoregressive Model with Adaptive Probabilistic Label Clusters for Extreme Multi-label Text Classification \t http://proceedings.mlr.press/v119/ye20a/ye20a.pdf\n",
      "1002 \t Good Subnetworks Provably Exist: Pruning via Greedy Forward Selection \t http://proceedings.mlr.press/v119/ye20b/ye20b.pdf\n",
      "1003 \t It’s Not What Machines Can Learn, It’s What We Cannot Teach \t http://proceedings.mlr.press/v119/yehuda20a/yehuda20a.pdf\n",
      "1004 \t Data Valuation using Reinforcement Learning \t http://proceedings.mlr.press/v119/yoon20a/yoon20a.pdf\n",
      "1005 \t XtarNet: Learning to Extract Task-Adaptive Representation for Incremental Few-Shot Learning \t http://proceedings.mlr.press/v119/yoon20b/yoon20b.pdf\n",
      "1006 \t Robustifying Sequential Neural Processes \t http://proceedings.mlr.press/v119/yoon20c/yoon20c.pdf\n",
      "1007 \t When Does Self-Supervision Help Graph Convolutional Networks? \t http://proceedings.mlr.press/v119/you20a/you20a.pdf\n",
      "1008 \t Graph Structure of Neural Networks \t http://proceedings.mlr.press/v119/you20b/you20b.pdf\n",
      "1009 \t Simultaneous Inference for Massive Data: Distributed Bootstrap \t http://proceedings.mlr.press/v119/yu20a/yu20a.pdf\n",
      "1010 \t Graphical Models Meet Bandits: A Variational Thompson Sampling Approach \t http://proceedings.mlr.press/v119/yu20b/yu20b.pdf\n",
      "1011 \t Label-Noise Robust Domain Adaptation \t http://proceedings.mlr.press/v119/yu20c/yu20c.pdf\n",
      "1012 \t Intrinsic Reward Driven Imitation Learning via Generative Model \t http://proceedings.mlr.press/v119/yu20d/yu20d.pdf\n",
      "1013 \t Graph Convolutional Network for Recommendation with Low-pass Collaborative Filters \t http://proceedings.mlr.press/v119/yu20e/yu20e.pdf\n",
      "1014 \t Federated Learning with Only Positive Labels \t http://proceedings.mlr.press/v119/yu20f/yu20f.pdf\n",
      "1015 \t Training Deep Energy-Based Models with f-Divergence Minimization \t http://proceedings.mlr.press/v119/yu20g/yu20g.pdf\n",
      "1016 \t Graph Random Neural Features for Distance-Preserving Graph Representations \t http://proceedings.mlr.press/v119/zambon20a/zambon20a.pdf\n",
      "1017 \t Learning Near Optimal Policies with Low Inherent Bellman Error \t http://proceedings.mlr.press/v119/zanette20a/zanette20a.pdf\n",
      "1018 \t Scaling up Hybrid Probabilistic Inference with Logical and Arithmetic Constraints via Message Passing \t http://proceedings.mlr.press/v119/zeng20a/zeng20a.pdf\n",
      "1019 \t Learning Calibratable Policies using Programmatic Style-Consistency \t http://proceedings.mlr.press/v119/zhan20a/zhan20a.pdf\n",
      "1020 \t Designing Optimal Dynamic Treatment Regimes: A Causal Reinforcement Learning Approach \t http://proceedings.mlr.press/v119/zhang20a/zhang20a.pdf\n",
      "1021 \t Robustness to Programmable String Transformations via Augmented Abstract Training \t http://proceedings.mlr.press/v119/zhang20b/zhang20b.pdf\n",
      "1022 \t Converging to Team-Maxmin Equilibria in Zero-Sum Multiplayer Games \t http://proceedings.mlr.press/v119/zhang20c/zhang20c.pdf\n",
      "1023 \t Generative Adversarial Imitation Learning with Neural Network Parameterization: Global Optimality and Convergence Rate \t http://proceedings.mlr.press/v119/zhang20d/zhang20d.pdf\n",
      "1024 \t Cautious Adaptation For Reinforcement Learning in Safety-Critical Settings \t http://proceedings.mlr.press/v119/zhang20e/zhang20e.pdf\n",
      "1025 \t Learning the Valuations of a\n",
      "k\n",
      "k\n",
      "-demand Agent \t http://proceedings.mlr.press/v119/zhang20f/zhang20f.pdf\n",
      "1026 \t A Tree-Structured Decoder for Image-to-Markup Generation \t http://proceedings.mlr.press/v119/zhang20g/zhang20g.pdf\n",
      "1027 \t Approximation Capabilities of Neural ODEs and Invertible Residual Networks \t http://proceedings.mlr.press/v119/zhang20h/zhang20h.pdf\n",
      "1028 \t Random Hypervolume Scalarizations for Provable Multi-Objective Black Box Optimization \t http://proceedings.mlr.press/v119/zhang20i/zhang20i.pdf\n",
      "1029 \t Spread Divergence \t http://proceedings.mlr.press/v119/zhang20j/zhang20j.pdf\n",
      "1030 \t Mix-n-Match : Ensemble and Compositional Methods for Uncertainty Calibration in Deep Learning \t http://proceedings.mlr.press/v119/zhang20k/zhang20k.pdf\n",
      "1031 \t Privately Learning Markov Random Fields \t http://proceedings.mlr.press/v119/zhang20l/zhang20l.pdf\n",
      "1032 \t Learning Structured Latent Factors from Dependent Data:A Generative Model Framework from Information-Theoretic Perspective \t http://proceedings.mlr.press/v119/zhang20m/zhang20m.pdf\n",
      "1033 \t Optimal Estimator for Unlabeled Linear Regression \t http://proceedings.mlr.press/v119/zhang20n/zhang20n.pdf\n",
      "1034 \t Dual-Path Distillation: A Unified Framework to Improve Black-Box Attacks \t http://proceedings.mlr.press/v119/zhang20o/zhang20o.pdf\n",
      "1035 \t Complexity of Finding Stationary Points of Nonconvex Nonsmooth Functions \t http://proceedings.mlr.press/v119/zhang20p/zhang20p.pdf\n",
      "1036 \t Self-Attentive Hawkes Process \t http://proceedings.mlr.press/v119/zhang20q/zhang20q.pdf\n",
      "1037 \t GradientDICE: Rethinking Generalized Offline Estimation of Stationary Values \t http://proceedings.mlr.press/v119/zhang20r/zhang20r.pdf\n",
      "1038 \t Provably Convergent Two-Timescale Off-Policy Actor-Critic with Function Approximation \t http://proceedings.mlr.press/v119/zhang20s/zhang20s.pdf\n",
      "1039 \t Invariant Causal Prediction for Block MDPs \t http://proceedings.mlr.press/v119/zhang20t/zhang20t.pdf\n",
      "1040 \t Adaptive Reward-Poisoning Attacks against Reinforcement Learning \t http://proceedings.mlr.press/v119/zhang20u/zhang20u.pdf\n",
      "1041 \t CAUSE: Learning Granger Causality from Event Sequences using Attribution Methods \t http://proceedings.mlr.press/v119/zhang20v/zhang20v.pdf\n",
      "1042 \t Convex Calibrated Surrogates for the Multi-Label F-Measure \t http://proceedings.mlr.press/v119/zhang20w/zhang20w.pdf\n",
      "1043 \t Sparsified Linear Programming for Zero-Sum Equilibrium Finding \t http://proceedings.mlr.press/v119/zhang20x/zhang20x.pdf\n",
      "1044 \t Fast Learning of Graph Neural Networks with Guaranteed Generalizability: One-hidden-layer Case \t http://proceedings.mlr.press/v119/zhang20y/zhang20y.pdf\n",
      "1045 \t Attacks Which Do Not Kill Training Make Adversarial Learning Stronger \t http://proceedings.mlr.press/v119/zhang20z/zhang20z.pdf\n",
      "1046 \t A Flexible Latent Space Model for Multilayer Networks \t http://proceedings.mlr.press/v119/zhang20aa/zhang20aa.pdf\n",
      "1047 \t Perceptual Generative Autoencoders \t http://proceedings.mlr.press/v119/zhang20ab/zhang20ab.pdf\n",
      "1048 \t Variance Reduction in Stochastic Particle-Optimization Sampling \t http://proceedings.mlr.press/v119/zhang20ac/zhang20ac.pdf\n",
      "1049 \t Learning with Feature and Distribution Evolvable Streams \t http://proceedings.mlr.press/v119/zhang20ad/zhang20ad.pdf\n",
      "1050 \t PEGASUS: Pre-training with Extracted Gap-sentences for Abstractive Summarization \t http://proceedings.mlr.press/v119/zhang20ae/zhang20ae.pdf\n",
      "1051 \t On Leveraging Pretrained GANs for Generation with Limited Data \t http://proceedings.mlr.press/v119/zhao20a/zhao20a.pdf\n",
      "1052 \t On Learning Language-Invariant Representations for Universal Machine Translation \t http://proceedings.mlr.press/v119/zhao20b/zhao20b.pdf\n",
      "1053 \t Do RNN and LSTM have Long Memory? \t http://proceedings.mlr.press/v119/zhao20c/zhao20c.pdf\n",
      "1054 \t Feature Quantization Improves GAN Training \t http://proceedings.mlr.press/v119/zhao20d/zhao20d.pdf\n",
      "1055 \t Individual Calibration with Randomized Forecasting \t http://proceedings.mlr.press/v119/zhao20e/zhao20e.pdf\n",
      "1056 \t Smaller, more accurate regression forests using tree alternating optimization \t http://proceedings.mlr.press/v119/zharmagambetov20a/zharmagambetov20a.pdf\n",
      "1057 \t Learning to Learn Kernels with Variational Random Features \t http://proceedings.mlr.press/v119/zhen20a/zhen20a.pdf\n",
      "1058 \t Sharp Composition Bounds for Gaussian Differential Privacy via Edgeworth Expansion \t http://proceedings.mlr.press/v119/zheng20a/zheng20a.pdf\n",
      "1059 \t What Can Learned Intrinsic Rewards Capture? \t http://proceedings.mlr.press/v119/zheng20b/zheng20b.pdf\n",
      "1060 \t Error-Bounded Correction of Noisy Labels \t http://proceedings.mlr.press/v119/zheng20c/zheng20c.pdf\n",
      "1061 \t Robust Graph Representation Learning via Neural Sparsification \t http://proceedings.mlr.press/v119/zheng20d/zheng20d.pdf\n",
      "1062 \t Bisection-Based Pricing for Repeated Contextual Auctions against Strategic Buyer \t http://proceedings.mlr.press/v119/zhiyanov20a/zhiyanov20a.pdf\n",
      "1063 \t Best Arm Identification for Cascading Bandits in the Fixed Confidence Setting \t http://proceedings.mlr.press/v119/zhong20a/zhong20a.pdf\n",
      "1064 \t Neural Contextual Bandits with UCB-based Exploration \t http://proceedings.mlr.press/v119/zhou20a/zhou20a.pdf\n",
      "1065 \t MoNet3D: Towards Accurate Monocular 3D Object Localization in Real Time \t http://proceedings.mlr.press/v119/zhou20b/zhou20b.pdf\n",
      "1066 \t Nonparametric Score Estimators \t http://proceedings.mlr.press/v119/zhou20c/zhou20c.pdf\n",
      "1067 \t Time-Consistent Self-Supervision for Semi-Supervised Learning \t http://proceedings.mlr.press/v119/zhou20d/zhou20d.pdf\n",
      "1068 \t Divide, Conquer, and Combine: a New Inference Strategy for Probabilistic Programs with Stochastic Support \t http://proceedings.mlr.press/v119/zhou20e/zhou20e.pdf\n",
      "1069 \t Go Wide, Then Narrow: Efficient Training of Deep Thin Networks \t http://proceedings.mlr.press/v119/zhou20f/zhou20f.pdf\n",
      "1070 \t Hybrid Stochastic-Deterministic Minibatch Proximal Gradient: Less-Than-Single-Pass Optimization with Nearly Optimal Generalization \t http://proceedings.mlr.press/v119/zhou20g/zhou20g.pdf\n",
      "1071 \t Robust Outlier Arm Identification \t http://proceedings.mlr.press/v119/zhu20a/zhu20a.pdf\n",
      "1072 \t Variance Reduction and Quasi-Newton for Particle-Based Variational Inference \t http://proceedings.mlr.press/v119/zhu20b/zhu20b.pdf\n",
      "1073 \t Causal Effect Estimation and Optimal Dose Suggestions in Mobile Health \t http://proceedings.mlr.press/v119/zhu20c/zhu20c.pdf\n",
      "1074 \t Thompson Sampling Algorithms for Mean-Variance Bandits \t http://proceedings.mlr.press/v119/zhu20d/zhu20d.pdf\n",
      "1075 \t Learning Adversarially Robust Representations via Worst-Case Mutual Information Maximization \t http://proceedings.mlr.press/v119/zhu20e/zhu20e.pdf\n",
      "1076 \t Linear Convergence of Randomized Primal-Dual Coordinate Method for Large-scale Linear Constrained Convex Programming \t http://proceedings.mlr.press/v119/zhu20f/zhu20f.pdf\n",
      "1077 \t When Demands Evolve Larger and Noisier: Learning and Earning in a Growing Environment \t http://proceedings.mlr.press/v119/zhu20g/zhu20g.pdf\n",
      "1078 \t Adaptive Checkpoint Adjoint Method for Gradient Estimation in Neural ODE \t http://proceedings.mlr.press/v119/zhuang20a/zhuang20a.pdf\n",
      "1079 \t Learning Optimal Tree Models under Beam Search \t http://proceedings.mlr.press/v119/zhuo20a/zhuo20a.pdf\n",
      "1080 \t Laplacian Regularized Few-Shot Learning \t http://proceedings.mlr.press/v119/ziko20a/ziko20a.pdf\n",
      "1081 \t Influenza Forecasting Framework based on Gaussian Processes \t http://proceedings.mlr.press/v119/zimmer20a/zimmer20a.pdf\n",
      "1082 \t A general recurrent state space framework for modeling neural dynamics during decision-making \t http://proceedings.mlr.press/v119/zoltowski20a/zoltowski20a.pdf\n",
      "1083 \t Transformer Hawkes Process \t http://proceedings.mlr.press/v119/zuo20a/zuo20a.pdf\n"
     ]
    }
   ],
   "source": [
    "for i, url in enumerate(pdfurllist):\n",
    "    if url != None :      \n",
    "        print(i, '\\t', pdfnamelist[i], '\\t', pdfurllist[i])\n",
    "        data = urllib.request.urlopen(pdfurllist[i]).read()\n",
    "        # pdfname = pdfnamelist[i].replace('?', '').replace('\"', '').replace('\\\\', '').replace('/', '').replace('*', ''). \\\n",
    "        #                                             replace('>', '').replace('<', '').replace('|', '').replace(':', '.')\n",
    "        pdfname = slugify(pdfnamelist[i])\n",
    "        with open(root+'/'+pdfname+\".pdf\", 'wb')  as f:\n",
    "            f.write(data)  \n",
    "        _ = time.sleep(random.uniform(4,5))"
   ]
  },
  {
   "cell_type": "code",
   "execution_count": null,
   "metadata": {},
   "outputs": [],
   "source": []
  },
  {
   "cell_type": "code",
   "execution_count": null,
   "metadata": {},
   "outputs": [],
   "source": []
  },
  {
   "cell_type": "code",
   "execution_count": null,
   "metadata": {},
   "outputs": [],
   "source": []
  },
  {
   "cell_type": "code",
   "execution_count": null,
   "metadata": {},
   "outputs": [],
   "source": []
  },
  {
   "cell_type": "code",
   "execution_count": null,
   "metadata": {},
   "outputs": [],
   "source": []
  },
  {
   "cell_type": "code",
   "execution_count": null,
   "metadata": {},
   "outputs": [],
   "source": []
  },
  {
   "cell_type": "code",
   "execution_count": null,
   "metadata": {},
   "outputs": [],
   "source": []
  },
  {
   "cell_type": "code",
   "execution_count": null,
   "metadata": {},
   "outputs": [],
   "source": []
  },
  {
   "cell_type": "code",
   "execution_count": 53,
   "metadata": {},
   "outputs": [
    {
     "output_type": "execute_result",
     "data": {
      "text/plain": [
       "2272358"
      ]
     },
     "metadata": {},
     "execution_count": 53
    }
   ],
   "source": [
    "# pdfname = shorturl[shorturl.rindex(\"/\")+1:]\n",
    "data = urllib.request.urlopen(pdfurllist[1]).read()\n",
    "with open(pdfnamelist[1]+\".pdf\", 'wb')  as f:\n",
    "    f.write(data)  \n",
    "time.sleep(random.uniform(4,5))"
   ]
  },
  {
   "cell_type": "code",
   "execution_count": 25,
   "metadata": {},
   "outputs": [
    {
     "output_type": "execute_result",
     "data": {
      "text/plain": [
       "'Beyond Fully-Connected Layers with Quaternions. Parameterization of Hypercomplex Multiplications with\\n1n\\nParameters'"
      ]
     },
     "metadata": {},
     "execution_count": 25
    }
   ],
   "source": [
    "'Beyond Fully-Connected Layers with Quaternions. Parameterization of Hypercomplex Multiplications with\\n1n\\nParameters'[:255]#.replace('\\\\', '')"
   ]
  },
  {
   "cell_type": "code",
   "execution_count": 28,
   "metadata": {},
   "outputs": [
    {
     "output_type": "execute_result",
     "data": {
      "text/plain": [
       "'beyond-fully-connected-layers-with-quaternions-parameterization-of-hypercomplex-multiplications-with-1n-parameters'"
      ]
     },
     "metadata": {},
     "execution_count": 28
    }
   ],
   "source": [
    "slugify('Beyond Fully-Connected Layers with Quaternions. Parameterization of Hypercomplex Multiplications with\\n1n\\nParameters')"
   ]
  },
  {
   "cell_type": "code",
   "execution_count": 27,
   "metadata": {},
   "outputs": [
    {
     "output_type": "execute_result",
     "data": {
      "text/plain": [
       "'Beyond Fully-Connected Layers with Quaternions. Parameterization of Hypercomplex Multiplications with1nParameters'"
      ]
     },
     "metadata": {},
     "execution_count": 27
    }
   ],
   "source": [
    "\"\".join( x for x in 'Beyond Fully-Connected Layers with Quaternions. Parameterization of Hypercomplex Multiplications with\\n1n\\nParameters' if (x.isalnum() or x in \"._- \"))"
   ]
  },
  {
   "cell_type": "code",
   "execution_count": null,
   "metadata": {},
   "outputs": [],
   "source": [
    "\n",
    "# driver = webdriver.Chrome('C:\\Program Files (x86)\\Google\\Chrome\\Application\\chromedriver.exe')  \n",
    "\n",
    "# driver.get(\"https://openreview.net/group?id=ICLR.cc/2021/Conference\")\n",
    "# # elem = driver.find_element_by_id(\"ext-gen67\")\n",
    "# # #elem.send_keys(Keys.RETURN)\n",
    "# # print(elem)\n",
    "# # elem.click()\n",
    "\n",
    "# i= 0\n",
    "# elementllist =  driver.find_elements_by_name(\"FullTextPDF\")\n",
    "# pdfurllist =  []\n",
    "\n",
    "# for element in elementllist: \n",
    "#     pdfurllist.append(element.get_attribute('href'))\n",
    "#     i = i+1\n",
    "\n",
    "# import os\n",
    "# os.mkdir(\"chi2012\")\n",
    "\n",
    "# i = 0\n",
    "# for url in pdfurllist:\n",
    "#     if url != None :      \n",
    "#         i = i+1\n",
    "#         print i\n",
    "#         driver.get(url)\n",
    "#         pdf = driver.current_url\n",
    "#         shorturl = pdf[0:pdf.index(\".pdf\")]\n",
    "#         pdfname = shorturl[shorturl.rindex(\"/\")+1:]\n",
    "#         print pdfname\n",
    "#         data = urllib.urlopen(pdf).read()\n",
    "#         f = open(\"pdf\\\\\"+pdfname+\".pdf\", 'wb')  \n",
    "#         f.write(data)  \n",
    "#         f.close()  \n",
    "\n",
    "# driver.close()"
   ]
  }
 ]
}